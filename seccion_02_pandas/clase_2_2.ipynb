{
 "cells": [
  {
   "cell_type": "markdown",
   "id": "7b2e9ae2",
   "metadata": {},
   "source": [
    "# CLASE 2.2: MANIPULACIÓN DE DATOS EN SERIES Y DATAFRAMES.\n",
    "---\n",
    "\n",
    "## Carga y guardado de datos en Pandas.\n",
    "En general, cuando recibimos información para la posterior realización de un estudio o análisis, ésta suele venir en una gran cantidad de formatos, y que dependerán por supuesto del tipo de tarea que necesitemos realizar. La data que es objeto de análisis suele venir en un formato de tabla típico de softwares tales como Microsoft Excel® u otros, y que incluye extensiones de archivo tales como `.txt`, `.csv` o `.xlsx`. Para una gran cantidad de estas extensiones, **Pandas** nos ofrece una gran cantidad de funciones para cargar los datos contenidos en estos archivos en series o DataFrames.\n",
    "\n",
    "Un ejemplo de función de carga de archivos en **Pandas** corresponde a `pd.read_excel()`, la que permite cargar cualquier archivo con extensión` .xlsx` típico de Microsoft Excel® en una serie o DataFrame, según sea el caso. Esta función tiene como único argumento obligatorio a `io`, que corresponde a la ruta del archivo al que queremos acceder. Otros argumentos opcionales incluyen `sheet_name`, que es el nombre de la hoja del libro de Excel® a la que queremos acceder; `engine`, que corresponde al motor de lectura de archivos que se usará para acceder al mismo (nosotros, puntualmente, usaremos uno que viene por defecto en una instalación de Anaconda®, llamado `openpyxl`; sin embargo, si por alguna razón no se encuentra instalado en nuestras dependencias, siempre podremos hacerlo nosotros mismos mediante la instrucción `pip install openpyxl`); y `decimal`, que corresponde a un string que denota el separador de decimales utilizado en el archivo (por defecto, dicho separador es `,`).\n",
    "\n",
    "Podemos cargar el archivo `pillars_data.xlsx`, ubicado en la ruta `/seccion_02_pandas/datasets`, a fin de probar esta función:"
   ]
  },
  {
   "cell_type": "code",
   "execution_count": 1,
   "id": "81c84b06",
   "metadata": {},
   "outputs": [],
   "source": [
    "import numpy as np\n",
    "import pandas as pd"
   ]
  },
  {
   "cell_type": "code",
   "execution_count": 2,
   "id": "881f80ab",
   "metadata": {},
   "outputs": [],
   "source": [
    "# Carga de archivos de Excel (extensión .xlsx).\n",
    "data = pd.read_excel(io=\"datasets/pillars_data.xlsx\", engine=\"openpyxl\")"
   ]
  },
  {
   "cell_type": "markdown",
   "id": "b5adca95",
   "metadata": {},
   "source": [
    "Revisemos la geometría de este DataFrame mediante su atributo `shape` (que se hereda igualmente desde **Numpy**):"
   ]
  },
  {
   "cell_type": "code",
   "execution_count": 3,
   "id": "1f135208",
   "metadata": {},
   "outputs": [
    {
     "data": {
      "text/plain": [
       "(923, 7)"
      ]
     },
     "execution_count": 3,
     "metadata": {},
     "output_type": "execute_result"
    }
   ],
   "source": [
    "# Geometría de nuestro DataFrame.\n",
    "data.shape"
   ]
  },
  {
   "cell_type": "markdown",
   "id": "921b79dd",
   "metadata": {},
   "source": [
    "Este DataFrame tiene 923 filas, así que usaremos el método `head()` para verificar sus primeras 5 filas:"
   ]
  },
  {
   "cell_type": "code",
   "execution_count": 4,
   "id": "f920d803",
   "metadata": {},
   "outputs": [
    {
     "data": {
      "text/html": [
       "<div>\n",
       "<style scoped>\n",
       "    .dataframe tbody tr th:only-of-type {\n",
       "        vertical-align: middle;\n",
       "    }\n",
       "\n",
       "    .dataframe tbody tr th {\n",
       "        vertical-align: top;\n",
       "    }\n",
       "\n",
       "    .dataframe thead th {\n",
       "        text-align: right;\n",
       "    }\n",
       "</style>\n",
       "<table border=\"1\" class=\"dataframe\">\n",
       "  <thead>\n",
       "    <tr style=\"text-align: right;\">\n",
       "      <th></th>\n",
       "      <th>x</th>\n",
       "      <th>y</th>\n",
       "      <th>z</th>\n",
       "      <th>area</th>\n",
       "      <th>frec_fracturas</th>\n",
       "      <th>sigma_z</th>\n",
       "      <th>tiraje_prom</th>\n",
       "    </tr>\n",
       "  </thead>\n",
       "  <tbody>\n",
       "    <tr>\n",
       "      <th>0</th>\n",
       "      <td>1006.1766</td>\n",
       "      <td>488.6437</td>\n",
       "      <td>2346</td>\n",
       "      <td>286.5643</td>\n",
       "      <td>1.979</td>\n",
       "      <td>11.126392</td>\n",
       "      <td>122.685</td>\n",
       "    </tr>\n",
       "    <tr>\n",
       "      <th>1</th>\n",
       "      <td>1040.6020</td>\n",
       "      <td>492.5178</td>\n",
       "      <td>2346</td>\n",
       "      <td>286.5643</td>\n",
       "      <td>3.070</td>\n",
       "      <td>9.646313</td>\n",
       "      <td>121.178</td>\n",
       "    </tr>\n",
       "    <tr>\n",
       "      <th>2</th>\n",
       "      <td>1075.0274</td>\n",
       "      <td>496.3919</td>\n",
       "      <td>2346</td>\n",
       "      <td>286.5643</td>\n",
       "      <td>3.070</td>\n",
       "      <td>10.590594</td>\n",
       "      <td>118.942</td>\n",
       "    </tr>\n",
       "    <tr>\n",
       "      <th>3</th>\n",
       "      <td>1109.4528</td>\n",
       "      <td>500.2660</td>\n",
       "      <td>2346</td>\n",
       "      <td>286.5643</td>\n",
       "      <td>1.750</td>\n",
       "      <td>10.605144</td>\n",
       "      <td>120.012</td>\n",
       "    </tr>\n",
       "    <tr>\n",
       "      <th>4</th>\n",
       "      <td>1143.8782</td>\n",
       "      <td>504.1401</td>\n",
       "      <td>2346</td>\n",
       "      <td>286.5643</td>\n",
       "      <td>0.670</td>\n",
       "      <td>10.059537</td>\n",
       "      <td>122.787</td>\n",
       "    </tr>\n",
       "  </tbody>\n",
       "</table>\n",
       "</div>"
      ],
      "text/plain": [
       "           x         y     z      area  frec_fracturas    sigma_z  tiraje_prom\n",
       "0  1006.1766  488.6437  2346  286.5643           1.979  11.126392      122.685\n",
       "1  1040.6020  492.5178  2346  286.5643           3.070   9.646313      121.178\n",
       "2  1075.0274  496.3919  2346  286.5643           3.070  10.590594      118.942\n",
       "3  1109.4528  500.2660  2346  286.5643           1.750  10.605144      120.012\n",
       "4  1143.8782  504.1401  2346  286.5643           0.670  10.059537      122.787"
      ]
     },
     "execution_count": 4,
     "metadata": {},
     "output_type": "execute_result"
    }
   ],
   "source": [
    "# Imprimimos en pantalla las primeras 5 filas de nuestro DataFrame.\n",
    "data.head()"
   ]
  },
  {
   "cell_type": "markdown",
   "id": "7d1510cf",
   "metadata": {},
   "source": [
    "La carga de datos desde archivos con extensión `.xlsx` suele ser muy lenta. Por esa razón, es preferible cargar data desde archivos que sean de menor complejidad. Un ejemplo de este tipo de archivos corresponde a aquellos con extensión `.csv` (valores separados por comas), debido a que éstos consumen mucha menos memoria que aquellos generados por defecto en Microsoft Excel®.\n",
    "\n",
    "Para testear la diferencia en el tiempo de carga de archivos en **Pandas** con ambos tipos de formato, primero guardaremos nuestro DataFrame en formato `.csv`. Para ello, podemos utilizar el método `to_csv()` aplicado sobre nuestro DataFrame, considerando la ruta y el nombre de archivo con el cual guardaremos esta data:"
   ]
  },
  {
   "cell_type": "code",
   "execution_count": 5,
   "id": "5f3ca202",
   "metadata": {},
   "outputs": [],
   "source": [
    "# Guardamos nuestra data en un archivo de valores separados por comas (.csv).\n",
    "data.to_csv(\"datasets/pillars_data.csv\")"
   ]
  },
  {
   "cell_type": "markdown",
   "id": "e7d33965",
   "metadata": {},
   "source": [
    "La carga de datos desde archivos con extensión `.csv` en **Pandas** puede realizarse mediante el uso de la función `pd.read_csv()`, cuyo único argumento obligatorio es `filepath_or_buffer`, y que corresponde a la ruta del archivo desde el cual cargamos nuestros datos. Esta función también comparte varios argumentos con `pd.read_excel()`, como `decimal`, y que cumple la misma función:"
   ]
  },
  {
   "cell_type": "code",
   "execution_count": 6,
   "id": "930bccf6",
   "metadata": {},
   "outputs": [],
   "source": [
    "# Volvemos a cargar nuestra data, pero esta vez desde un archivo .csv.\n",
    "data = pd.read_csv(filepath_or_buffer=\"datasets/pillars_data.csv\")"
   ]
  },
  {
   "cell_type": "markdown",
   "id": "1c2168a4",
   "metadata": {},
   "source": [
    "Vemos que se trata casi exactamente del mismo archivo:"
   ]
  },
  {
   "cell_type": "code",
   "execution_count": 7,
   "id": "6f22e5ed",
   "metadata": {},
   "outputs": [
    {
     "data": {
      "text/html": [
       "<div>\n",
       "<style scoped>\n",
       "    .dataframe tbody tr th:only-of-type {\n",
       "        vertical-align: middle;\n",
       "    }\n",
       "\n",
       "    .dataframe tbody tr th {\n",
       "        vertical-align: top;\n",
       "    }\n",
       "\n",
       "    .dataframe thead th {\n",
       "        text-align: right;\n",
       "    }\n",
       "</style>\n",
       "<table border=\"1\" class=\"dataframe\">\n",
       "  <thead>\n",
       "    <tr style=\"text-align: right;\">\n",
       "      <th></th>\n",
       "      <th>Unnamed: 0</th>\n",
       "      <th>x</th>\n",
       "      <th>y</th>\n",
       "      <th>z</th>\n",
       "      <th>area</th>\n",
       "      <th>frec_fracturas</th>\n",
       "      <th>sigma_z</th>\n",
       "      <th>tiraje_prom</th>\n",
       "    </tr>\n",
       "  </thead>\n",
       "  <tbody>\n",
       "    <tr>\n",
       "      <th>0</th>\n",
       "      <td>0</td>\n",
       "      <td>1006.1766</td>\n",
       "      <td>488.6437</td>\n",
       "      <td>2346</td>\n",
       "      <td>286.5643</td>\n",
       "      <td>1.979</td>\n",
       "      <td>11.126392</td>\n",
       "      <td>122.685</td>\n",
       "    </tr>\n",
       "    <tr>\n",
       "      <th>1</th>\n",
       "      <td>1</td>\n",
       "      <td>1040.6020</td>\n",
       "      <td>492.5178</td>\n",
       "      <td>2346</td>\n",
       "      <td>286.5643</td>\n",
       "      <td>3.070</td>\n",
       "      <td>9.646313</td>\n",
       "      <td>121.178</td>\n",
       "    </tr>\n",
       "    <tr>\n",
       "      <th>2</th>\n",
       "      <td>2</td>\n",
       "      <td>1075.0274</td>\n",
       "      <td>496.3919</td>\n",
       "      <td>2346</td>\n",
       "      <td>286.5643</td>\n",
       "      <td>3.070</td>\n",
       "      <td>10.590594</td>\n",
       "      <td>118.942</td>\n",
       "    </tr>\n",
       "    <tr>\n",
       "      <th>3</th>\n",
       "      <td>3</td>\n",
       "      <td>1109.4528</td>\n",
       "      <td>500.2660</td>\n",
       "      <td>2346</td>\n",
       "      <td>286.5643</td>\n",
       "      <td>1.750</td>\n",
       "      <td>10.605144</td>\n",
       "      <td>120.012</td>\n",
       "    </tr>\n",
       "    <tr>\n",
       "      <th>4</th>\n",
       "      <td>4</td>\n",
       "      <td>1143.8782</td>\n",
       "      <td>504.1401</td>\n",
       "      <td>2346</td>\n",
       "      <td>286.5643</td>\n",
       "      <td>0.670</td>\n",
       "      <td>10.059537</td>\n",
       "      <td>122.787</td>\n",
       "    </tr>\n",
       "  </tbody>\n",
       "</table>\n",
       "</div>"
      ],
      "text/plain": [
       "   Unnamed: 0          x         y     z      area  frec_fracturas    sigma_z  \\\n",
       "0           0  1006.1766  488.6437  2346  286.5643           1.979  11.126392   \n",
       "1           1  1040.6020  492.5178  2346  286.5643           3.070   9.646313   \n",
       "2           2  1075.0274  496.3919  2346  286.5643           3.070  10.590594   \n",
       "3           3  1109.4528  500.2660  2346  286.5643           1.750  10.605144   \n",
       "4           4  1143.8782  504.1401  2346  286.5643           0.670  10.059537   \n",
       "\n",
       "   tiraje_prom  \n",
       "0      122.685  \n",
       "1      121.178  \n",
       "2      118.942  \n",
       "3      120.012  \n",
       "4      122.787  "
      ]
     },
     "execution_count": 7,
     "metadata": {},
     "output_type": "execute_result"
    }
   ],
   "source": [
    "# Esta es la misma data que antes, sólo que cargada desde un archivo más liviano.\n",
    "data.head()"
   ]
  },
  {
   "cell_type": "markdown",
   "id": "c99f332a",
   "metadata": {},
   "source": [
    "Observamos que el archivo cargado previamente tiene una columna adicional cuyo nombre es `\"Unnamed: 0\"`. La razón de aquello es porque, al guardar un DataFrame mediante el método` to_csv()`, el índice de filas asignado por defecto al mismo se guarda también. Para evitar guardar un el índice de un DataFrame junto con sus datos, basta con especificar el argumento `index` en el método `to_csv()` con valor igual a `False`.\n",
    "\n",
    "Previo a hacer esto, primero eliminaremos la columna `\"Unnamed: 0\"`. Para eliminar cualquier fila o columna en un DataFrame, podemos usar siempre el método `drop()` para eliminar cualquier fila o columna, especificando para ello el eje estructural que sirve como referencia para la correspondiente eliminación (`axis=0` para las filas, y `axis=1` para las columnas, similar a lo que ocurre en arreglos bidimensionales de **Numpy**). Por supuesto, `drop()` requiere que especifiquemos el índice asociado a la fila o columna (o conjunto de filas o columnas) que deseamos eliminar. Finalmente, usamos el argumento `inplace` (que es de tipo Booleano) para indicar a **Pandas** que la eliminación se realiza sobre la serie o DataFrame en cuestión, guardando los cambios una vez que éstos se realizan. De este modo, para eliminar la columna` \"Unnamed: 0\"`, basta con escribir:"
   ]
  },
  {
   "cell_type": "code",
   "execution_count": 8,
   "id": "3a7cb693",
   "metadata": {},
   "outputs": [],
   "source": [
    "# Eliminamos la columna 'Unnamed: 0'.\n",
    "data.drop(\"Unnamed: 0\", axis=1, inplace=True)"
   ]
  },
  {
   "cell_type": "markdown",
   "id": "17fd2889",
   "metadata": {},
   "source": [
    "Ahora guardamos nuestro DataFrame, ignorando el índice de filas:"
   ]
  },
  {
   "cell_type": "code",
   "execution_count": 9,
   "id": "dcce9567",
   "metadata": {},
   "outputs": [],
   "source": [
    "# Guardamos nuestro DataFrame en formato .csv, descartando el índice de filas.\n",
    "data.to_csv(\"datasets/pillars_data.csv\", index=False)"
   ]
  },
  {
   "cell_type": "markdown",
   "id": "8df27a2b",
   "metadata": {},
   "source": [
    "Vemos que ahora, si cargamos nuestra data y la imprimimos en pantalla, no existirá la columna `\"Unnamed: 0\"`:"
   ]
  },
  {
   "cell_type": "code",
   "execution_count": 10,
   "id": "baeaaa20",
   "metadata": {},
   "outputs": [
    {
     "data": {
      "text/html": [
       "<div>\n",
       "<style scoped>\n",
       "    .dataframe tbody tr th:only-of-type {\n",
       "        vertical-align: middle;\n",
       "    }\n",
       "\n",
       "    .dataframe tbody tr th {\n",
       "        vertical-align: top;\n",
       "    }\n",
       "\n",
       "    .dataframe thead th {\n",
       "        text-align: right;\n",
       "    }\n",
       "</style>\n",
       "<table border=\"1\" class=\"dataframe\">\n",
       "  <thead>\n",
       "    <tr style=\"text-align: right;\">\n",
       "      <th></th>\n",
       "      <th>x</th>\n",
       "      <th>y</th>\n",
       "      <th>z</th>\n",
       "      <th>area</th>\n",
       "      <th>frec_fracturas</th>\n",
       "      <th>sigma_z</th>\n",
       "      <th>tiraje_prom</th>\n",
       "    </tr>\n",
       "  </thead>\n",
       "  <tbody>\n",
       "    <tr>\n",
       "      <th>0</th>\n",
       "      <td>1006.1766</td>\n",
       "      <td>488.6437</td>\n",
       "      <td>2346</td>\n",
       "      <td>286.5643</td>\n",
       "      <td>1.979</td>\n",
       "      <td>11.126392</td>\n",
       "      <td>122.685</td>\n",
       "    </tr>\n",
       "    <tr>\n",
       "      <th>1</th>\n",
       "      <td>1040.6020</td>\n",
       "      <td>492.5178</td>\n",
       "      <td>2346</td>\n",
       "      <td>286.5643</td>\n",
       "      <td>3.070</td>\n",
       "      <td>9.646313</td>\n",
       "      <td>121.178</td>\n",
       "    </tr>\n",
       "    <tr>\n",
       "      <th>2</th>\n",
       "      <td>1075.0274</td>\n",
       "      <td>496.3919</td>\n",
       "      <td>2346</td>\n",
       "      <td>286.5643</td>\n",
       "      <td>3.070</td>\n",
       "      <td>10.590594</td>\n",
       "      <td>118.942</td>\n",
       "    </tr>\n",
       "    <tr>\n",
       "      <th>3</th>\n",
       "      <td>1109.4528</td>\n",
       "      <td>500.2660</td>\n",
       "      <td>2346</td>\n",
       "      <td>286.5643</td>\n",
       "      <td>1.750</td>\n",
       "      <td>10.605144</td>\n",
       "      <td>120.012</td>\n",
       "    </tr>\n",
       "    <tr>\n",
       "      <th>4</th>\n",
       "      <td>1143.8782</td>\n",
       "      <td>504.1401</td>\n",
       "      <td>2346</td>\n",
       "      <td>286.5643</td>\n",
       "      <td>0.670</td>\n",
       "      <td>10.059537</td>\n",
       "      <td>122.787</td>\n",
       "    </tr>\n",
       "  </tbody>\n",
       "</table>\n",
       "</div>"
      ],
      "text/plain": [
       "           x         y     z      area  frec_fracturas    sigma_z  tiraje_prom\n",
       "0  1006.1766  488.6437  2346  286.5643           1.979  11.126392      122.685\n",
       "1  1040.6020  492.5178  2346  286.5643           3.070   9.646313      121.178\n",
       "2  1075.0274  496.3919  2346  286.5643           3.070  10.590594      118.942\n",
       "3  1109.4528  500.2660  2346  286.5643           1.750  10.605144      120.012\n",
       "4  1143.8782  504.1401  2346  286.5643           0.670  10.059537      122.787"
      ]
     },
     "execution_count": 10,
     "metadata": {},
     "output_type": "execute_result"
    }
   ],
   "source": [
    "# Cargamos nuestra data nuevamente.\n",
    "data = pd.read_csv(filepath_or_buffer=\"datasets/pillars_data.csv\")\n",
    "data.head()"
   ]
  },
  {
   "cell_type": "markdown",
   "id": "7c387272",
   "metadata": {},
   "source": [
    "Si tomamos el tiempo de ejecución de ambas funciones de carga de archivos, veremos que la función `pd.read_csv()` es muchísimo más rápida que `pd.read_excel()` al abrir el mismo archivo con extensiones diferentes:"
   ]
  },
  {
   "cell_type": "code",
   "execution_count": 11,
   "id": "f49b7cc7",
   "metadata": {},
   "outputs": [
    {
     "name": "stdout",
     "output_type": "stream",
     "text": [
      "101 ms ± 3.05 ms per loop (mean ± std. dev. of 7 runs, 10 loops each)\n"
     ]
    }
   ],
   "source": [
    "%timeit pd.read_excel(io=\"datasets/pillars_data.xlsx\", engine=\"openpyxl\")"
   ]
  },
  {
   "cell_type": "code",
   "execution_count": 12,
   "id": "31fde079",
   "metadata": {},
   "outputs": [
    {
     "name": "stdout",
     "output_type": "stream",
     "text": [
      "2.61 ms ± 72.1 µs per loop (mean ± std. dev. of 7 runs, 100 loops each)\n"
     ]
    }
   ],
   "source": [
    "%timeit pd.read_csv(filepath_or_buffer=\"datasets/pillars_data.csv\")"
   ]
  },
  {
   "cell_type": "markdown",
   "id": "e43e71b2",
   "metadata": {},
   "source": [
    "¡`pd.read_csv()` fue casi 40 veces más rápida que `pd.read_excel()`, siendo que ambos archivos tenían almacenada la misma data!\n",
    "\n",
    "## Iteraciones sobre filas.\n",
    "\n",
    "### Algunos comentarios en relación al tiempo de ejecución.\n",
    "Con iteraciones sobre filas nos referimos a cualquier cálculo repetitivo que se realice sobre todas las filas de una estructura de datos de **Pandas** (ya sea una serie o un DataFrame), una a la vez. Estas operaciones suelen tener un tiempo de ejecución lento y que motiva, de hecho, a que **Pandas** nos ofrezca una amigable advertencia en su [documentación oficial](https://pandas.pydata.org/pandas-docs/stable/user_guide/basics.html#iteration) relativa al hecho de que, en efecto, este es un proceso que tarda más tiempo del que quizás nos gustaría esperar. Por lo tanto, antes de proceder a iterar sobre filas, debemos detenernos a pensar en qué queremos hacer con cada una de ellas, y empaquetar dicha acción en alguna función que aplicaremos posteriormente sobre nuestra serie o DataFrame mediante el método `apply()`\n",
    "\n",
    "Antes de proceder a explicar cómo generar iteraciones sobre filas, nos detendremos un poco a comentar cómo aplicar funciones sobre una serie o DataFrame mediante el uso del método `apply()`. Dicho método es propio de cualquiera de estas estructuras de datos, y permite aplicar cualquier función previamente definida sobre todos los datos de una serie o DataFrame, o bien, sobre los datos que están referenciados por algún eje (filas o columnas).\n",
    "\n",
    "De la misma forma que ocurre con los arreglos bidimensionales, los DataFrames son estructuras que están ordenadas siguiendo una convención que justifica su geometría. Tal convención es exactamente la misma que la usada en **Numpy** para tales arreglos, y hace uso de los ejes 0 y 1 para hacer referencia a operaciones que aplican ya sea sobre filas o columnas, respectivamente. Esta referencia, igualmente, se explicita mediante el argumento axis, y es algo que ya vimos al usar el método `drop()`.\n",
    "\n",
    "Los ejes que definen la geometría de un arreglo se ilustran en el esquema de la Fig. (2.1):\n",
    "\n",
    "![alt text](https://github.com/rquezadac/udd_data_analytics_lectures/blob/main/seccion_02_pandas/figures/fig_2_1.png?raw=true \"Logo Title Text 1\")\n",
    "<p style=\"text-align: center;\">Fig. (2.1): Geometría típica de un DataFrame</p>\n",
    "\n",
    "El dataset que hemos cargado en el DataFrame `data` corresponde a una base de datos donde cada fila representa un pilar del nivel de producción de una mina subterránea explotada mediante Panel Caving. Cada columna representa algún atributo importante de estos pilares: Coordenadas rectangulares $(X, Y, Z)$, área del pilar, frecuencia de fracturas (una medida de la calidad de la roca que constituye cada pilar), carga vertical sobre el pilar (eje $Z$, estado de pre-minería) y el tiraje de mineral promedio que se extrae en los puntos de extracción próximos al pilar.\n",
    "\n",
    "El método `apply()` permite, como dijimos antes, aplicar cualquier función previamente definida a todos los elementos de nuestro DataFrame (o serie, si ese fuera el caso). Por ejemplo, si quisiéramos calcular la raíz cuadrada de cada uno de los valores de nuestro DataFrame, podemos usar la función de **Numpy** `np.sqrt()` como argumento del método `apply()`. De esta manera:"
   ]
  },
  {
   "cell_type": "code",
   "execution_count": 13,
   "id": "619cff68",
   "metadata": {},
   "outputs": [
    {
     "data": {
      "text/html": [
       "<div>\n",
       "<style scoped>\n",
       "    .dataframe tbody tr th:only-of-type {\n",
       "        vertical-align: middle;\n",
       "    }\n",
       "\n",
       "    .dataframe tbody tr th {\n",
       "        vertical-align: top;\n",
       "    }\n",
       "\n",
       "    .dataframe thead th {\n",
       "        text-align: right;\n",
       "    }\n",
       "</style>\n",
       "<table border=\"1\" class=\"dataframe\">\n",
       "  <thead>\n",
       "    <tr style=\"text-align: right;\">\n",
       "      <th></th>\n",
       "      <th>x</th>\n",
       "      <th>y</th>\n",
       "      <th>z</th>\n",
       "      <th>area</th>\n",
       "      <th>frec_fracturas</th>\n",
       "      <th>sigma_z</th>\n",
       "      <th>tiraje_prom</th>\n",
       "    </tr>\n",
       "  </thead>\n",
       "  <tbody>\n",
       "    <tr>\n",
       "      <th>0</th>\n",
       "      <td>31.720287</td>\n",
       "      <td>22.105287</td>\n",
       "      <td>48.435524</td>\n",
       "      <td>16.92821</td>\n",
       "      <td>1.406769</td>\n",
       "      <td>3.335625</td>\n",
       "      <td>11.076326</td>\n",
       "    </tr>\n",
       "    <tr>\n",
       "      <th>1</th>\n",
       "      <td>32.258363</td>\n",
       "      <td>22.192742</td>\n",
       "      <td>48.435524</td>\n",
       "      <td>16.92821</td>\n",
       "      <td>1.752142</td>\n",
       "      <td>3.105851</td>\n",
       "      <td>11.008088</td>\n",
       "    </tr>\n",
       "    <tr>\n",
       "      <th>2</th>\n",
       "      <td>32.787610</td>\n",
       "      <td>22.279854</td>\n",
       "      <td>48.435524</td>\n",
       "      <td>16.92821</td>\n",
       "      <td>1.752142</td>\n",
       "      <td>3.254319</td>\n",
       "      <td>10.906053</td>\n",
       "    </tr>\n",
       "    <tr>\n",
       "      <th>3</th>\n",
       "      <td>33.308449</td>\n",
       "      <td>22.366627</td>\n",
       "      <td>48.435524</td>\n",
       "      <td>16.92821</td>\n",
       "      <td>1.322876</td>\n",
       "      <td>3.256554</td>\n",
       "      <td>10.954999</td>\n",
       "    </tr>\n",
       "    <tr>\n",
       "      <th>4</th>\n",
       "      <td>33.821268</td>\n",
       "      <td>22.453064</td>\n",
       "      <td>48.435524</td>\n",
       "      <td>16.92821</td>\n",
       "      <td>0.818535</td>\n",
       "      <td>3.171677</td>\n",
       "      <td>11.080930</td>\n",
       "    </tr>\n",
       "  </tbody>\n",
       "</table>\n",
       "</div>"
      ],
      "text/plain": [
       "           x          y          z      area  frec_fracturas   sigma_z  \\\n",
       "0  31.720287  22.105287  48.435524  16.92821        1.406769  3.335625   \n",
       "1  32.258363  22.192742  48.435524  16.92821        1.752142  3.105851   \n",
       "2  32.787610  22.279854  48.435524  16.92821        1.752142  3.254319   \n",
       "3  33.308449  22.366627  48.435524  16.92821        1.322876  3.256554   \n",
       "4  33.821268  22.453064  48.435524  16.92821        0.818535  3.171677   \n",
       "\n",
       "   tiraje_prom  \n",
       "0    11.076326  \n",
       "1    11.008088  \n",
       "2    10.906053  \n",
       "3    10.954999  \n",
       "4    11.080930  "
      ]
     },
     "execution_count": 13,
     "metadata": {},
     "output_type": "execute_result"
    }
   ],
   "source": [
    "# Podemos usar apply() para aplicar cualquier función sobre nuestra data.\n",
    "data.apply(np.sqrt).head()"
   ]
  },
  {
   "cell_type": "markdown",
   "id": "3586f891",
   "metadata": {},
   "source": [
    "Si quisiéramos obtener el promedio de todas las columnas que constituyen nuestro DataFrame (es decir, un promedio considerando los valores de todas las filas para cada columna), podemos especificar el argumento `axis=0` en el método `apply()`, tomando como input en este caso la función `np.mean()`:"
   ]
  },
  {
   "cell_type": "code",
   "execution_count": 14,
   "id": "1d7deafa",
   "metadata": {},
   "outputs": [
    {
     "data": {
      "text/plain": [
       "x                 1299.028809\n",
       "y                   47.767501\n",
       "z                 2346.000000\n",
       "area               323.079548\n",
       "frec_fracturas       1.794297\n",
       "sigma_z             12.878160\n",
       "tiraje_prom        132.587316\n",
       "dtype: float64"
      ]
     },
     "execution_count": 14,
     "metadata": {},
     "output_type": "execute_result"
    }
   ],
   "source": [
    "data.apply(np.mean, axis=0)"
   ]
  },
  {
   "cell_type": "markdown",
   "id": "9db415fc",
   "metadata": {},
   "source": [
    "Cuando aplicamos una función sobre nuestro DataFrame mediante el método `apply()`, el resultado de la función aplicada correctamente al DataFrame será el resultado de dicha implementación. Naturalmente, si deseamos obtener una serie que es resultado de manipular las columnas de un DataFrame, tendremos que referenciar dicha operación con respecto a las columnas del mismo para obtener el resultado correcto. Por ejemplo:"
   ]
  },
  {
   "cell_type": "code",
   "execution_count": 15,
   "id": "5c780768",
   "metadata": {},
   "outputs": [
    {
     "data": {
      "text/plain": [
       "0       38.826860\n",
       "1       33.661950\n",
       "2       36.957130\n",
       "3       37.007904\n",
       "4       35.103944\n",
       "          ...    \n",
       "918     64.365694\n",
       "919    146.043870\n",
       "920    148.089314\n",
       "921    166.580850\n",
       "922     66.624398\n",
       "Length: 923, dtype: float64"
      ]
     },
     "execution_count": 15,
     "metadata": {},
     "output_type": "execute_result"
    }
   ],
   "source": [
    "# El método apply() retorna el resultado del cálculo que hagamos, y no necesariamente tendrá\n",
    "# el mismo número de filas y columnas de la estructura de datos sobre la cual aplicamos este\n",
    "# método.\n",
    "data.apply(lambda x: 1000 * x[\"sigma_z\"]/x[\"area\"], axis=1)"
   ]
  },
  {
   "cell_type": "markdown",
   "id": "3f8124e2",
   "metadata": {},
   "source": [
    "Las funciones que aplicamos mediante el uso del método `apply()` se aplican de forma global sobre el DataFrame o serie respectivos, lo que nos ahorra tiempo. Esto es porque, si aplicáramos la misma función fila a fila, el tiempo de ejecución de dicha operación sería ostensiblemente mayor. Tomemos como referencia el tiempo de ejecución de la operación anterior:"
   ]
  },
  {
   "cell_type": "code",
   "execution_count": 16,
   "id": "8c080158",
   "metadata": {},
   "outputs": [
    {
     "name": "stdout",
     "output_type": "stream",
     "text": [
      "14.2 ms ± 156 µs per loop (mean ± std. dev. of 7 runs, 100 loops each)\n"
     ]
    }
   ],
   "source": [
    "# El tiempo de ejecución de una función aplicada sobre el DataFrame completo suele\n",
    "# ser razonablemente bajo.\n",
    "%timeit data.apply(lambda x: 1000 * x[\"sigma_z\"]/x[\"area\"], axis=1)"
   ]
  },
  {
   "cell_type": "markdown",
   "id": "10c323e5",
   "metadata": {},
   "source": [
    "Volvamos al tema de las iteraciones sobre filas. Una forma de hacerlo es mediante el método `iterrows()`, el cual retorna un generador que progresa fila a fila, y suele ser muy lento. Por ejemplo:"
   ]
  },
  {
   "cell_type": "code",
   "execution_count": 17,
   "id": "4d2d2b4b",
   "metadata": {},
   "outputs": [
    {
     "name": "stdout",
     "output_type": "stream",
     "text": [
      "36.7 ms ± 1.25 ms per loop (mean ± std. dev. of 7 runs, 1 loop each)\n"
     ]
    }
   ],
   "source": [
    "# El método iterrows() retorna un generador por filas que es muy lento.\n",
    "%timeit -n1 [row for index, row in data.iterrows()]"
   ]
  },
  {
   "cell_type": "markdown",
   "id": "dcdd5473",
   "metadata": {},
   "source": [
    "Cuando `iterrows()` accede a una fila, lo que éste método *ve* es algo como ésto:"
   ]
  },
  {
   "cell_type": "code",
   "execution_count": 18,
   "id": "4969a920",
   "metadata": {},
   "outputs": [
    {
     "name": "stdout",
     "output_type": "stream",
     "text": [
      "x                 1006.176600\n",
      "y                  488.643700\n",
      "z                 2346.000000\n",
      "area               286.564300\n",
      "frec_fracturas       1.979000\n",
      "sigma_z             11.126392\n",
      "tiraje_prom        122.685000\n",
      "Name: 0, dtype: float64\n"
     ]
    }
   ],
   "source": [
    "# Así es como lee las filas el método iterrows().\n",
    "for index, row in data.iterrows():\n",
    "    print(row)\n",
    "    break"
   ]
  },
  {
   "cell_type": "markdown",
   "id": "d11f52dc",
   "metadata": {},
   "source": [
    "Es decir, cada fila es accesada dentro de un DataFrame y reformateada en un objeto de tipo `pd.Series`antes de hacer cualquier cálculo. Esta es una de las razones por las cuales el método `iterrows()`es extremadamente lento. Una alternativa es utilizar el método `itertuples()`el cual retorna las filas de una serie o DataFrame, pero en un formato conocido como `namedtuple`, muchísimo más eficiente que el acceso por medio de series independientes en cada fila. De hecho, este tipo de acceso es común que sea 40 veces más rápido que el que hacemos por medio de `iterrows()`:"
   ]
  },
  {
   "cell_type": "code",
   "execution_count": 19,
   "id": "fdd4bcf6",
   "metadata": {},
   "outputs": [
    {
     "name": "stdout",
     "output_type": "stream",
     "text": [
      "2.03 ms ± 224 µs per loop (mean ± std. dev. of 7 runs, 1 loop each)\n"
     ]
    }
   ],
   "source": [
    "# El método itertuples() es mucho más rápido que itertuples().\n",
    "%timeit -n1 [row for row in data.itertuples()]"
   ]
  },
  {
   "cell_type": "markdown",
   "id": "805ee047",
   "metadata": {},
   "source": [
    "Cuando `itertuples()` accede a una fila, dicho acceso es de la siguiente manera:"
   ]
  },
  {
   "cell_type": "code",
   "execution_count": 20,
   "id": "15ba18a7",
   "metadata": {},
   "outputs": [
    {
     "name": "stdout",
     "output_type": "stream",
     "text": [
      "Pandas(Index=0, x=1006.1766, y=488.6437, z=2346, area=286.5643, frec_fracturas=1.979, sigma_z=11.126392, tiraje_prom=122.685)\n"
     ]
    }
   ],
   "source": [
    "# Así es como lee las filas el método itertuples().\n",
    "for row in data.itertuples():\n",
    "    print(row)\n",
    "    break"
   ]
  },
  {
   "cell_type": "markdown",
   "id": "4bd025bc",
   "metadata": {},
   "source": [
    "Este formato de acceso es mucho más eficiente que el anterior.\n",
    "\n",
    "### Comparativas entre accesos.\n",
    "En la sección anterior (Clase 2.1), revisamos varios tipos de operaciones de selección de información que permite acceder a cualquier elemento de un DataFrame, ya sea mediante un esquema de doble corchete, o mediante el uso de métodos indexadores. Vale la pena, por tanto, detenernos a revisar los tiempos de ejecución de cada uno de estos tipos de selección:"
   ]
  },
  {
   "cell_type": "code",
   "execution_count": 21,
   "id": "e7220a26",
   "metadata": {},
   "outputs": [
    {
     "name": "stdout",
     "output_type": "stream",
     "text": [
      "6.05 µs ± 337 ns per loop (mean ± std. dev. of 7 runs, 1000 loops each)\n",
      "125 µs ± 1.22 µs per loop (mean ± std. dev. of 7 runs, 1000 loops each)\n",
      "9.85 µs ± 1.01 µs per loop (mean ± std. dev. of 7 runs, 1000 loops each)\n"
     ]
    }
   ],
   "source": [
    "%timeit -n1000 data[\"frec_fracturas\"][0]\n",
    "%timeit -n1000 data.iloc[0][\"frec_fracturas\"]\n",
    "%timeit -n1000 data.loc[0, \"frec_fracturas\"]"
   ]
  },
  {
   "cell_type": "markdown",
   "id": "e578e872",
   "metadata": {},
   "source": [
    "Recordemos que los DataFrames son estructuras que están referenciadas en primera instancia con respecto a las columnas. Por lo tanto, es razonable esperar que el acceso a las columnas primero, y luego a las filas, sea mucho más rápido que acceder primero a una fila, y luego a una columna respectiva. En el bloque de código anterior, observamos que el acceso en el orden `(columna, fila)` de la primera línea es 20 veces más rápido que el acceso en el orden `(fila, columna)` de la segunda. El uso de `loc[]` ùtilizado en la tercera línea, `data.loc[0, \"frec_fracturas\"]`), si bien se escribe en el orden `(fila, columna)`, accede primero a la columna y luego a la fila respectiva, y es 13 veces más rápido que el acceso especificado en la segunda línea.\n",
    "\n",
    "### Vectorización.\n",
    "Vamos a hacer algunas operaciones sobre nuestro DataFrame. Una muy común es la construcción de atributos categóricos cuyo valor representa un rango para otra variable que ya es numérica. Una de las columnas en nuestro DataFrame, como podemos observar, representa la frecuencia de fracturas asociada a un conjunto de pilares, la que es una medida de la calidad de la roca que conforma cada pilar. Supongamos que se establece la siguiente clasificación para dicha calidad:\n",
    "\n",
    "- Si $FF\\leq 1.25$, entonces la roca es de buena calidad.\n",
    "- Si $1.25<FF\\leq 2.25$, entonces la roca es de calidad regular.\n",
    "- Si $FF>2.25$, entonces la roca es de mala calidad.\n",
    "\n",
    "Podemos crear una nueva columna en nuestro DataFrame que represente esta clasificación. Una opción natural es usar un loop de tipo `for`, con sentencias condicionales para ir generando los valores de la nueva columna conforme revisamos, fila a fila, el valor de la frecuencia de fracturas. Esta es, indudablemente, una operación que requiere de una iteración por filas. Definamos una función para hacer este trabajo:"
   ]
  },
  {
   "cell_type": "code",
   "execution_count": 22,
   "id": "41cc8bf9",
   "metadata": {},
   "outputs": [],
   "source": [
    "# Una función para iterar por filas en nuestro DataFrame y hacer la clasificación.\n",
    "def classify_rock_qa(data: pd.DataFrame) -> pd.DataFrame:\n",
    "    # Definimos la nueva columna y la inicializamos con un NaN.\n",
    "    data[\"calidad_roca\"] = np.nan\n",
    "\n",
    "    # Clasificamos los valores de la frecuencia de fracturas mediante un loop.\n",
    "    for row in data.index:\n",
    "        if data.loc[row, \"frec_fracturas\"] <= 1.25:\n",
    "            data.loc[row, \"calidad_roca\"] = \"Buena Calidad\"\n",
    "        elif data.loc[row, \"frec_fracturas\"] > 2.25:\n",
    "            data.loc[row, \"calidad_roca\"] = \"Mala Calidad\"\n",
    "        else:\n",
    "            data.loc[row, \"calidad_roca\"] = \"Calidad Regular\"\n",
    "    return data"
   ]
  },
  {
   "cell_type": "markdown",
   "id": "b4461732",
   "metadata": {},
   "source": [
    "Verifiquemos el tiempo de ejecución de esta función sobre nuestro DataFrame:"
   ]
  },
  {
   "cell_type": "code",
   "execution_count": 23,
   "id": "f126ece5",
   "metadata": {},
   "outputs": [
    {
     "name": "stdout",
     "output_type": "stream",
     "text": [
      "283 ms ± 6.71 ms per loop (mean ± std. dev. of 7 runs, 1 loop each)\n"
     ]
    }
   ],
   "source": [
    "# Esta función es, como cabría esperar... ¡MUY LENTA!\n",
    "%timeit classify_rock_qa(data)"
   ]
  },
  {
   "cell_type": "markdown",
   "id": "258b3af4",
   "metadata": {},
   "source": [
    "Podemos hacer el mismo trabajo usando la función `np.where()`, la cual es una operación vectorizada de **Numpy**. Verifiquemos el tiempo de ejecución de esta alternativa:"
   ]
  },
  {
   "cell_type": "code",
   "execution_count": 24,
   "id": "480dc95c",
   "metadata": {},
   "outputs": [],
   "source": [
    "# Otra alternativa es usar np.where(), que permite realizar esta operación de forma vectorizada.\n",
    "def classify_rock_vec(data: pd.DataFrame) -> pd.DataFrame:\n",
    "    # Definimos la nueva columna y la inicializamos con un NaN. \n",
    "    data[\"calidad_roca\"] = np.nan\n",
    "\n",
    "    # Aplicamos la clasificación directamente por medio de la función np.where().\n",
    "    data[\"calidad_roca\"] = np.where(\n",
    "        data[\"frec_fracturas\"] <= 1.25, \n",
    "        \"Buena Calidad\", \n",
    "        np.where(\n",
    "            data[\"frec_fracturas\"] > 2.25, \n",
    "            \"Mala Calidad\", \n",
    "            \"Calidad Regular\"\n",
    "        )\n",
    "    )\n",
    "    return data"
   ]
  },
  {
   "cell_type": "markdown",
   "id": "25f88403",
   "metadata": {},
   "source": [
    "Ahora verificamos el tiempo de ejecución de esta alternativa:"
   ]
  },
  {
   "cell_type": "code",
   "execution_count": 25,
   "id": "4aa41047",
   "metadata": {},
   "outputs": [
    {
     "name": "stdout",
     "output_type": "stream",
     "text": [
      "769 µs ± 5.39 µs per loop (mean ± std. dev. of 7 runs, 1000 loops each)\n"
     ]
    }
   ],
   "source": [
    "%timeit classify_rock_vec(data)"
   ]
  },
  {
   "cell_type": "markdown",
   "id": "663b5a98",
   "metadata": {},
   "source": [
    "¡368 veces más rápido! Esta diferencia es una brutalidad. Y una razón más que suficiente para validar el hecho que ya establecimos previamente: **NO iterar sobre filas en caso de no ser REALMENTE necesario**.\n",
    "\n",
    "Apliquemos la función vectorizada para construir esta nueva columna:"
   ]
  },
  {
   "cell_type": "code",
   "execution_count": 26,
   "id": "0434dd94",
   "metadata": {},
   "outputs": [
    {
     "data": {
      "text/html": [
       "<div>\n",
       "<style scoped>\n",
       "    .dataframe tbody tr th:only-of-type {\n",
       "        vertical-align: middle;\n",
       "    }\n",
       "\n",
       "    .dataframe tbody tr th {\n",
       "        vertical-align: top;\n",
       "    }\n",
       "\n",
       "    .dataframe thead th {\n",
       "        text-align: right;\n",
       "    }\n",
       "</style>\n",
       "<table border=\"1\" class=\"dataframe\">\n",
       "  <thead>\n",
       "    <tr style=\"text-align: right;\">\n",
       "      <th></th>\n",
       "      <th>x</th>\n",
       "      <th>y</th>\n",
       "      <th>z</th>\n",
       "      <th>area</th>\n",
       "      <th>frec_fracturas</th>\n",
       "      <th>sigma_z</th>\n",
       "      <th>tiraje_prom</th>\n",
       "      <th>calidad_roca</th>\n",
       "    </tr>\n",
       "  </thead>\n",
       "  <tbody>\n",
       "    <tr>\n",
       "      <th>0</th>\n",
       "      <td>1006.1766</td>\n",
       "      <td>488.6437</td>\n",
       "      <td>2346</td>\n",
       "      <td>286.5643</td>\n",
       "      <td>1.979</td>\n",
       "      <td>11.126392</td>\n",
       "      <td>122.685</td>\n",
       "      <td>Calidad Regular</td>\n",
       "    </tr>\n",
       "    <tr>\n",
       "      <th>1</th>\n",
       "      <td>1040.6020</td>\n",
       "      <td>492.5178</td>\n",
       "      <td>2346</td>\n",
       "      <td>286.5643</td>\n",
       "      <td>3.070</td>\n",
       "      <td>9.646313</td>\n",
       "      <td>121.178</td>\n",
       "      <td>Mala Calidad</td>\n",
       "    </tr>\n",
       "    <tr>\n",
       "      <th>2</th>\n",
       "      <td>1075.0274</td>\n",
       "      <td>496.3919</td>\n",
       "      <td>2346</td>\n",
       "      <td>286.5643</td>\n",
       "      <td>3.070</td>\n",
       "      <td>10.590594</td>\n",
       "      <td>118.942</td>\n",
       "      <td>Mala Calidad</td>\n",
       "    </tr>\n",
       "    <tr>\n",
       "      <th>3</th>\n",
       "      <td>1109.4528</td>\n",
       "      <td>500.2660</td>\n",
       "      <td>2346</td>\n",
       "      <td>286.5643</td>\n",
       "      <td>1.750</td>\n",
       "      <td>10.605144</td>\n",
       "      <td>120.012</td>\n",
       "      <td>Calidad Regular</td>\n",
       "    </tr>\n",
       "    <tr>\n",
       "      <th>4</th>\n",
       "      <td>1143.8782</td>\n",
       "      <td>504.1401</td>\n",
       "      <td>2346</td>\n",
       "      <td>286.5643</td>\n",
       "      <td>0.670</td>\n",
       "      <td>10.059537</td>\n",
       "      <td>122.787</td>\n",
       "      <td>Buena Calidad</td>\n",
       "    </tr>\n",
       "  </tbody>\n",
       "</table>\n",
       "</div>"
      ],
      "text/plain": [
       "           x         y     z      area  frec_fracturas    sigma_z  \\\n",
       "0  1006.1766  488.6437  2346  286.5643           1.979  11.126392   \n",
       "1  1040.6020  492.5178  2346  286.5643           3.070   9.646313   \n",
       "2  1075.0274  496.3919  2346  286.5643           3.070  10.590594   \n",
       "3  1109.4528  500.2660  2346  286.5643           1.750  10.605144   \n",
       "4  1143.8782  504.1401  2346  286.5643           0.670  10.059537   \n",
       "\n",
       "   tiraje_prom     calidad_roca  \n",
       "0      122.685  Calidad Regular  \n",
       "1      121.178     Mala Calidad  \n",
       "2      118.942     Mala Calidad  \n",
       "3      120.012  Calidad Regular  \n",
       "4      122.787    Buena Calidad  "
      ]
     },
     "execution_count": 26,
     "metadata": {},
     "output_type": "execute_result"
    }
   ],
   "source": [
    "# Aplicamos nuestra función vectorizada para construir nuestra nueva columna.\n",
    "data = classify_rock_vec(data)\n",
    "data.head()"
   ]
  },
  {
   "cell_type": "markdown",
   "id": "7c7dec04",
   "metadata": {},
   "source": [
    "## Evaluadores.\n",
    "Los evaluadores son métodos que nos permiten operar sobre los elementos de un DataFrame o serie de manera directa, evitando operar individualmente sobre cada fila. Uno de los evaluadores más importantes corresponde a `str`, y que nos permite construir funciones aplicables sobre strings con respecto a cualquier columna de un DataFrame (o directamente sobre una serie), y que nos pueden ser muy útiles cuando necesitamos procesar columnas con variables no numéricas. Un ejemplo es la columna `\"calidad_roca\"`, que acabamos de construir.\n",
    "\n",
    "Podríamos usar el método `upper()`, del evaluador `str`, para transformar todos los caracteres que conforman los valores de la columna `\"calidad_roca\"` en mayúsculas (en contraste, el método `lower()` permite llevar todos los caracteres a minúsculas):"
   ]
  },
  {
   "cell_type": "code",
   "execution_count": 27,
   "id": "b89085d9",
   "metadata": {},
   "outputs": [
    {
     "data": {
      "text/plain": [
       "0      CALIDAD REGULAR\n",
       "1         MALA CALIDAD\n",
       "2         MALA CALIDAD\n",
       "3      CALIDAD REGULAR\n",
       "4        BUENA CALIDAD\n",
       "            ...       \n",
       "918      BUENA CALIDAD\n",
       "919      BUENA CALIDAD\n",
       "920    CALIDAD REGULAR\n",
       "921      BUENA CALIDAD\n",
       "922       MALA CALIDAD\n",
       "Name: calidad_roca, Length: 923, dtype: object"
      ]
     },
     "execution_count": 27,
     "metadata": {},
     "output_type": "execute_result"
    }
   ],
   "source": [
    "# El método str.upper() permite transformar strings en mayúsculas (de aplicarse).\n",
    "data[\"calidad_roca\"].str.upper()"
   ]
  },
  {
   "cell_type": "markdown",
   "id": "1ace23af",
   "metadata": {},
   "source": [
    "También podríamos obtener el número de caracteres que conforma cada string mediante el método `len()` en una determinada columna:"
   ]
  },
  {
   "cell_type": "code",
   "execution_count": 28,
   "id": "34666b68",
   "metadata": {},
   "outputs": [
    {
     "data": {
      "text/plain": [
       "0      15\n",
       "1      12\n",
       "2      12\n",
       "3      15\n",
       "4      13\n",
       "       ..\n",
       "918    13\n",
       "919    13\n",
       "920    15\n",
       "921    13\n",
       "922    12\n",
       "Name: calidad_roca, Length: 923, dtype: int64"
      ]
     },
     "execution_count": 28,
     "metadata": {},
     "output_type": "execute_result"
    }
   ],
   "source": [
    "# El método str.len() permite obtener la longitud de los elementos de una columna.\n",
    "data[\"calidad_roca\"].str.len()"
   ]
  },
  {
   "cell_type": "markdown",
   "id": "eb0064c0",
   "metadata": {},
   "source": [
    "El evaluador `str` puede ser una herramienta poderosa cuando queremos buscar ciertas expresiones en una columna constituida por strings. Por ejemplo, podemos buscar todos los elementos en una columna que contengan alguna expresión definida por strings:"
   ]
  },
  {
   "cell_type": "code",
   "execution_count": 29,
   "id": "6c4e8d4b",
   "metadata": {},
   "outputs": [
    {
     "data": {
      "text/plain": [
       "0      False\n",
       "1       True\n",
       "2       True\n",
       "3      False\n",
       "4      False\n",
       "       ...  \n",
       "918    False\n",
       "919    False\n",
       "920    False\n",
       "921    False\n",
       "922     True\n",
       "Name: calidad_roca, Length: 923, dtype: bool"
      ]
     },
     "execution_count": 29,
     "metadata": {},
     "output_type": "execute_result"
    }
   ],
   "source": [
    "# Buscamos todos los pilares que representen pilares de mala calidad.\n",
    "data[\"calidad_roca\"].str.contains(\"Mala\")"
   ]
  },
  {
   "cell_type": "markdown",
   "id": "1c4e4c85",
   "metadata": {},
   "source": [
    "## Exploración.\n",
    "Cuando analizamos data que está contenida en una serie o en un DataFrame, es muy útil contar con herramientas que nos permitan tener claro las características inherentes a dicha data. Ejemplos de estas herramientas son métodos tales como `head()` o `tail()`, que nos permiten observar las 5 primeras o últimas columnas de una serie o un DataFrame, y que ya ejemplificamos previamente. Sin embargo, también disponemos de otros métodos tales como `info()` o `describe()`.\n",
    "\n",
    "El método `info()` nos permite obtener una tabla que resume aspectos importantes de cada una de las columnas que constituyen un DataFrame, tales como el tipo de dato asociado a cada una de ellas, sus rótulos y la cuantía de filas que presentan data explícitamente definida (es decir, que no están definidas por valores faltantes, como `nan`):"
   ]
  },
  {
   "cell_type": "code",
   "execution_count": 30,
   "id": "07a0815e",
   "metadata": {},
   "outputs": [
    {
     "name": "stdout",
     "output_type": "stream",
     "text": [
      "<class 'pandas.core.frame.DataFrame'>\n",
      "RangeIndex: 923 entries, 0 to 922\n",
      "Data columns (total 8 columns):\n",
      " #   Column          Non-Null Count  Dtype  \n",
      "---  ------          --------------  -----  \n",
      " 0   x               923 non-null    float64\n",
      " 1   y               923 non-null    float64\n",
      " 2   z               923 non-null    int64  \n",
      " 3   area            923 non-null    float64\n",
      " 4   frec_fracturas  923 non-null    float64\n",
      " 5   sigma_z         923 non-null    float64\n",
      " 6   tiraje_prom     923 non-null    float64\n",
      " 7   calidad_roca    923 non-null    object \n",
      "dtypes: float64(6), int64(1), object(1)\n",
      "memory usage: 57.8+ KB\n"
     ]
    }
   ],
   "source": [
    "data.info()"
   ]
  },
  {
   "cell_type": "markdown",
   "id": "3f23a03e",
   "metadata": {},
   "source": [
    "Vemos pues que, en nuestro DataFrame data, tenemos un total de 8 columnas, cuyos nombres se listan en el campo `Column`. Ninguna de estas columnas tiene valores faltantes (`nan`), todas ellas están constituidas por números de punto flotante de 64 bits, salvo `\"z\"`, que está conformada por números enteros, y `\"calidad_roca\"`, que está conformada por strings (que son representados genéricamente en **Pandas** por el tipo `object`). El DataFrame usa un espacio de memoria un poco mayor a 57.8 kB.\n",
    "\n",
    "Por otro lado, el método `describe()` nos permite obtener una descripción estadística importante de todas las variables numéricas que conforman un DataFrame, constituida por los correspondientes promedios, desviaciones estándar, valores mínimos, valores máximos, cuantías, y cuartiles Q1, Q2 (la mediana) y Q3. Esta descripción es, en sí misma, retornada como un DataFrame:"
   ]
  },
  {
   "cell_type": "code",
   "execution_count": 31,
   "id": "0930cad5",
   "metadata": {},
   "outputs": [
    {
     "data": {
      "text/html": [
       "<div>\n",
       "<style scoped>\n",
       "    .dataframe tbody tr th:only-of-type {\n",
       "        vertical-align: middle;\n",
       "    }\n",
       "\n",
       "    .dataframe tbody tr th {\n",
       "        vertical-align: top;\n",
       "    }\n",
       "\n",
       "    .dataframe thead th {\n",
       "        text-align: right;\n",
       "    }\n",
       "</style>\n",
       "<table border=\"1\" class=\"dataframe\">\n",
       "  <thead>\n",
       "    <tr style=\"text-align: right;\">\n",
       "      <th></th>\n",
       "      <th>x</th>\n",
       "      <th>y</th>\n",
       "      <th>z</th>\n",
       "      <th>area</th>\n",
       "      <th>frec_fracturas</th>\n",
       "      <th>sigma_z</th>\n",
       "      <th>tiraje_prom</th>\n",
       "    </tr>\n",
       "  </thead>\n",
       "  <tbody>\n",
       "    <tr>\n",
       "      <th>count</th>\n",
       "      <td>923.000000</td>\n",
       "      <td>923.000000</td>\n",
       "      <td>923.0</td>\n",
       "      <td>923.000000</td>\n",
       "      <td>923.000000</td>\n",
       "      <td>923.000000</td>\n",
       "      <td>923.000000</td>\n",
       "    </tr>\n",
       "    <tr>\n",
       "      <th>mean</th>\n",
       "      <td>1299.028809</td>\n",
       "      <td>47.767501</td>\n",
       "      <td>2346.0</td>\n",
       "      <td>323.079548</td>\n",
       "      <td>1.794297</td>\n",
       "      <td>12.878160</td>\n",
       "      <td>132.587316</td>\n",
       "    </tr>\n",
       "    <tr>\n",
       "      <th>std</th>\n",
       "      <td>169.513075</td>\n",
       "      <td>250.346905</td>\n",
       "      <td>0.0</td>\n",
       "      <td>60.824849</td>\n",
       "      <td>1.114504</td>\n",
       "      <td>3.352868</td>\n",
       "      <td>33.177588</td>\n",
       "    </tr>\n",
       "    <tr>\n",
       "      <th>min</th>\n",
       "      <td>970.139900</td>\n",
       "      <td>-492.877300</td>\n",
       "      <td>2346.0</td>\n",
       "      <td>85.475000</td>\n",
       "      <td>0.150000</td>\n",
       "      <td>7.048940</td>\n",
       "      <td>0.000000</td>\n",
       "    </tr>\n",
       "    <tr>\n",
       "      <th>25%</th>\n",
       "      <td>1165.587400</td>\n",
       "      <td>-146.247650</td>\n",
       "      <td>2346.0</td>\n",
       "      <td>286.564300</td>\n",
       "      <td>0.670000</td>\n",
       "      <td>10.904291</td>\n",
       "      <td>125.830000</td>\n",
       "    </tr>\n",
       "    <tr>\n",
       "      <th>50%</th>\n",
       "      <td>1295.000000</td>\n",
       "      <td>44.286700</td>\n",
       "      <td>2346.0</td>\n",
       "      <td>345.638600</td>\n",
       "      <td>1.270000</td>\n",
       "      <td>11.729744</td>\n",
       "      <td>133.917000</td>\n",
       "    </tr>\n",
       "    <tr>\n",
       "      <th>75%</th>\n",
       "      <td>1415.367900</td>\n",
       "      <td>250.959350</td>\n",
       "      <td>2346.0</td>\n",
       "      <td>347.524300</td>\n",
       "      <td>3.070000</td>\n",
       "      <td>13.176716</td>\n",
       "      <td>148.926500</td>\n",
       "    </tr>\n",
       "    <tr>\n",
       "      <th>max</th>\n",
       "      <td>1686.962600</td>\n",
       "      <td>523.510600</td>\n",
       "      <td>2346.0</td>\n",
       "      <td>707.425200</td>\n",
       "      <td>3.070000</td>\n",
       "      <td>29.742796</td>\n",
       "      <td>201.307000</td>\n",
       "    </tr>\n",
       "  </tbody>\n",
       "</table>\n",
       "</div>"
      ],
      "text/plain": [
       "                 x           y       z        area  frec_fracturas  \\\n",
       "count   923.000000  923.000000   923.0  923.000000      923.000000   \n",
       "mean   1299.028809   47.767501  2346.0  323.079548        1.794297   \n",
       "std     169.513075  250.346905     0.0   60.824849        1.114504   \n",
       "min     970.139900 -492.877300  2346.0   85.475000        0.150000   \n",
       "25%    1165.587400 -146.247650  2346.0  286.564300        0.670000   \n",
       "50%    1295.000000   44.286700  2346.0  345.638600        1.270000   \n",
       "75%    1415.367900  250.959350  2346.0  347.524300        3.070000   \n",
       "max    1686.962600  523.510600  2346.0  707.425200        3.070000   \n",
       "\n",
       "          sigma_z  tiraje_prom  \n",
       "count  923.000000   923.000000  \n",
       "mean    12.878160   132.587316  \n",
       "std      3.352868    33.177588  \n",
       "min      7.048940     0.000000  \n",
       "25%     10.904291   125.830000  \n",
       "50%     11.729744   133.917000  \n",
       "75%     13.176716   148.926500  \n",
       "max     29.742796   201.307000  "
      ]
     },
     "execution_count": 31,
     "metadata": {},
     "output_type": "execute_result"
    }
   ],
   "source": [
    "data.describe()"
   ]
  },
  {
   "cell_type": "markdown",
   "id": "e71b0808",
   "metadata": {},
   "source": [
    "Notemos que `describe()` ignora cualquier valor de tipo `nan`. Por eso razón, los valores de cuantía que este método retorna corresponde a valores que no son faltantes.\n",
    "\n",
    "También disponemos de métodos para hacer cuantías de valores únicos en una columna determinada (o serie). Estos métodos resultan útiles para caracterizar variables categóricas en un conjunto de datos:"
   ]
  },
  {
   "cell_type": "code",
   "execution_count": 32,
   "id": "90ae950b",
   "metadata": {},
   "outputs": [
    {
     "data": {
      "text/plain": [
       "3"
      ]
     },
     "execution_count": 32,
     "metadata": {},
     "output_type": "execute_result"
    }
   ],
   "source": [
    "# El método nunique() permite determinar el número de valores únicos en una columna.\n",
    "data[\"calidad_roca\"].nunique()"
   ]
  },
  {
   "cell_type": "code",
   "execution_count": 33,
   "id": "38ce7bad",
   "metadata": {},
   "outputs": [
    {
     "data": {
      "text/plain": [
       "array(['Calidad Regular', 'Mala Calidad', 'Buena Calidad'], dtype=object)"
      ]
     },
     "execution_count": 33,
     "metadata": {},
     "output_type": "execute_result"
    }
   ],
   "source": [
    "# El método unique() permite listar los valores únicos de una determinada columna \n",
    "# en un arreglo de Numpy.\n",
    "data[\"calidad_roca\"].unique()"
   ]
  },
  {
   "cell_type": "code",
   "execution_count": 34,
   "id": "58ef4086",
   "metadata": {},
   "outputs": [
    {
     "data": {
      "text/plain": [
       "Buena Calidad      458\n",
       "Mala Calidad       403\n",
       "Calidad Regular     62\n",
       "Name: calidad_roca, dtype: int64"
      ]
     },
     "execution_count": 34,
     "metadata": {},
     "output_type": "execute_result"
    }
   ],
   "source": [
    "# El método value_counts() permite obtener una serie que ordenar los valores de una\n",
    "# columna por su cuantía.\n",
    "data[\"calidad_roca\"].value_counts()"
   ]
  },
  {
   "cell_type": "markdown",
   "id": "210ed8a6",
   "metadata": {},
   "source": [
    "## Modificaciones y transformaciones.\n",
    "**Pandas** también dispone de una serie de herramientas que permiten generar variadas modificaciones y transformaciones sobre los datos que están almacenados en series y DataFrames. Por ejemplo, el método `map()` permite cambiar los valores de una serie por medio de un diccionario que mapee índices con sus valores respectivos:"
   ]
  },
  {
   "cell_type": "code",
   "execution_count": 35,
   "id": "cbe17157",
   "metadata": {},
   "outputs": [
    {
     "data": {
      "text/plain": [
       "0    1.979\n",
       "1    3.070\n",
       "2    3.070\n",
       "3    1.750\n",
       "4    0.670\n",
       "5    1.030\n",
       "6    3.070\n",
       "Name: frec_fracturas, dtype: float64"
      ]
     },
     "execution_count": 35,
     "metadata": {},
     "output_type": "execute_result"
    }
   ],
   "source": [
    "# Definimos una serie a partir de nuestro DataFrame.\n",
    "col_sample = data.loc[:6, \"frec_fracturas\"].copy()\n",
    "col_sample"
   ]
  },
  {
   "cell_type": "code",
   "execution_count": 36,
   "id": "52821198",
   "metadata": {},
   "outputs": [
    {
     "data": {
      "text/plain": [
       "0         reemplazo\n",
       "1    otro reemplazo\n",
       "2    otro reemplazo\n",
       "3     y otro mas...\n",
       "4         y otro...\n",
       "5      y el ultimo!\n",
       "6    otro reemplazo\n",
       "Name: frec_fracturas, dtype: object"
      ]
     },
     "execution_count": 36,
     "metadata": {},
     "output_type": "execute_result"
    }
   ],
   "source": [
    "# Podemos usar el método map() para modificar los valores de dicha serie. El mapeo se\n",
    "# hace usando un esquema del tipo (valor_antiguo: valor_nuevo).\n",
    "col_sample.map(\n",
    "    {1.979: \"reemplazo\", 3.070: \"otro reemplazo\", \n",
    "     1.750: \"y otro mas...\", 0.670: \"y otro...\",\n",
    "     1.030: \"y el ultimo!\"}\n",
    ")"
   ]
  },
  {
   "cell_type": "markdown",
   "id": "3a74d1fc",
   "metadata": {},
   "source": [
    "El método `map()` exige mapear todos los valores de una serie. Los que no incluyamos derivarán en que el resultado de este método será una serie cuyos valores no modificados sean `nan`:"
   ]
  },
  {
   "cell_type": "code",
   "execution_count": 37,
   "id": "e3dc71f5",
   "metadata": {},
   "outputs": [
    {
     "data": {
      "text/plain": [
       "0        reemplazo\n",
       "1              NaN\n",
       "2              NaN\n",
       "3    y otro mas...\n",
       "4        y otro...\n",
       "5     y el ultimo!\n",
       "6              NaN\n",
       "Name: frec_fracturas, dtype: object"
      ]
     },
     "execution_count": 37,
     "metadata": {},
     "output_type": "execute_result"
    }
   ],
   "source": [
    "# Lo que no modifiquemos mediante map() resultará en un NaN.\n",
    "col_sample.map(\n",
    "    {1.979: \"reemplazo\", 1.750: \"y otro mas...\", \n",
    "     0.670: \"y otro...\", 1.030: \"y el ultimo!\"}\n",
    ")"
   ]
  },
  {
   "cell_type": "markdown",
   "id": "c6945a93",
   "metadata": {},
   "source": [
    "Por otro lado, el método `assign()` permite asignar columnas nuevas en un DataFrame, definiendo siempre cómo se genera dicha columna (por ejemplo, mediante una función):"
   ]
  },
  {
   "cell_type": "code",
   "execution_count": 38,
   "id": "99b67c0f",
   "metadata": {},
   "outputs": [],
   "source": [
    "# Creamos un DataFrame para probar el método assign().\n",
    "df = pd.DataFrame(\n",
    "    data=np.array([[0.2, 1.2, 3.3], [0.4, 7.8, 2.2], [4.1, 5.7, 1.3]]),\n",
    "    index=[f\"row_{i}\" for i in range(3)],\n",
    "    columns=[f\"col_{j}\" for j in range(3)]\n",
    ")"
   ]
  },
  {
   "cell_type": "code",
   "execution_count": 39,
   "id": "a2e0d1b0",
   "metadata": {},
   "outputs": [
    {
     "data": {
      "text/html": [
       "<div>\n",
       "<style scoped>\n",
       "    .dataframe tbody tr th:only-of-type {\n",
       "        vertical-align: middle;\n",
       "    }\n",
       "\n",
       "    .dataframe tbody tr th {\n",
       "        vertical-align: top;\n",
       "    }\n",
       "\n",
       "    .dataframe thead th {\n",
       "        text-align: right;\n",
       "    }\n",
       "</style>\n",
       "<table border=\"1\" class=\"dataframe\">\n",
       "  <thead>\n",
       "    <tr style=\"text-align: right;\">\n",
       "      <th></th>\n",
       "      <th>col_0</th>\n",
       "      <th>col_1</th>\n",
       "      <th>col_2</th>\n",
       "    </tr>\n",
       "  </thead>\n",
       "  <tbody>\n",
       "    <tr>\n",
       "      <th>row_0</th>\n",
       "      <td>0.2</td>\n",
       "      <td>1.2</td>\n",
       "      <td>3.3</td>\n",
       "    </tr>\n",
       "    <tr>\n",
       "      <th>row_1</th>\n",
       "      <td>0.4</td>\n",
       "      <td>7.8</td>\n",
       "      <td>2.2</td>\n",
       "    </tr>\n",
       "    <tr>\n",
       "      <th>row_2</th>\n",
       "      <td>4.1</td>\n",
       "      <td>5.7</td>\n",
       "      <td>1.3</td>\n",
       "    </tr>\n",
       "  </tbody>\n",
       "</table>\n",
       "</div>"
      ],
      "text/plain": [
       "       col_0  col_1  col_2\n",
       "row_0    0.2    1.2    3.3\n",
       "row_1    0.4    7.8    2.2\n",
       "row_2    4.1    5.7    1.3"
      ]
     },
     "execution_count": 39,
     "metadata": {},
     "output_type": "execute_result"
    }
   ],
   "source": [
    "df"
   ]
  },
  {
   "cell_type": "code",
   "execution_count": 40,
   "id": "a698b7dd",
   "metadata": {},
   "outputs": [
    {
     "data": {
      "text/html": [
       "<div>\n",
       "<style scoped>\n",
       "    .dataframe tbody tr th:only-of-type {\n",
       "        vertical-align: middle;\n",
       "    }\n",
       "\n",
       "    .dataframe tbody tr th {\n",
       "        vertical-align: top;\n",
       "    }\n",
       "\n",
       "    .dataframe thead th {\n",
       "        text-align: right;\n",
       "    }\n",
       "</style>\n",
       "<table border=\"1\" class=\"dataframe\">\n",
       "  <thead>\n",
       "    <tr style=\"text-align: right;\">\n",
       "      <th></th>\n",
       "      <th>col_0</th>\n",
       "      <th>col_1</th>\n",
       "      <th>col_2</th>\n",
       "      <th>col_3</th>\n",
       "    </tr>\n",
       "  </thead>\n",
       "  <tbody>\n",
       "    <tr>\n",
       "      <th>row_0</th>\n",
       "      <td>0.2</td>\n",
       "      <td>1.2</td>\n",
       "      <td>3.3</td>\n",
       "      <td>-1.48422</td>\n",
       "    </tr>\n",
       "    <tr>\n",
       "      <th>row_1</th>\n",
       "      <td>0.4</td>\n",
       "      <td>7.8</td>\n",
       "      <td>2.2</td>\n",
       "      <td>18.09312</td>\n",
       "    </tr>\n",
       "    <tr>\n",
       "      <th>row_2</th>\n",
       "      <td>4.1</td>\n",
       "      <td>5.7</td>\n",
       "      <td>1.3</td>\n",
       "      <td>14.53518</td>\n",
       "    </tr>\n",
       "  </tbody>\n",
       "</table>\n",
       "</div>"
      ],
      "text/plain": [
       "       col_0  col_1  col_2     col_3\n",
       "row_0    0.2    1.2    3.3  -1.48422\n",
       "row_1    0.4    7.8    2.2  18.09312\n",
       "row_2    4.1    5.7    1.3  14.53518"
      ]
     },
     "execution_count": 40,
     "metadata": {},
     "output_type": "execute_result"
    }
   ],
   "source": [
    "# El método assign() permite asignar columnas nuevas a un DataFrame.\n",
    "df.assign(col_3=lambda x: x[\"col_0\"]*1.2 + 0.3*x[\"col_1\"]**2 - 0.06*x[\"col_2\"]**3)"
   ]
  },
  {
   "cell_type": "code",
   "execution_count": 41,
   "id": "cd6e8372",
   "metadata": {},
   "outputs": [
    {
     "data": {
      "text/html": [
       "<div>\n",
       "<style scoped>\n",
       "    .dataframe tbody tr th:only-of-type {\n",
       "        vertical-align: middle;\n",
       "    }\n",
       "\n",
       "    .dataframe tbody tr th {\n",
       "        vertical-align: top;\n",
       "    }\n",
       "\n",
       "    .dataframe thead th {\n",
       "        text-align: right;\n",
       "    }\n",
       "</style>\n",
       "<table border=\"1\" class=\"dataframe\">\n",
       "  <thead>\n",
       "    <tr style=\"text-align: right;\">\n",
       "      <th></th>\n",
       "      <th>col_0</th>\n",
       "      <th>col_1</th>\n",
       "      <th>col_2</th>\n",
       "      <th>col_3</th>\n",
       "      <th>col_4</th>\n",
       "      <th>col_5</th>\n",
       "    </tr>\n",
       "  </thead>\n",
       "  <tbody>\n",
       "    <tr>\n",
       "      <th>row_0</th>\n",
       "      <td>0.2</td>\n",
       "      <td>1.2</td>\n",
       "      <td>3.3</td>\n",
       "      <td>2.167948</td>\n",
       "      <td>-0.386219</td>\n",
       "      <td>foo_row_0</td>\n",
       "    </tr>\n",
       "    <tr>\n",
       "      <th>row_1</th>\n",
       "      <td>0.4</td>\n",
       "      <td>7.8</td>\n",
       "      <td>2.2</td>\n",
       "      <td>3.224903</td>\n",
       "      <td>-6.469097</td>\n",
       "      <td>foo_row_1</td>\n",
       "    </tr>\n",
       "    <tr>\n",
       "      <th>row_2</th>\n",
       "      <td>4.1</td>\n",
       "      <td>5.7</td>\n",
       "      <td>1.3</td>\n",
       "      <td>3.331666</td>\n",
       "      <td>12.313473</td>\n",
       "      <td>foo_row_2</td>\n",
       "    </tr>\n",
       "  </tbody>\n",
       "</table>\n",
       "</div>"
      ],
      "text/plain": [
       "       col_0  col_1  col_2     col_3      col_4      col_5\n",
       "row_0    0.2    1.2    3.3  2.167948  -0.386219  foo_row_0\n",
       "row_1    0.4    7.8    2.2  3.224903  -6.469097  foo_row_1\n",
       "row_2    4.1    5.7    1.3  3.331666  12.313473  foo_row_2"
      ]
     },
     "execution_count": 41,
     "metadata": {},
     "output_type": "execute_result"
    }
   ],
   "source": [
    "# Podemos agregar más de una columna mediante el método assign().\n",
    "df.assign(\n",
    "    col_3=lambda x: np.sqrt(x[\"col_0\"] + x[\"col_1\"] + x[\"col_2\"]),\n",
    "    col_4=lambda x: x[\"col_0\"]**2 - x[\"col_1\"] + np.log(x[\"col_3\"]),\n",
    "    col_5=lambda x: [f\"foo_{k}\" for k in df.index]\n",
    ")"
   ]
  },
  {
   "cell_type": "markdown",
   "id": "96efcc59",
   "metadata": {},
   "source": [
    "### Agrupamiento mediante `groupby()`\n",
    "Una de las operaciones más importantes que se pueden realizar sobre los DataFrames corresponde a los agrupamientos conforme ciertas categorías. En términos generales, el agrupamiento permite obtener ciertos valores representativos para determinados grupos de variables. Para ello, **Pandas** nos provee del método `groupby()`, el cual retorna un objeto que permite generar tales valores. Por ejemplo, para el caso del DataFrame data, podemos usar el método `groupby()` para obtener los valores medios de esfuerzo vertical (`\"sigma_z\"`), área (`\"area\"`), tiraje circulante (`\"tiraje_prom\"`) y frecuencia de fracturas (`\"frec_fracturas\"`) conforme los distintos tipos de roca que constituyen cada pilar. Para ello, una vez hecho el agrupamiento, aplicamos el método `mean()` para calcular estos promedios (ya profundizaremos en algunos métodos aplicables al análisis estadístico un poco más adelante):"
   ]
  },
  {
   "cell_type": "code",
   "execution_count": 42,
   "id": "da4fbeb1",
   "metadata": {},
   "outputs": [
    {
     "data": {
      "text/html": [
       "<div>\n",
       "<style scoped>\n",
       "    .dataframe tbody tr th:only-of-type {\n",
       "        vertical-align: middle;\n",
       "    }\n",
       "\n",
       "    .dataframe tbody tr th {\n",
       "        vertical-align: top;\n",
       "    }\n",
       "\n",
       "    .dataframe thead th {\n",
       "        text-align: right;\n",
       "    }\n",
       "</style>\n",
       "<table border=\"1\" class=\"dataframe\">\n",
       "  <thead>\n",
       "    <tr style=\"text-align: right;\">\n",
       "      <th></th>\n",
       "      <th>sigma_z</th>\n",
       "      <th>area</th>\n",
       "      <th>tiraje_prom</th>\n",
       "      <th>frec_fracturas</th>\n",
       "    </tr>\n",
       "    <tr>\n",
       "      <th>calidad_roca</th>\n",
       "      <th></th>\n",
       "      <th></th>\n",
       "      <th></th>\n",
       "      <th></th>\n",
       "    </tr>\n",
       "  </thead>\n",
       "  <tbody>\n",
       "    <tr>\n",
       "      <th>Buena Calidad</th>\n",
       "      <td>13.552295</td>\n",
       "      <td>331.530377</td>\n",
       "      <td>124.446603</td>\n",
       "      <td>0.735853</td>\n",
       "    </tr>\n",
       "    <tr>\n",
       "      <th>Calidad Regular</th>\n",
       "      <td>12.355339</td>\n",
       "      <td>323.597392</td>\n",
       "      <td>140.767855</td>\n",
       "      <td>1.751776</td>\n",
       "    </tr>\n",
       "    <tr>\n",
       "      <th>Mala Calidad</th>\n",
       "      <td>12.192455</td>\n",
       "      <td>313.395712</td>\n",
       "      <td>140.580501</td>\n",
       "      <td>3.003736</td>\n",
       "    </tr>\n",
       "  </tbody>\n",
       "</table>\n",
       "</div>"
      ],
      "text/plain": [
       "                   sigma_z        area  tiraje_prom  frec_fracturas\n",
       "calidad_roca                                                       \n",
       "Buena Calidad    13.552295  331.530377   124.446603        0.735853\n",
       "Calidad Regular  12.355339  323.597392   140.767855        1.751776\n",
       "Mala Calidad     12.192455  313.395712   140.580501        3.003736"
      ]
     },
     "execution_count": 42,
     "metadata": {},
     "output_type": "execute_result"
    }
   ],
   "source": [
    "# El método groupby() permite agrupar valores conforme categorías.\n",
    "data.groupby(\"calidad_roca\").mean()[['sigma_z', 'area', 'tiraje_prom', 'frec_fracturas']]"
   ]
  },
  {
   "cell_type": "markdown",
   "id": "4bb866cf",
   "metadata": {},
   "source": [
    "### Agregaciones mediante `pd.pivot_table()`.\n",
    "Una de las agregaciones más familiares en un contexto ingenieril corresponde a la **tabla dinámica**, que es una opción que es muy utilizada en softwares como Microsoft Excel®. **Pandas** igualmente nos provee de una función que permite construir tablas dinámicas, considerando cualquier función que permita construir agregaciones (por ejemplo, sumas, multiplicaciones, medias, medianas, mínimos, máximos, etc.). Tal función es `pd.pivot_table()`:"
   ]
  },
  {
   "cell_type": "code",
   "execution_count": 43,
   "id": "f194e7fa",
   "metadata": {},
   "outputs": [
    {
     "data": {
      "text/html": [
       "<div>\n",
       "<style scoped>\n",
       "    .dataframe tbody tr th:only-of-type {\n",
       "        vertical-align: middle;\n",
       "    }\n",
       "\n",
       "    .dataframe tbody tr th {\n",
       "        vertical-align: top;\n",
       "    }\n",
       "\n",
       "    .dataframe thead th {\n",
       "        text-align: right;\n",
       "    }\n",
       "</style>\n",
       "<table border=\"1\" class=\"dataframe\">\n",
       "  <thead>\n",
       "    <tr style=\"text-align: right;\">\n",
       "      <th></th>\n",
       "      <th>area</th>\n",
       "      <th>frec_fracturas</th>\n",
       "      <th>sigma_z</th>\n",
       "      <th>tiraje_prom</th>\n",
       "    </tr>\n",
       "    <tr>\n",
       "      <th>calidad_roca</th>\n",
       "      <th></th>\n",
       "      <th></th>\n",
       "      <th></th>\n",
       "      <th></th>\n",
       "    </tr>\n",
       "  </thead>\n",
       "  <tbody>\n",
       "    <tr>\n",
       "      <th>Buena Calidad</th>\n",
       "      <td>331.530377</td>\n",
       "      <td>0.735853</td>\n",
       "      <td>13.552295</td>\n",
       "      <td>124.446603</td>\n",
       "    </tr>\n",
       "    <tr>\n",
       "      <th>Calidad Regular</th>\n",
       "      <td>323.597392</td>\n",
       "      <td>1.751776</td>\n",
       "      <td>12.355339</td>\n",
       "      <td>140.767855</td>\n",
       "    </tr>\n",
       "    <tr>\n",
       "      <th>Mala Calidad</th>\n",
       "      <td>313.395712</td>\n",
       "      <td>3.003736</td>\n",
       "      <td>12.192455</td>\n",
       "      <td>140.580501</td>\n",
       "    </tr>\n",
       "  </tbody>\n",
       "</table>\n",
       "</div>"
      ],
      "text/plain": [
       "                       area  frec_fracturas    sigma_z  tiraje_prom\n",
       "calidad_roca                                                       \n",
       "Buena Calidad    331.530377        0.735853  13.552295   124.446603\n",
       "Calidad Regular  323.597392        1.751776  12.355339   140.767855\n",
       "Mala Calidad     313.395712        3.003736  12.192455   140.580501"
      ]
     },
     "execution_count": 43,
     "metadata": {},
     "output_type": "execute_result"
    }
   ],
   "source": [
    "# La función pd.pivot_table() permite construir tablas dinámicas a partir de un DataFrame, siempre que\n",
    "# dispongamos de una columna con valores categóricos que posibilite esta agrupación.\n",
    "pd.pivot_table(\n",
    "    data=data, index=\"calidad_roca\", \n",
    "    values=['sigma_z', 'area', 'tiraje_prom', 'frec_fracturas'],\n",
    "    aggfunc=np.mean\n",
    ")"
   ]
  },
  {
   "cell_type": "markdown",
   "id": "46fd0387",
   "metadata": {},
   "source": [
    "Vemos que, en la función `pd.pivot_table()`, disponemos de los siguientes argumentos: `data` para definir el DataFrame a partir del cual construimos la tabla dinámica;` index` para definir la variable desde la cual agrupamos información para visualizarla en la tabla dinámica; `values` para listar las columnas que se visualizarán en la tabla dinámica; y `aggfunc` para definir la función de agregación a utilizar en la tabla dinámica.\n",
    "\n",
    "Podemos usar cualquier tipo de función de agregación:"
   ]
  },
  {
   "cell_type": "code",
   "execution_count": 44,
   "id": "9760c263",
   "metadata": {},
   "outputs": [
    {
     "data": {
      "text/html": [
       "<div>\n",
       "<style scoped>\n",
       "    .dataframe tbody tr th:only-of-type {\n",
       "        vertical-align: middle;\n",
       "    }\n",
       "\n",
       "    .dataframe tbody tr th {\n",
       "        vertical-align: top;\n",
       "    }\n",
       "\n",
       "    .dataframe thead th {\n",
       "        text-align: right;\n",
       "    }\n",
       "</style>\n",
       "<table border=\"1\" class=\"dataframe\">\n",
       "  <thead>\n",
       "    <tr style=\"text-align: right;\">\n",
       "      <th></th>\n",
       "      <th>area</th>\n",
       "      <th>frec_fracturas</th>\n",
       "      <th>sigma_z</th>\n",
       "      <th>tiraje_prom</th>\n",
       "    </tr>\n",
       "    <tr>\n",
       "      <th>calidad_roca</th>\n",
       "      <th></th>\n",
       "      <th></th>\n",
       "      <th></th>\n",
       "      <th></th>\n",
       "    </tr>\n",
       "  </thead>\n",
       "  <tbody>\n",
       "    <tr>\n",
       "      <th>Buena Calidad</th>\n",
       "      <td>707.4252</td>\n",
       "      <td>1.225</td>\n",
       "      <td>29.742796</td>\n",
       "      <td>201.307</td>\n",
       "    </tr>\n",
       "    <tr>\n",
       "      <th>Calidad Regular</th>\n",
       "      <td>559.2209</td>\n",
       "      <td>2.250</td>\n",
       "      <td>25.615528</td>\n",
       "      <td>193.471</td>\n",
       "    </tr>\n",
       "    <tr>\n",
       "      <th>Mala Calidad</th>\n",
       "      <td>662.9659</td>\n",
       "      <td>3.070</td>\n",
       "      <td>27.146460</td>\n",
       "      <td>192.489</td>\n",
       "    </tr>\n",
       "  </tbody>\n",
       "</table>\n",
       "</div>"
      ],
      "text/plain": [
       "                     area  frec_fracturas    sigma_z  tiraje_prom\n",
       "calidad_roca                                                     \n",
       "Buena Calidad    707.4252           1.225  29.742796      201.307\n",
       "Calidad Regular  559.2209           2.250  25.615528      193.471\n",
       "Mala Calidad     662.9659           3.070  27.146460      192.489"
      ]
     },
     "execution_count": 44,
     "metadata": {},
     "output_type": "execute_result"
    }
   ],
   "source": [
    "# Tabla dinámica con agregaciones conforme valores máximos.\n",
    "pd.pivot_table(\n",
    "    data=data, index=\"calidad_roca\", \n",
    "    values=['sigma_z', 'area', 'tiraje_prom', 'frec_fracturas'],\n",
    "    aggfunc=np.max\n",
    ")"
   ]
  },
  {
   "cell_type": "code",
   "execution_count": 45,
   "id": "4713d440",
   "metadata": {},
   "outputs": [
    {
     "data": {
      "text/html": [
       "<div>\n",
       "<style scoped>\n",
       "    .dataframe tbody tr th:only-of-type {\n",
       "        vertical-align: middle;\n",
       "    }\n",
       "\n",
       "    .dataframe tbody tr th {\n",
       "        vertical-align: top;\n",
       "    }\n",
       "\n",
       "    .dataframe thead th {\n",
       "        text-align: right;\n",
       "    }\n",
       "</style>\n",
       "<table border=\"1\" class=\"dataframe\">\n",
       "  <thead>\n",
       "    <tr style=\"text-align: right;\">\n",
       "      <th></th>\n",
       "      <th>area</th>\n",
       "      <th>frec_fracturas</th>\n",
       "      <th>sigma_z</th>\n",
       "      <th>tiraje_prom</th>\n",
       "    </tr>\n",
       "    <tr>\n",
       "      <th>calidad_roca</th>\n",
       "      <th></th>\n",
       "      <th></th>\n",
       "      <th></th>\n",
       "      <th></th>\n",
       "    </tr>\n",
       "  </thead>\n",
       "  <tbody>\n",
       "    <tr>\n",
       "      <th>Buena Calidad</th>\n",
       "      <td>346.74145</td>\n",
       "      <td>0.6700</td>\n",
       "      <td>12.383410</td>\n",
       "      <td>131.3165</td>\n",
       "    </tr>\n",
       "    <tr>\n",
       "      <th>Calidad Regular</th>\n",
       "      <td>337.26905</td>\n",
       "      <td>1.7375</td>\n",
       "      <td>11.419470</td>\n",
       "      <td>134.0185</td>\n",
       "    </tr>\n",
       "    <tr>\n",
       "      <th>Mala Calidad</th>\n",
       "      <td>327.88290</td>\n",
       "      <td>3.0700</td>\n",
       "      <td>11.560717</td>\n",
       "      <td>138.9340</td>\n",
       "    </tr>\n",
       "  </tbody>\n",
       "</table>\n",
       "</div>"
      ],
      "text/plain": [
       "                      area  frec_fracturas    sigma_z  tiraje_prom\n",
       "calidad_roca                                                      \n",
       "Buena Calidad    346.74145          0.6700  12.383410     131.3165\n",
       "Calidad Regular  337.26905          1.7375  11.419470     134.0185\n",
       "Mala Calidad     327.88290          3.0700  11.560717     138.9340"
      ]
     },
     "execution_count": 45,
     "metadata": {},
     "output_type": "execute_result"
    }
   ],
   "source": [
    "# Tabla dinámica con agregaciones conforme medianas.\n",
    "pd.pivot_table(\n",
    "    data=data, index=\"calidad_roca\", \n",
    "    values=['sigma_z', 'area', 'tiraje_prom', 'frec_fracturas'],\n",
    "    aggfunc=np.median\n",
    ")"
   ]
  },
  {
   "cell_type": "markdown",
   "id": "018f9901",
   "metadata": {},
   "source": [
    "Es posible construir agregaciones horizontales e incluso conforme más de una categoría. Construyamos una nueva variable con strings en nuestro DataFrame para probar esta opción. De este modo, supongamos que, conforme al tiraje existente en los puntos extracción aledaños a cada pilar, se define que todo pilar con menos de 25 t de tiraje no se considera en producción, un tiraje mayor o igual que 150 t se considera con alta producción circulante, y un pilar con tiraje entre 25 y 150 t se considera con baja producción circulante. Podemos usar la función `np.where()` para generar dicha clasificación:"
   ]
  },
  {
   "cell_type": "code",
   "execution_count": 46,
   "id": "1d694614",
   "metadata": {},
   "outputs": [],
   "source": [
    "# Nueva clasificación conforme tiraje.\n",
    "data[\"estado\"] = np.where(\n",
    "    data[\"tiraje_prom\"] <= 25,\n",
    "    \"sin prod\",\n",
    "    np.where(\n",
    "        data[\"tiraje_prom\"] >= 150,\n",
    "        \"alta prod\",\n",
    "        \"baja prod\"\n",
    "    )\n",
    ")"
   ]
  },
  {
   "cell_type": "markdown",
   "id": "5bbd46c9",
   "metadata": {},
   "source": [
    "Esta nueva columna tiene la siguiente distribución de valores:"
   ]
  },
  {
   "cell_type": "code",
   "execution_count": 47,
   "id": "ab2629df",
   "metadata": {},
   "outputs": [
    {
     "data": {
      "text/plain": [
       "baja prod    662\n",
       "alta prod    219\n",
       "sin prod      42\n",
       "Name: estado, dtype: int64"
      ]
     },
     "execution_count": 47,
     "metadata": {},
     "output_type": "execute_result"
    }
   ],
   "source": [
    "data[\"estado\"].value_counts()"
   ]
  },
  {
   "cell_type": "markdown",
   "id": "1954eb20",
   "metadata": {},
   "source": [
    "Para construir una tabla dinámica con más de una categoría, usamos el argumento `columns` para definir la categoría adicional (en este caso, `\"estado\"`). Sumamos además el argumento `margins` (con valor Booleano `True`) para mostrar el resultado de las agregaciones horizontales conforme la función de agregación definida mediante el argumento `aggfunc`:"
   ]
  },
  {
   "cell_type": "code",
   "execution_count": 48,
   "id": "6577b467",
   "metadata": {},
   "outputs": [],
   "source": [
    "# Construimos la tabla dinámica y la asignamos a una variable.\n",
    "pivot_data = pd.pivot_table(\n",
    "    data=data, index=\"calidad_roca\", \n",
    "    values=['sigma_z', 'area'],\n",
    "    aggfunc=np.mean, columns=\"estado\", margins=True\n",
    ")"
   ]
  },
  {
   "cell_type": "code",
   "execution_count": 49,
   "id": "9155d4dd",
   "metadata": {},
   "outputs": [
    {
     "data": {
      "text/html": [
       "<div>\n",
       "<style scoped>\n",
       "    .dataframe tbody tr th:only-of-type {\n",
       "        vertical-align: middle;\n",
       "    }\n",
       "\n",
       "    .dataframe tbody tr th {\n",
       "        vertical-align: top;\n",
       "    }\n",
       "\n",
       "    .dataframe thead tr th {\n",
       "        text-align: left;\n",
       "    }\n",
       "\n",
       "    .dataframe thead tr:last-of-type th {\n",
       "        text-align: right;\n",
       "    }\n",
       "</style>\n",
       "<table border=\"1\" class=\"dataframe\">\n",
       "  <thead>\n",
       "    <tr>\n",
       "      <th></th>\n",
       "      <th colspan=\"4\" halign=\"left\">area</th>\n",
       "      <th colspan=\"4\" halign=\"left\">sigma_z</th>\n",
       "    </tr>\n",
       "    <tr>\n",
       "      <th>estado</th>\n",
       "      <th>alta prod</th>\n",
       "      <th>baja prod</th>\n",
       "      <th>sin prod</th>\n",
       "      <th>All</th>\n",
       "      <th>alta prod</th>\n",
       "      <th>baja prod</th>\n",
       "      <th>sin prod</th>\n",
       "      <th>All</th>\n",
       "    </tr>\n",
       "    <tr>\n",
       "      <th>calidad_roca</th>\n",
       "      <th></th>\n",
       "      <th></th>\n",
       "      <th></th>\n",
       "      <th></th>\n",
       "      <th></th>\n",
       "      <th></th>\n",
       "      <th></th>\n",
       "      <th></th>\n",
       "    </tr>\n",
       "  </thead>\n",
       "  <tbody>\n",
       "    <tr>\n",
       "      <th>Buena Calidad</th>\n",
       "      <td>352.6</td>\n",
       "      <td>327.3</td>\n",
       "      <td>317.0</td>\n",
       "      <td>331.5</td>\n",
       "      <td>15.6</td>\n",
       "      <td>12.4</td>\n",
       "      <td>17.9</td>\n",
       "      <td>13.6</td>\n",
       "    </tr>\n",
       "    <tr>\n",
       "      <th>Calidad Regular</th>\n",
       "      <td>331.4</td>\n",
       "      <td>320.6</td>\n",
       "      <td>NaN</td>\n",
       "      <td>323.6</td>\n",
       "      <td>14.3</td>\n",
       "      <td>11.6</td>\n",
       "      <td>NaN</td>\n",
       "      <td>12.4</td>\n",
       "    </tr>\n",
       "    <tr>\n",
       "      <th>Mala Calidad</th>\n",
       "      <td>326.0</td>\n",
       "      <td>308.7</td>\n",
       "      <td>NaN</td>\n",
       "      <td>313.4</td>\n",
       "      <td>12.4</td>\n",
       "      <td>12.1</td>\n",
       "      <td>NaN</td>\n",
       "      <td>12.2</td>\n",
       "    </tr>\n",
       "    <tr>\n",
       "      <th>All</th>\n",
       "      <td>337.7</td>\n",
       "      <td>318.6</td>\n",
       "      <td>317.0</td>\n",
       "      <td>323.1</td>\n",
       "      <td>13.9</td>\n",
       "      <td>12.2</td>\n",
       "      <td>17.9</td>\n",
       "      <td>12.9</td>\n",
       "    </tr>\n",
       "  </tbody>\n",
       "</table>\n",
       "</div>"
      ],
      "text/plain": [
       "                     area                             sigma_z            \\\n",
       "estado          alta prod baja prod sin prod    All alta prod baja prod   \n",
       "calidad_roca                                                              \n",
       "Buena Calidad       352.6     327.3    317.0  331.5      15.6      12.4   \n",
       "Calidad Regular     331.4     320.6      NaN  323.6      14.3      11.6   \n",
       "Mala Calidad        326.0     308.7      NaN  313.4      12.4      12.1   \n",
       "All                 337.7     318.6    317.0  323.1      13.9      12.2   \n",
       "\n",
       "                                \n",
       "estado          sin prod   All  \n",
       "calidad_roca                    \n",
       "Buena Calidad       17.9  13.6  \n",
       "Calidad Regular      NaN  12.4  \n",
       "Mala Calidad         NaN  12.2  \n",
       "All                 17.9  12.9  "
      ]
     },
     "execution_count": 49,
     "metadata": {},
     "output_type": "execute_result"
    }
   ],
   "source": [
    "# Mostramos la tabla redondeando los decimales a sólo uno (por motivos de presentación).\n",
    "round(pivot_data, 1)"
   ]
  },
  {
   "cell_type": "markdown",
   "id": "a5c3f740",
   "metadata": {},
   "source": [
    "Observamos que, cuando no es posible hacer el agrupamiento, la posición de la tabla dinámica en la cual debía retornarse dicho agrupamiento se rellena con un `nan`.\n",
    "\n",
    "## Ordenamiento de DataFrames.\n",
    "Cualquier estructura de datos de **Pandas** (series o DataFrames) puede ordenarse conforme el valor de sus índices, siendo dicho orden del tipo lexicográfico (considerando números u otros caracteres). Para ello, podemos utilizar el método `sort_index()`, el cual, por defecto, generará el correspondiente ordenamiento considerando los índices de filas en orden ascendente. El tipo de ordenamiento (ascendente o descendente) se controla mediante el argumento Booleano `ascending`:"
   ]
  },
  {
   "cell_type": "code",
   "execution_count": 50,
   "id": "d85ba2e2",
   "metadata": {},
   "outputs": [],
   "source": [
    "# Creamos un DataFrame para probar los métodos de ordenamiento. Dicho DataFrame estará compuesto\n",
    "# por ciertos aspectos asociados a algunos trabajadores en una empresa minera.\n",
    "workers_data = pd.DataFrame(\n",
    "    data=np.array([\n",
    "        [\"Alvarado Michael\", 2391, \"mina\", 38, True],\n",
    "        [\"Salgado Josefa\", 1556, \"planta\", 31, True],\n",
    "        [\"Martínez Luís\", 8722, \"mantenimiento\", 52, False],\n",
    "        [\"Orellana Marta\", 9042, \"mina\", 44, False],\n",
    "        [\"Castillo Leonor\", 13058, \"servicios\", 32, False],\n",
    "        [\"Galleguillos Alberto\", 12292, \"planta\", 33, False],\n",
    "        [\"Zapata Esteban\", 2317, \"mantenimiento\", 28, True],\n",
    "    ]),\n",
    "    index=[13889, 14364, 10987, 10056, 14887, 15474, 16645],\n",
    "    columns=[\"Trabajador\", \"Horas sin accidentes\", \"Gerencia\", \"Edad\", \"Indicador accidentes\"]\n",
    ")"
   ]
  },
  {
   "cell_type": "code",
   "execution_count": 51,
   "id": "ff7ff0e7",
   "metadata": {},
   "outputs": [],
   "source": [
    "# Definimos el nombre del índice de filas.\n",
    "workers_data.index.name = \"ID\""
   ]
  },
  {
   "cell_type": "code",
   "execution_count": 52,
   "id": "fd5e686a",
   "metadata": {},
   "outputs": [
    {
     "data": {
      "text/html": [
       "<div>\n",
       "<style scoped>\n",
       "    .dataframe tbody tr th:only-of-type {\n",
       "        vertical-align: middle;\n",
       "    }\n",
       "\n",
       "    .dataframe tbody tr th {\n",
       "        vertical-align: top;\n",
       "    }\n",
       "\n",
       "    .dataframe thead th {\n",
       "        text-align: right;\n",
       "    }\n",
       "</style>\n",
       "<table border=\"1\" class=\"dataframe\">\n",
       "  <thead>\n",
       "    <tr style=\"text-align: right;\">\n",
       "      <th></th>\n",
       "      <th>Trabajador</th>\n",
       "      <th>Horas sin accidentes</th>\n",
       "      <th>Gerencia</th>\n",
       "      <th>Edad</th>\n",
       "      <th>Indicador accidentes</th>\n",
       "    </tr>\n",
       "    <tr>\n",
       "      <th>ID</th>\n",
       "      <th></th>\n",
       "      <th></th>\n",
       "      <th></th>\n",
       "      <th></th>\n",
       "      <th></th>\n",
       "    </tr>\n",
       "  </thead>\n",
       "  <tbody>\n",
       "    <tr>\n",
       "      <th>13889</th>\n",
       "      <td>Alvarado Michael</td>\n",
       "      <td>2391</td>\n",
       "      <td>mina</td>\n",
       "      <td>38</td>\n",
       "      <td>True</td>\n",
       "    </tr>\n",
       "    <tr>\n",
       "      <th>14364</th>\n",
       "      <td>Salgado Josefa</td>\n",
       "      <td>1556</td>\n",
       "      <td>planta</td>\n",
       "      <td>31</td>\n",
       "      <td>True</td>\n",
       "    </tr>\n",
       "    <tr>\n",
       "      <th>10987</th>\n",
       "      <td>Martínez Luís</td>\n",
       "      <td>8722</td>\n",
       "      <td>mantenimiento</td>\n",
       "      <td>52</td>\n",
       "      <td>False</td>\n",
       "    </tr>\n",
       "    <tr>\n",
       "      <th>10056</th>\n",
       "      <td>Orellana Marta</td>\n",
       "      <td>9042</td>\n",
       "      <td>mina</td>\n",
       "      <td>44</td>\n",
       "      <td>False</td>\n",
       "    </tr>\n",
       "    <tr>\n",
       "      <th>14887</th>\n",
       "      <td>Castillo Leonor</td>\n",
       "      <td>13058</td>\n",
       "      <td>servicios</td>\n",
       "      <td>32</td>\n",
       "      <td>False</td>\n",
       "    </tr>\n",
       "    <tr>\n",
       "      <th>15474</th>\n",
       "      <td>Galleguillos Alberto</td>\n",
       "      <td>12292</td>\n",
       "      <td>planta</td>\n",
       "      <td>33</td>\n",
       "      <td>False</td>\n",
       "    </tr>\n",
       "    <tr>\n",
       "      <th>16645</th>\n",
       "      <td>Zapata Esteban</td>\n",
       "      <td>2317</td>\n",
       "      <td>mantenimiento</td>\n",
       "      <td>28</td>\n",
       "      <td>True</td>\n",
       "    </tr>\n",
       "  </tbody>\n",
       "</table>\n",
       "</div>"
      ],
      "text/plain": [
       "                 Trabajador Horas sin accidentes       Gerencia Edad  \\\n",
       "ID                                                                     \n",
       "13889      Alvarado Michael                 2391           mina   38   \n",
       "14364        Salgado Josefa                 1556         planta   31   \n",
       "10987         Martínez Luís                 8722  mantenimiento   52   \n",
       "10056        Orellana Marta                 9042           mina   44   \n",
       "14887       Castillo Leonor                13058      servicios   32   \n",
       "15474  Galleguillos Alberto                12292         planta   33   \n",
       "16645        Zapata Esteban                 2317  mantenimiento   28   \n",
       "\n",
       "      Indicador accidentes  \n",
       "ID                          \n",
       "13889                 True  \n",
       "14364                 True  \n",
       "10987                False  \n",
       "10056                False  \n",
       "14887                False  \n",
       "15474                False  \n",
       "16645                 True  "
      ]
     },
     "execution_count": 52,
     "metadata": {},
     "output_type": "execute_result"
    }
   ],
   "source": [
    "# Mostramos en pantalla este DataFrame.\n",
    "workers_data"
   ]
  },
  {
   "cell_type": "code",
   "execution_count": 53,
   "id": "8f51066f",
   "metadata": {},
   "outputs": [
    {
     "data": {
      "text/html": [
       "<div>\n",
       "<style scoped>\n",
       "    .dataframe tbody tr th:only-of-type {\n",
       "        vertical-align: middle;\n",
       "    }\n",
       "\n",
       "    .dataframe tbody tr th {\n",
       "        vertical-align: top;\n",
       "    }\n",
       "\n",
       "    .dataframe thead th {\n",
       "        text-align: right;\n",
       "    }\n",
       "</style>\n",
       "<table border=\"1\" class=\"dataframe\">\n",
       "  <thead>\n",
       "    <tr style=\"text-align: right;\">\n",
       "      <th></th>\n",
       "      <th>Trabajador</th>\n",
       "      <th>Horas sin accidentes</th>\n",
       "      <th>Gerencia</th>\n",
       "      <th>Edad</th>\n",
       "      <th>Indicador accidentes</th>\n",
       "    </tr>\n",
       "    <tr>\n",
       "      <th>ID</th>\n",
       "      <th></th>\n",
       "      <th></th>\n",
       "      <th></th>\n",
       "      <th></th>\n",
       "      <th></th>\n",
       "    </tr>\n",
       "  </thead>\n",
       "  <tbody>\n",
       "    <tr>\n",
       "      <th>10056</th>\n",
       "      <td>Orellana Marta</td>\n",
       "      <td>9042</td>\n",
       "      <td>mina</td>\n",
       "      <td>44</td>\n",
       "      <td>False</td>\n",
       "    </tr>\n",
       "    <tr>\n",
       "      <th>10987</th>\n",
       "      <td>Martínez Luís</td>\n",
       "      <td>8722</td>\n",
       "      <td>mantenimiento</td>\n",
       "      <td>52</td>\n",
       "      <td>False</td>\n",
       "    </tr>\n",
       "    <tr>\n",
       "      <th>13889</th>\n",
       "      <td>Alvarado Michael</td>\n",
       "      <td>2391</td>\n",
       "      <td>mina</td>\n",
       "      <td>38</td>\n",
       "      <td>True</td>\n",
       "    </tr>\n",
       "    <tr>\n",
       "      <th>14364</th>\n",
       "      <td>Salgado Josefa</td>\n",
       "      <td>1556</td>\n",
       "      <td>planta</td>\n",
       "      <td>31</td>\n",
       "      <td>True</td>\n",
       "    </tr>\n",
       "    <tr>\n",
       "      <th>14887</th>\n",
       "      <td>Castillo Leonor</td>\n",
       "      <td>13058</td>\n",
       "      <td>servicios</td>\n",
       "      <td>32</td>\n",
       "      <td>False</td>\n",
       "    </tr>\n",
       "    <tr>\n",
       "      <th>15474</th>\n",
       "      <td>Galleguillos Alberto</td>\n",
       "      <td>12292</td>\n",
       "      <td>planta</td>\n",
       "      <td>33</td>\n",
       "      <td>False</td>\n",
       "    </tr>\n",
       "    <tr>\n",
       "      <th>16645</th>\n",
       "      <td>Zapata Esteban</td>\n",
       "      <td>2317</td>\n",
       "      <td>mantenimiento</td>\n",
       "      <td>28</td>\n",
       "      <td>True</td>\n",
       "    </tr>\n",
       "  </tbody>\n",
       "</table>\n",
       "</div>"
      ],
      "text/plain": [
       "                 Trabajador Horas sin accidentes       Gerencia Edad  \\\n",
       "ID                                                                     \n",
       "10056        Orellana Marta                 9042           mina   44   \n",
       "10987         Martínez Luís                 8722  mantenimiento   52   \n",
       "13889      Alvarado Michael                 2391           mina   38   \n",
       "14364        Salgado Josefa                 1556         planta   31   \n",
       "14887       Castillo Leonor                13058      servicios   32   \n",
       "15474  Galleguillos Alberto                12292         planta   33   \n",
       "16645        Zapata Esteban                 2317  mantenimiento   28   \n",
       "\n",
       "      Indicador accidentes  \n",
       "ID                          \n",
       "10056                False  \n",
       "10987                False  \n",
       "13889                 True  \n",
       "14364                 True  \n",
       "14887                False  \n",
       "15474                False  \n",
       "16645                 True  "
      ]
     },
     "execution_count": 53,
     "metadata": {},
     "output_type": "execute_result"
    }
   ],
   "source": [
    "# Ordenamos este DataFrame conforme los índices de fila de manera ascendente.\n",
    "workers_data.sort_index(ascending=True)"
   ]
  },
  {
   "cell_type": "markdown",
   "id": "beae3a59",
   "metadata": {},
   "source": [
    "Por supuesto, para ordenar un DataFrame conforme sus índices en forma descendente, bastará con setear el argumento `ascending=False`.\n",
    "\n",
    "También es posible ordenar un DataFrame conforme los valores de cualquiera de sus columnas. Para ello, podemos utilizar el método `sort_values()`, usando el argumento by para indicar el rótulo de columna que definirá la referencia desde la cual haremos el ordenamiento:"
   ]
  },
  {
   "cell_type": "code",
   "execution_count": 54,
   "id": "aa09a806",
   "metadata": {},
   "outputs": [
    {
     "data": {
      "text/html": [
       "<div>\n",
       "<style scoped>\n",
       "    .dataframe tbody tr th:only-of-type {\n",
       "        vertical-align: middle;\n",
       "    }\n",
       "\n",
       "    .dataframe tbody tr th {\n",
       "        vertical-align: top;\n",
       "    }\n",
       "\n",
       "    .dataframe thead th {\n",
       "        text-align: right;\n",
       "    }\n",
       "</style>\n",
       "<table border=\"1\" class=\"dataframe\">\n",
       "  <thead>\n",
       "    <tr style=\"text-align: right;\">\n",
       "      <th></th>\n",
       "      <th>Trabajador</th>\n",
       "      <th>Horas sin accidentes</th>\n",
       "      <th>Gerencia</th>\n",
       "      <th>Edad</th>\n",
       "      <th>Indicador accidentes</th>\n",
       "    </tr>\n",
       "    <tr>\n",
       "      <th>ID</th>\n",
       "      <th></th>\n",
       "      <th></th>\n",
       "      <th></th>\n",
       "      <th></th>\n",
       "      <th></th>\n",
       "    </tr>\n",
       "  </thead>\n",
       "  <tbody>\n",
       "    <tr>\n",
       "      <th>13889</th>\n",
       "      <td>Alvarado Michael</td>\n",
       "      <td>2391</td>\n",
       "      <td>mina</td>\n",
       "      <td>38</td>\n",
       "      <td>True</td>\n",
       "    </tr>\n",
       "    <tr>\n",
       "      <th>14887</th>\n",
       "      <td>Castillo Leonor</td>\n",
       "      <td>13058</td>\n",
       "      <td>servicios</td>\n",
       "      <td>32</td>\n",
       "      <td>False</td>\n",
       "    </tr>\n",
       "    <tr>\n",
       "      <th>15474</th>\n",
       "      <td>Galleguillos Alberto</td>\n",
       "      <td>12292</td>\n",
       "      <td>planta</td>\n",
       "      <td>33</td>\n",
       "      <td>False</td>\n",
       "    </tr>\n",
       "    <tr>\n",
       "      <th>10987</th>\n",
       "      <td>Martínez Luís</td>\n",
       "      <td>8722</td>\n",
       "      <td>mantenimiento</td>\n",
       "      <td>52</td>\n",
       "      <td>False</td>\n",
       "    </tr>\n",
       "    <tr>\n",
       "      <th>10056</th>\n",
       "      <td>Orellana Marta</td>\n",
       "      <td>9042</td>\n",
       "      <td>mina</td>\n",
       "      <td>44</td>\n",
       "      <td>False</td>\n",
       "    </tr>\n",
       "    <tr>\n",
       "      <th>14364</th>\n",
       "      <td>Salgado Josefa</td>\n",
       "      <td>1556</td>\n",
       "      <td>planta</td>\n",
       "      <td>31</td>\n",
       "      <td>True</td>\n",
       "    </tr>\n",
       "    <tr>\n",
       "      <th>16645</th>\n",
       "      <td>Zapata Esteban</td>\n",
       "      <td>2317</td>\n",
       "      <td>mantenimiento</td>\n",
       "      <td>28</td>\n",
       "      <td>True</td>\n",
       "    </tr>\n",
       "  </tbody>\n",
       "</table>\n",
       "</div>"
      ],
      "text/plain": [
       "                 Trabajador Horas sin accidentes       Gerencia Edad  \\\n",
       "ID                                                                     \n",
       "13889      Alvarado Michael                 2391           mina   38   \n",
       "14887       Castillo Leonor                13058      servicios   32   \n",
       "15474  Galleguillos Alberto                12292         planta   33   \n",
       "10987         Martínez Luís                 8722  mantenimiento   52   \n",
       "10056        Orellana Marta                 9042           mina   44   \n",
       "14364        Salgado Josefa                 1556         planta   31   \n",
       "16645        Zapata Esteban                 2317  mantenimiento   28   \n",
       "\n",
       "      Indicador accidentes  \n",
       "ID                          \n",
       "13889                 True  \n",
       "14887                False  \n",
       "15474                False  \n",
       "10987                False  \n",
       "10056                False  \n",
       "14364                 True  \n",
       "16645                 True  "
      ]
     },
     "execution_count": 54,
     "metadata": {},
     "output_type": "execute_result"
    }
   ],
   "source": [
    "# Ordenamos este DataFrame conforme los nombres de cada trabajador.\n",
    "workers_data.sort_values(by=\"Trabajador\")"
   ]
  },
  {
   "cell_type": "markdown",
   "id": "452deaf1",
   "metadata": {},
   "source": [
    "Cualquiera de los métodos de ordenamiento anteriores sólo devuelve copias del DataFrame sobre el cual los aplicamos. Para realizar la modificación desde la misma implementación del método, como sabemos, seteamos el argumento `inplace=True`.\n",
    "\n",
    "## Setting de índices en DataFrames.\n",
    "Cualquier DataFrame puede indexarse conforme cualquiera de sus columnas. Para definir una columna que pasará a ser el índice de un DataFrame, podemos usar el método `set_index()`, usando el argumento `keys` para especificar el rótulo de la columna que será el nuevo índice de filas de nuestro DataFrame. Para que estos cambios surtan efecto inmediatamente, podemos setear el argumento `inplace=True`:"
   ]
  },
  {
   "cell_type": "code",
   "execution_count": 55,
   "id": "a4c936d7",
   "metadata": {},
   "outputs": [],
   "source": [
    "# Creamos una nueva columna identificadora de pilares, con la cual indexaremos nuestro\n",
    "# DataFrame.\n",
    "data[\"id\"] = np.arange(start=1, stop=data.shape[0]+1, step=1)"
   ]
  },
  {
   "cell_type": "code",
   "execution_count": 56,
   "id": "f702bf91",
   "metadata": {},
   "outputs": [
    {
     "data": {
      "text/html": [
       "<div>\n",
       "<style scoped>\n",
       "    .dataframe tbody tr th:only-of-type {\n",
       "        vertical-align: middle;\n",
       "    }\n",
       "\n",
       "    .dataframe tbody tr th {\n",
       "        vertical-align: top;\n",
       "    }\n",
       "\n",
       "    .dataframe thead th {\n",
       "        text-align: right;\n",
       "    }\n",
       "</style>\n",
       "<table border=\"1\" class=\"dataframe\">\n",
       "  <thead>\n",
       "    <tr style=\"text-align: right;\">\n",
       "      <th></th>\n",
       "      <th>x</th>\n",
       "      <th>y</th>\n",
       "      <th>z</th>\n",
       "      <th>area</th>\n",
       "      <th>frec_fracturas</th>\n",
       "      <th>sigma_z</th>\n",
       "      <th>tiraje_prom</th>\n",
       "      <th>calidad_roca</th>\n",
       "      <th>estado</th>\n",
       "    </tr>\n",
       "    <tr>\n",
       "      <th>id</th>\n",
       "      <th></th>\n",
       "      <th></th>\n",
       "      <th></th>\n",
       "      <th></th>\n",
       "      <th></th>\n",
       "      <th></th>\n",
       "      <th></th>\n",
       "      <th></th>\n",
       "      <th></th>\n",
       "    </tr>\n",
       "  </thead>\n",
       "  <tbody>\n",
       "    <tr>\n",
       "      <th>1</th>\n",
       "      <td>1006.1766</td>\n",
       "      <td>488.6437</td>\n",
       "      <td>2346</td>\n",
       "      <td>286.5643</td>\n",
       "      <td>1.979</td>\n",
       "      <td>11.126392</td>\n",
       "      <td>122.685</td>\n",
       "      <td>Calidad Regular</td>\n",
       "      <td>baja prod</td>\n",
       "    </tr>\n",
       "    <tr>\n",
       "      <th>2</th>\n",
       "      <td>1040.6020</td>\n",
       "      <td>492.5178</td>\n",
       "      <td>2346</td>\n",
       "      <td>286.5643</td>\n",
       "      <td>3.070</td>\n",
       "      <td>9.646313</td>\n",
       "      <td>121.178</td>\n",
       "      <td>Mala Calidad</td>\n",
       "      <td>baja prod</td>\n",
       "    </tr>\n",
       "    <tr>\n",
       "      <th>3</th>\n",
       "      <td>1075.0274</td>\n",
       "      <td>496.3919</td>\n",
       "      <td>2346</td>\n",
       "      <td>286.5643</td>\n",
       "      <td>3.070</td>\n",
       "      <td>10.590594</td>\n",
       "      <td>118.942</td>\n",
       "      <td>Mala Calidad</td>\n",
       "      <td>baja prod</td>\n",
       "    </tr>\n",
       "    <tr>\n",
       "      <th>4</th>\n",
       "      <td>1109.4528</td>\n",
       "      <td>500.2660</td>\n",
       "      <td>2346</td>\n",
       "      <td>286.5643</td>\n",
       "      <td>1.750</td>\n",
       "      <td>10.605144</td>\n",
       "      <td>120.012</td>\n",
       "      <td>Calidad Regular</td>\n",
       "      <td>baja prod</td>\n",
       "    </tr>\n",
       "    <tr>\n",
       "      <th>5</th>\n",
       "      <td>1143.8782</td>\n",
       "      <td>504.1401</td>\n",
       "      <td>2346</td>\n",
       "      <td>286.5643</td>\n",
       "      <td>0.670</td>\n",
       "      <td>10.059537</td>\n",
       "      <td>122.787</td>\n",
       "      <td>Buena Calidad</td>\n",
       "      <td>baja prod</td>\n",
       "    </tr>\n",
       "  </tbody>\n",
       "</table>\n",
       "</div>"
      ],
      "text/plain": [
       "            x         y     z      area  frec_fracturas    sigma_z  \\\n",
       "id                                                                   \n",
       "1   1006.1766  488.6437  2346  286.5643           1.979  11.126392   \n",
       "2   1040.6020  492.5178  2346  286.5643           3.070   9.646313   \n",
       "3   1075.0274  496.3919  2346  286.5643           3.070  10.590594   \n",
       "4   1109.4528  500.2660  2346  286.5643           1.750  10.605144   \n",
       "5   1143.8782  504.1401  2346  286.5643           0.670  10.059537   \n",
       "\n",
       "    tiraje_prom     calidad_roca     estado  \n",
       "id                                           \n",
       "1       122.685  Calidad Regular  baja prod  \n",
       "2       121.178     Mala Calidad  baja prod  \n",
       "3       118.942     Mala Calidad  baja prod  \n",
       "4       120.012  Calidad Regular  baja prod  \n",
       "5       122.787    Buena Calidad  baja prod  "
      ]
     },
     "execution_count": 56,
     "metadata": {},
     "output_type": "execute_result"
    }
   ],
   "source": [
    "# Usamos esta nueva columna para indexar el DataFrame mediante el método set_index().\n",
    "data.set_index(keys=\"id\", inplace=True)\n",
    "data.head()"
   ]
  },
  {
   "cell_type": "markdown",
   "id": "e1b0cd32",
   "metadata": {},
   "source": [
    "Por supuesto, siempre podemos reiniciar el índice de un DataFrame y generar uno por defecto mediante el método `reset_index()`. Podemos usar el argumento `drop`, que es Booleano, para indicar si deseamos recuperar el índice antiguo, dejándolo como columna en nuestro DataFrame:"
   ]
  },
  {
   "cell_type": "code",
   "execution_count": 57,
   "id": "7b9cf983",
   "metadata": {},
   "outputs": [
    {
     "data": {
      "text/html": [
       "<div>\n",
       "<style scoped>\n",
       "    .dataframe tbody tr th:only-of-type {\n",
       "        vertical-align: middle;\n",
       "    }\n",
       "\n",
       "    .dataframe tbody tr th {\n",
       "        vertical-align: top;\n",
       "    }\n",
       "\n",
       "    .dataframe thead th {\n",
       "        text-align: right;\n",
       "    }\n",
       "</style>\n",
       "<table border=\"1\" class=\"dataframe\">\n",
       "  <thead>\n",
       "    <tr style=\"text-align: right;\">\n",
       "      <th></th>\n",
       "      <th>x</th>\n",
       "      <th>y</th>\n",
       "      <th>z</th>\n",
       "      <th>area</th>\n",
       "      <th>frec_fracturas</th>\n",
       "      <th>sigma_z</th>\n",
       "      <th>tiraje_prom</th>\n",
       "      <th>calidad_roca</th>\n",
       "      <th>estado</th>\n",
       "    </tr>\n",
       "  </thead>\n",
       "  <tbody>\n",
       "    <tr>\n",
       "      <th>0</th>\n",
       "      <td>1006.1766</td>\n",
       "      <td>488.6437</td>\n",
       "      <td>2346</td>\n",
       "      <td>286.5643</td>\n",
       "      <td>1.979</td>\n",
       "      <td>11.126392</td>\n",
       "      <td>122.685</td>\n",
       "      <td>Calidad Regular</td>\n",
       "      <td>baja prod</td>\n",
       "    </tr>\n",
       "    <tr>\n",
       "      <th>1</th>\n",
       "      <td>1040.6020</td>\n",
       "      <td>492.5178</td>\n",
       "      <td>2346</td>\n",
       "      <td>286.5643</td>\n",
       "      <td>3.070</td>\n",
       "      <td>9.646313</td>\n",
       "      <td>121.178</td>\n",
       "      <td>Mala Calidad</td>\n",
       "      <td>baja prod</td>\n",
       "    </tr>\n",
       "    <tr>\n",
       "      <th>2</th>\n",
       "      <td>1075.0274</td>\n",
       "      <td>496.3919</td>\n",
       "      <td>2346</td>\n",
       "      <td>286.5643</td>\n",
       "      <td>3.070</td>\n",
       "      <td>10.590594</td>\n",
       "      <td>118.942</td>\n",
       "      <td>Mala Calidad</td>\n",
       "      <td>baja prod</td>\n",
       "    </tr>\n",
       "    <tr>\n",
       "      <th>3</th>\n",
       "      <td>1109.4528</td>\n",
       "      <td>500.2660</td>\n",
       "      <td>2346</td>\n",
       "      <td>286.5643</td>\n",
       "      <td>1.750</td>\n",
       "      <td>10.605144</td>\n",
       "      <td>120.012</td>\n",
       "      <td>Calidad Regular</td>\n",
       "      <td>baja prod</td>\n",
       "    </tr>\n",
       "    <tr>\n",
       "      <th>4</th>\n",
       "      <td>1143.8782</td>\n",
       "      <td>504.1401</td>\n",
       "      <td>2346</td>\n",
       "      <td>286.5643</td>\n",
       "      <td>0.670</td>\n",
       "      <td>10.059537</td>\n",
       "      <td>122.787</td>\n",
       "      <td>Buena Calidad</td>\n",
       "      <td>baja prod</td>\n",
       "    </tr>\n",
       "  </tbody>\n",
       "</table>\n",
       "</div>"
      ],
      "text/plain": [
       "           x         y     z      area  frec_fracturas    sigma_z  \\\n",
       "0  1006.1766  488.6437  2346  286.5643           1.979  11.126392   \n",
       "1  1040.6020  492.5178  2346  286.5643           3.070   9.646313   \n",
       "2  1075.0274  496.3919  2346  286.5643           3.070  10.590594   \n",
       "3  1109.4528  500.2660  2346  286.5643           1.750  10.605144   \n",
       "4  1143.8782  504.1401  2346  286.5643           0.670  10.059537   \n",
       "\n",
       "   tiraje_prom     calidad_roca     estado  \n",
       "0      122.685  Calidad Regular  baja prod  \n",
       "1      121.178     Mala Calidad  baja prod  \n",
       "2      118.942     Mala Calidad  baja prod  \n",
       "3      120.012  Calidad Regular  baja prod  \n",
       "4      122.787    Buena Calidad  baja prod  "
      ]
     },
     "execution_count": 57,
     "metadata": {},
     "output_type": "execute_result"
    }
   ],
   "source": [
    "# Reseteamos el índice de nuestro DataFrame, descartando el anterior.\n",
    "data.reset_index(drop=True, inplace=True)\n",
    "data.head()"
   ]
  },
  {
   "cell_type": "markdown",
   "id": "adeaa1bf",
   "metadata": {},
   "source": [
    "## Eliminación de índices duplicados.\n",
    "Un aspecto importante de la estructuración de datos en una serie o DataFrame corresponde al aseguramiento de que no existan filas o columnas rotuladas con el mismo índice. Es decir, no queremos que existan índices duplicados en ninguna dimensión.\n",
    "\n",
    "Podemos abordar este problema desde varias aristas. Por ejemplo, podríamos renombrar los índices que se encuentran duplicados. Sin embargo, debido a que los índices son objetos inmutables, esta forma de abordar el problema puede resultar un tanto impráctica. Por lo tanto, suele ser mucho más sencillo deshacernos de todas aquellas filas o columnas con índices duplicados.\n",
    "\n",
    "Para ilustrar cómo hacerlo, primero construiremos un DataFrame con índices e filas y columnas duplicados:"
   ]
  },
  {
   "cell_type": "code",
   "execution_count": 58,
   "id": "27f37044",
   "metadata": {},
   "outputs": [],
   "source": [
    "# Construimos un DataFrame con índices de fila duplicados.\n",
    "rng = np.random.default_rng(42)\n",
    "\n",
    "df = pd.DataFrame(\n",
    "    data=rng.random(size=(6, 6)),\n",
    "    index=[\"a\", \"b\", \"c\", \"a\", \"d\", \"d\"],\n",
    "    columns=[\"p\", \"p\", \"r\", \"s\", \"s\", \"t\"]\n",
    ")"
   ]
  },
  {
   "cell_type": "code",
   "execution_count": 59,
   "id": "fff81797",
   "metadata": {},
   "outputs": [
    {
     "data": {
      "text/html": [
       "<div>\n",
       "<style scoped>\n",
       "    .dataframe tbody tr th:only-of-type {\n",
       "        vertical-align: middle;\n",
       "    }\n",
       "\n",
       "    .dataframe tbody tr th {\n",
       "        vertical-align: top;\n",
       "    }\n",
       "\n",
       "    .dataframe thead th {\n",
       "        text-align: right;\n",
       "    }\n",
       "</style>\n",
       "<table border=\"1\" class=\"dataframe\">\n",
       "  <thead>\n",
       "    <tr style=\"text-align: right;\">\n",
       "      <th></th>\n",
       "      <th>p</th>\n",
       "      <th>p</th>\n",
       "      <th>r</th>\n",
       "      <th>s</th>\n",
       "      <th>s</th>\n",
       "      <th>t</th>\n",
       "    </tr>\n",
       "  </thead>\n",
       "  <tbody>\n",
       "    <tr>\n",
       "      <th>a</th>\n",
       "      <td>0.773956</td>\n",
       "      <td>0.438878</td>\n",
       "      <td>0.858598</td>\n",
       "      <td>0.697368</td>\n",
       "      <td>0.094177</td>\n",
       "      <td>0.975622</td>\n",
       "    </tr>\n",
       "    <tr>\n",
       "      <th>b</th>\n",
       "      <td>0.761140</td>\n",
       "      <td>0.786064</td>\n",
       "      <td>0.128114</td>\n",
       "      <td>0.450386</td>\n",
       "      <td>0.370798</td>\n",
       "      <td>0.926765</td>\n",
       "    </tr>\n",
       "    <tr>\n",
       "      <th>c</th>\n",
       "      <td>0.643865</td>\n",
       "      <td>0.822762</td>\n",
       "      <td>0.443414</td>\n",
       "      <td>0.227239</td>\n",
       "      <td>0.554585</td>\n",
       "      <td>0.063817</td>\n",
       "    </tr>\n",
       "    <tr>\n",
       "      <th>a</th>\n",
       "      <td>0.827631</td>\n",
       "      <td>0.631664</td>\n",
       "      <td>0.758088</td>\n",
       "      <td>0.354526</td>\n",
       "      <td>0.970698</td>\n",
       "      <td>0.893121</td>\n",
       "    </tr>\n",
       "    <tr>\n",
       "      <th>d</th>\n",
       "      <td>0.778383</td>\n",
       "      <td>0.194639</td>\n",
       "      <td>0.466721</td>\n",
       "      <td>0.043804</td>\n",
       "      <td>0.154289</td>\n",
       "      <td>0.683049</td>\n",
       "    </tr>\n",
       "    <tr>\n",
       "      <th>d</th>\n",
       "      <td>0.744762</td>\n",
       "      <td>0.967510</td>\n",
       "      <td>0.325825</td>\n",
       "      <td>0.370460</td>\n",
       "      <td>0.469556</td>\n",
       "      <td>0.189471</td>\n",
       "    </tr>\n",
       "  </tbody>\n",
       "</table>\n",
       "</div>"
      ],
      "text/plain": [
       "          p         p         r         s         s         t\n",
       "a  0.773956  0.438878  0.858598  0.697368  0.094177  0.975622\n",
       "b  0.761140  0.786064  0.128114  0.450386  0.370798  0.926765\n",
       "c  0.643865  0.822762  0.443414  0.227239  0.554585  0.063817\n",
       "a  0.827631  0.631664  0.758088  0.354526  0.970698  0.893121\n",
       "d  0.778383  0.194639  0.466721  0.043804  0.154289  0.683049\n",
       "d  0.744762  0.967510  0.325825  0.370460  0.469556  0.189471"
      ]
     },
     "execution_count": 59,
     "metadata": {},
     "output_type": "execute_result"
    }
   ],
   "source": [
    "# Mostramos el DataFrame en pantalla.\n",
    "df"
   ]
  },
  {
   "cell_type": "markdown",
   "id": "d2bcb823",
   "metadata": {},
   "source": [
    "Recordemos que los atributos `index` y `columns` nos permiten recuperar el índice de filas y columnas, respectivamente, de un DataFrame:"
   ]
  },
  {
   "cell_type": "code",
   "execution_count": 60,
   "id": "be8973fd",
   "metadata": {},
   "outputs": [
    {
     "data": {
      "text/plain": [
       "Index(['a', 'b', 'c', 'a', 'd', 'd'], dtype='object')"
      ]
     },
     "execution_count": 60,
     "metadata": {},
     "output_type": "execute_result"
    }
   ],
   "source": [
    "# Índice de filas de nuestro DataFrame.\n",
    "df.index"
   ]
  },
  {
   "cell_type": "code",
   "execution_count": 61,
   "id": "1e4e56a6",
   "metadata": {},
   "outputs": [
    {
     "data": {
      "text/plain": [
       "Index(['p', 'p', 'r', 's', 's', 't'], dtype='object')"
      ]
     },
     "execution_count": 61,
     "metadata": {},
     "output_type": "execute_result"
    }
   ],
   "source": [
    "# Índice de columnas de nuestro DataFrame.\n",
    "df.columns"
   ]
  },
  {
   "cell_type": "markdown",
   "id": "dc8648eb",
   "metadata": {},
   "source": [
    "Sobre cualquiera de estos atributos podemos aplicar el método `duplicated()`, el cual nos permite obtener un arreglo Booleano que determinará todas aquellas posiciones, ya sea de filas o columnas, que se encuentren duplicadas con respecto al valor correspondiente del índice:"
   ]
  },
  {
   "cell_type": "code",
   "execution_count": 62,
   "id": "5d1e2b66",
   "metadata": {},
   "outputs": [
    {
     "data": {
      "text/plain": [
       "array([False, False, False,  True, False,  True])"
      ]
     },
     "execution_count": 62,
     "metadata": {},
     "output_type": "execute_result"
    }
   ],
   "source": [
    "# El método duplicated(), aplicado sobre el atributo index, nos devuelve un arreglo\n",
    "# Booleano que muestra que índices están duplicados con respecto a las filas anteriores.\n",
    "df.index.duplicated()"
   ]
  },
  {
   "cell_type": "markdown",
   "id": "0942f279",
   "metadata": {},
   "source": [
    "Es posible conservar cualquiera de los índices duplicados y eliminar el o los demás, usando el argumento `keep`, a fin de especificar con cuál de estos índices nos quedamos, aunque limitados al primero o último de ellos."
   ]
  },
  {
   "cell_type": "code",
   "execution_count": 63,
   "id": "4a211060",
   "metadata": {},
   "outputs": [
    {
     "data": {
      "text/plain": [
       "array([False, False, False,  True, False,  True])"
      ]
     },
     "execution_count": 63,
     "metadata": {},
     "output_type": "execute_result"
    }
   ],
   "source": [
    "df.index.duplicated(keep=\"first\")"
   ]
  },
  {
   "cell_type": "code",
   "execution_count": 64,
   "id": "c33f9a89",
   "metadata": {},
   "outputs": [
    {
     "data": {
      "text/plain": [
       "array([ True, False, False, False,  True, False])"
      ]
     },
     "execution_count": 64,
     "metadata": {},
     "output_type": "execute_result"
    }
   ],
   "source": [
    "df.index.duplicated(keep=\"last\")"
   ]
  },
  {
   "cell_type": "markdown",
   "id": "1081257b",
   "metadata": {},
   "source": [
    "Cualquier de estos arreglos puede ser utilizado como máscara para generar una selección de información en función de la existencia de duplicados. Por ejemplo, si optamos por conservar siempre el primer índice en un conjunto de índices duplicados, podemos generar una selección complementaria a partir del resultado de la detección de estos duplicados usando el operador `~`, que nos permite seleccionar todo lo que no se corresponda con la máscara correspondiente:"
   ]
  },
  {
   "cell_type": "code",
   "execution_count": 65,
   "id": "60ecd6f1",
   "metadata": {},
   "outputs": [
    {
     "data": {
      "text/html": [
       "<div>\n",
       "<style scoped>\n",
       "    .dataframe tbody tr th:only-of-type {\n",
       "        vertical-align: middle;\n",
       "    }\n",
       "\n",
       "    .dataframe tbody tr th {\n",
       "        vertical-align: top;\n",
       "    }\n",
       "\n",
       "    .dataframe thead th {\n",
       "        text-align: right;\n",
       "    }\n",
       "</style>\n",
       "<table border=\"1\" class=\"dataframe\">\n",
       "  <thead>\n",
       "    <tr style=\"text-align: right;\">\n",
       "      <th></th>\n",
       "      <th>p</th>\n",
       "      <th>p</th>\n",
       "      <th>r</th>\n",
       "      <th>s</th>\n",
       "      <th>s</th>\n",
       "      <th>t</th>\n",
       "    </tr>\n",
       "  </thead>\n",
       "  <tbody>\n",
       "    <tr>\n",
       "      <th>a</th>\n",
       "      <td>0.773956</td>\n",
       "      <td>0.438878</td>\n",
       "      <td>0.858598</td>\n",
       "      <td>0.697368</td>\n",
       "      <td>0.094177</td>\n",
       "      <td>0.975622</td>\n",
       "    </tr>\n",
       "    <tr>\n",
       "      <th>b</th>\n",
       "      <td>0.761140</td>\n",
       "      <td>0.786064</td>\n",
       "      <td>0.128114</td>\n",
       "      <td>0.450386</td>\n",
       "      <td>0.370798</td>\n",
       "      <td>0.926765</td>\n",
       "    </tr>\n",
       "    <tr>\n",
       "      <th>c</th>\n",
       "      <td>0.643865</td>\n",
       "      <td>0.822762</td>\n",
       "      <td>0.443414</td>\n",
       "      <td>0.227239</td>\n",
       "      <td>0.554585</td>\n",
       "      <td>0.063817</td>\n",
       "    </tr>\n",
       "    <tr>\n",
       "      <th>d</th>\n",
       "      <td>0.778383</td>\n",
       "      <td>0.194639</td>\n",
       "      <td>0.466721</td>\n",
       "      <td>0.043804</td>\n",
       "      <td>0.154289</td>\n",
       "      <td>0.683049</td>\n",
       "    </tr>\n",
       "  </tbody>\n",
       "</table>\n",
       "</div>"
      ],
      "text/plain": [
       "          p         p         r         s         s         t\n",
       "a  0.773956  0.438878  0.858598  0.697368  0.094177  0.975622\n",
       "b  0.761140  0.786064  0.128114  0.450386  0.370798  0.926765\n",
       "c  0.643865  0.822762  0.443414  0.227239  0.554585  0.063817\n",
       "d  0.778383  0.194639  0.466721  0.043804  0.154289  0.683049"
      ]
     },
     "execution_count": 65,
     "metadata": {},
     "output_type": "execute_result"
    }
   ],
   "source": [
    "# Podemos eliminar las filas con índices duplicados, usando masking mediante cualquiera\n",
    "# de las selecciones anteriores.\n",
    "df.loc[~df.index.duplicated(keep='first')]"
   ]
  },
  {
   "cell_type": "markdown",
   "id": "5cfa1121",
   "metadata": {},
   "source": [
    "Podemos hacer lo mismo para las columnas, usando en este caso el atributo `columns` previo al método `duplicated()`:"
   ]
  },
  {
   "cell_type": "code",
   "execution_count": 66,
   "id": "d0b02f13",
   "metadata": {},
   "outputs": [
    {
     "data": {
      "text/html": [
       "<div>\n",
       "<style scoped>\n",
       "    .dataframe tbody tr th:only-of-type {\n",
       "        vertical-align: middle;\n",
       "    }\n",
       "\n",
       "    .dataframe tbody tr th {\n",
       "        vertical-align: top;\n",
       "    }\n",
       "\n",
       "    .dataframe thead th {\n",
       "        text-align: right;\n",
       "    }\n",
       "</style>\n",
       "<table border=\"1\" class=\"dataframe\">\n",
       "  <thead>\n",
       "    <tr style=\"text-align: right;\">\n",
       "      <th></th>\n",
       "      <th>p</th>\n",
       "      <th>r</th>\n",
       "      <th>s</th>\n",
       "      <th>t</th>\n",
       "    </tr>\n",
       "  </thead>\n",
       "  <tbody>\n",
       "    <tr>\n",
       "      <th>a</th>\n",
       "      <td>0.773956</td>\n",
       "      <td>0.858598</td>\n",
       "      <td>0.697368</td>\n",
       "      <td>0.975622</td>\n",
       "    </tr>\n",
       "    <tr>\n",
       "      <th>b</th>\n",
       "      <td>0.761140</td>\n",
       "      <td>0.128114</td>\n",
       "      <td>0.450386</td>\n",
       "      <td>0.926765</td>\n",
       "    </tr>\n",
       "    <tr>\n",
       "      <th>c</th>\n",
       "      <td>0.643865</td>\n",
       "      <td>0.443414</td>\n",
       "      <td>0.227239</td>\n",
       "      <td>0.063817</td>\n",
       "    </tr>\n",
       "    <tr>\n",
       "      <th>a</th>\n",
       "      <td>0.827631</td>\n",
       "      <td>0.758088</td>\n",
       "      <td>0.354526</td>\n",
       "      <td>0.893121</td>\n",
       "    </tr>\n",
       "    <tr>\n",
       "      <th>d</th>\n",
       "      <td>0.778383</td>\n",
       "      <td>0.466721</td>\n",
       "      <td>0.043804</td>\n",
       "      <td>0.683049</td>\n",
       "    </tr>\n",
       "    <tr>\n",
       "      <th>d</th>\n",
       "      <td>0.744762</td>\n",
       "      <td>0.325825</td>\n",
       "      <td>0.370460</td>\n",
       "      <td>0.189471</td>\n",
       "    </tr>\n",
       "  </tbody>\n",
       "</table>\n",
       "</div>"
      ],
      "text/plain": [
       "          p         r         s         t\n",
       "a  0.773956  0.858598  0.697368  0.975622\n",
       "b  0.761140  0.128114  0.450386  0.926765\n",
       "c  0.643865  0.443414  0.227239  0.063817\n",
       "a  0.827631  0.758088  0.354526  0.893121\n",
       "d  0.778383  0.466721  0.043804  0.683049\n",
       "d  0.744762  0.325825  0.370460  0.189471"
      ]
     },
     "execution_count": 66,
     "metadata": {},
     "output_type": "execute_result"
    }
   ],
   "source": [
    "# También podemos eliminar duplicados por columnas.\n",
    "df.loc[:, ~df.columns.duplicated(keep='first')]"
   ]
  },
  {
   "cell_type": "markdown",
   "id": "59e5ac15",
   "metadata": {},
   "source": [
    "Podemos eliminar duplicados en ambas dimensiones combinando las máscaras anteriores:"
   ]
  },
  {
   "cell_type": "code",
   "execution_count": 67,
   "id": "6e3c693c",
   "metadata": {},
   "outputs": [
    {
     "data": {
      "text/html": [
       "<div>\n",
       "<style scoped>\n",
       "    .dataframe tbody tr th:only-of-type {\n",
       "        vertical-align: middle;\n",
       "    }\n",
       "\n",
       "    .dataframe tbody tr th {\n",
       "        vertical-align: top;\n",
       "    }\n",
       "\n",
       "    .dataframe thead th {\n",
       "        text-align: right;\n",
       "    }\n",
       "</style>\n",
       "<table border=\"1\" class=\"dataframe\">\n",
       "  <thead>\n",
       "    <tr style=\"text-align: right;\">\n",
       "      <th></th>\n",
       "      <th>p</th>\n",
       "      <th>r</th>\n",
       "      <th>s</th>\n",
       "      <th>t</th>\n",
       "    </tr>\n",
       "  </thead>\n",
       "  <tbody>\n",
       "    <tr>\n",
       "      <th>a</th>\n",
       "      <td>0.773956</td>\n",
       "      <td>0.858598</td>\n",
       "      <td>0.697368</td>\n",
       "      <td>0.975622</td>\n",
       "    </tr>\n",
       "    <tr>\n",
       "      <th>b</th>\n",
       "      <td>0.761140</td>\n",
       "      <td>0.128114</td>\n",
       "      <td>0.450386</td>\n",
       "      <td>0.926765</td>\n",
       "    </tr>\n",
       "    <tr>\n",
       "      <th>c</th>\n",
       "      <td>0.643865</td>\n",
       "      <td>0.443414</td>\n",
       "      <td>0.227239</td>\n",
       "      <td>0.063817</td>\n",
       "    </tr>\n",
       "    <tr>\n",
       "      <th>d</th>\n",
       "      <td>0.778383</td>\n",
       "      <td>0.466721</td>\n",
       "      <td>0.043804</td>\n",
       "      <td>0.683049</td>\n",
       "    </tr>\n",
       "  </tbody>\n",
       "</table>\n",
       "</div>"
      ],
      "text/plain": [
       "          p         r         s         t\n",
       "a  0.773956  0.858598  0.697368  0.975622\n",
       "b  0.761140  0.128114  0.450386  0.926765\n",
       "c  0.643865  0.443414  0.227239  0.063817\n",
       "d  0.778383  0.466721  0.043804  0.683049"
      ]
     },
     "execution_count": 67,
     "metadata": {},
     "output_type": "execute_result"
    }
   ],
   "source": [
    "# O eliminar duplicados en ambos ejes de una sola vez.\n",
    "df.loc[~df.index.duplicated(keep='first'), ~df.columns.duplicated(keep='first')]"
   ]
  },
  {
   "cell_type": "markdown",
   "id": "8fe32608",
   "metadata": {},
   "source": [
    "## Cálculo de estadígrafos.\n",
    "Todos los métodos comentados con anterioridad permiten manipular eficientemente datos almacenados en estructuras de datos de **Pandas**. Sin embargo, vale la pena detenernos en ciertos métodos y funciones aptas para la realización de análisis estadísticos sobre nuestra data. **Pandas** nos provee de una serie de métodos que permiten extraer estadígrafos importantes relativos a nuestra data y, además, tanto series como DataFrames son compatibles con la gran mayoría de las funciones universales de **Numpy**.\n",
    "\n",
    "Partimos construyendo un DataFrame con el cual empezaremos a ejemplificar estos métodos:"
   ]
  },
  {
   "cell_type": "code",
   "execution_count": 68,
   "id": "f067d3ab",
   "metadata": {},
   "outputs": [],
   "source": [
    "# Construimos un DataFrame para hacer un análisis estadístico.\n",
    "rng = np.random.default_rng(7) # Semilla aleatoria fija."
   ]
  },
  {
   "cell_type": "code",
   "execution_count": 69,
   "id": "fe3738e1",
   "metadata": {},
   "outputs": [],
   "source": [
    "# Toneladas de cobre diarias transportadas a una planta de chancado en un año.\n",
    "x1 = rng.normal(loc=85000, scale=12550, size=365).reshape(-1, 1)\n",
    "\n",
    "# Ley de mineral diaria.\n",
    "x2 = rng.normal(loc=0.48, scale=0.1, size=365).reshape(-1, 1) + 0.28\n",
    "\n",
    "# Recuperación asociada.\n",
    "x3 = rng.normal(loc=87, scale=5, size=365).reshape(-1, 1)"
   ]
  },
  {
   "cell_type": "code",
   "execution_count": 70,
   "id": "97cca7fd",
   "metadata": {},
   "outputs": [],
   "source": [
    "# Definimos el DataFrame.\n",
    "prod_df = pd.DataFrame(\n",
    "    data=np.concatenate([x1, x2, x3], axis=1),\n",
    "    columns=[\"ton\", \"ley_cut\", \"recup\"]\n",
    ")"
   ]
  },
  {
   "cell_type": "code",
   "execution_count": 71,
   "id": "d93e8565",
   "metadata": {},
   "outputs": [
    {
     "data": {
      "text/html": [
       "<div>\n",
       "<style scoped>\n",
       "    .dataframe tbody tr th:only-of-type {\n",
       "        vertical-align: middle;\n",
       "    }\n",
       "\n",
       "    .dataframe tbody tr th {\n",
       "        vertical-align: top;\n",
       "    }\n",
       "\n",
       "    .dataframe thead th {\n",
       "        text-align: right;\n",
       "    }\n",
       "</style>\n",
       "<table border=\"1\" class=\"dataframe\">\n",
       "  <thead>\n",
       "    <tr style=\"text-align: right;\">\n",
       "      <th></th>\n",
       "      <th>ton</th>\n",
       "      <th>ley_cut</th>\n",
       "      <th>recup</th>\n",
       "    </tr>\n",
       "  </thead>\n",
       "  <tbody>\n",
       "    <tr>\n",
       "      <th>0</th>\n",
       "      <td>85015.438425</td>\n",
       "      <td>0.798796</td>\n",
       "      <td>80.965478</td>\n",
       "    </tr>\n",
       "    <tr>\n",
       "      <th>1</th>\n",
       "      <td>88749.256496</td>\n",
       "      <td>0.565332</td>\n",
       "      <td>84.490627</td>\n",
       "    </tr>\n",
       "    <tr>\n",
       "      <th>2</th>\n",
       "      <td>81559.569915</td>\n",
       "      <td>0.619097</td>\n",
       "      <td>87.398240</td>\n",
       "    </tr>\n",
       "    <tr>\n",
       "      <th>3</th>\n",
       "      <td>73823.072424</td>\n",
       "      <td>0.845464</td>\n",
       "      <td>76.989064</td>\n",
       "    </tr>\n",
       "    <tr>\n",
       "      <th>4</th>\n",
       "      <td>79293.881646</td>\n",
       "      <td>0.830624</td>\n",
       "      <td>88.712377</td>\n",
       "    </tr>\n",
       "  </tbody>\n",
       "</table>\n",
       "</div>"
      ],
      "text/plain": [
       "            ton   ley_cut      recup\n",
       "0  85015.438425  0.798796  80.965478\n",
       "1  88749.256496  0.565332  84.490627\n",
       "2  81559.569915  0.619097  87.398240\n",
       "3  73823.072424  0.845464  76.989064\n",
       "4  79293.881646  0.830624  88.712377"
      ]
     },
     "execution_count": 71,
     "metadata": {},
     "output_type": "execute_result"
    }
   ],
   "source": [
    "prod_df.head()"
   ]
  },
  {
   "cell_type": "markdown",
   "id": "1450f78c",
   "metadata": {},
   "source": [
    "Lo métodos `mean()` y `median()` nos permiten calcular la media y la mediana de cualquier sub-estructura de un DataFrame, sea ésta una fila o una columna (serie), dependiendo de la referencia establecida en el método con el argumento `axis`:"
   ]
  },
  {
   "cell_type": "code",
   "execution_count": 72,
   "id": "328f6053",
   "metadata": {},
   "outputs": [
    {
     "data": {
      "text/plain": [
       "ton        83771.831991\n",
       "ley_cut        0.749340\n",
       "recup         86.833451\n",
       "dtype: float64"
      ]
     },
     "execution_count": 72,
     "metadata": {},
     "output_type": "execute_result"
    }
   ],
   "source": [
    "# Media de todas las columnas del DataFrame.\n",
    "prod_df.mean(axis=0)"
   ]
  },
  {
   "cell_type": "code",
   "execution_count": 73,
   "id": "7734d467",
   "metadata": {},
   "outputs": [
    {
     "data": {
      "text/plain": [
       "ton        84174.148430\n",
       "ley_cut        0.748855\n",
       "recup         86.655622\n",
       "dtype: float64"
      ]
     },
     "execution_count": 73,
     "metadata": {},
     "output_type": "execute_result"
    }
   ],
   "source": [
    "# Mediana de todas las columnas del DataFrame.\n",
    "prod_df.median(axis=0)"
   ]
  },
  {
   "cell_type": "markdown",
   "id": "fece04b4",
   "metadata": {},
   "source": [
    "Por otro lado, el método `std()` permite obtener la desviación estándar de cualquier subestructura de datos de un DataFrame:"
   ]
  },
  {
   "cell_type": "code",
   "execution_count": 74,
   "id": "e886a3dd",
   "metadata": {},
   "outputs": [
    {
     "data": {
      "text/plain": [
       "ton        11532.083933\n",
       "ley_cut        0.096164\n",
       "recup          4.872555\n",
       "dtype: float64"
      ]
     },
     "execution_count": 74,
     "metadata": {},
     "output_type": "execute_result"
    }
   ],
   "source": [
    "# Desviación estándar de todas las columnas del DataFrame.\n",
    "prod_df.std(axis=0)"
   ]
  },
  {
   "cell_type": "markdown",
   "id": "73edfac4",
   "metadata": {},
   "source": [
    "Además, el método `quantile()` nos permite obtener percentiles para nuestro DataFrame o serie. Para ello, basta con especificar el argumento `q`, el cual acepta cualquier número entre 0 y 1, y que representa el percentil respectivo a obtener a partir de nuestros datos. De esta manera, si deseamos obtener el percentil 0.25 (primer cuartil, o Q1), bastará con escribir:"
   ]
  },
  {
   "cell_type": "code",
   "execution_count": 75,
   "id": "09cdedea",
   "metadata": {},
   "outputs": [
    {
     "data": {
      "text/plain": [
       "ton        76576.023136\n",
       "ley_cut        0.683369\n",
       "recup         83.636640\n",
       "Name: 0.25, dtype: float64"
      ]
     },
     "execution_count": 75,
     "metadata": {},
     "output_type": "execute_result"
    }
   ],
   "source": [
    "# Percentil 0.25 (o Q1) por columna de nuestro DataFrame.\n",
    "prod_df.quantile(q=0.25, axis=0)"
   ]
  },
  {
   "cell_type": "markdown",
   "id": "02b15dea",
   "metadata": {},
   "source": [
    "Por supuesto, si queremos construir una tabla con varios percentiles, bastará con imputar una lista con todos ellos en el mismo argumento `q`. De esta manera, si ponemos `quantile(q=[0.25, 0.50, 0.75], axis=0)`, obtendremos como resultado un DataFrame con los percentiles Q1, Q2 y Q3, respectivamente (25%, 50%, 75%):"
   ]
  },
  {
   "cell_type": "code",
   "execution_count": 76,
   "id": "d5e94316",
   "metadata": {},
   "outputs": [
    {
     "data": {
      "text/html": [
       "<div>\n",
       "<style scoped>\n",
       "    .dataframe tbody tr th:only-of-type {\n",
       "        vertical-align: middle;\n",
       "    }\n",
       "\n",
       "    .dataframe tbody tr th {\n",
       "        vertical-align: top;\n",
       "    }\n",
       "\n",
       "    .dataframe thead th {\n",
       "        text-align: right;\n",
       "    }\n",
       "</style>\n",
       "<table border=\"1\" class=\"dataframe\">\n",
       "  <thead>\n",
       "    <tr style=\"text-align: right;\">\n",
       "      <th></th>\n",
       "      <th>ton</th>\n",
       "      <th>ley_cut</th>\n",
       "      <th>recup</th>\n",
       "    </tr>\n",
       "  </thead>\n",
       "  <tbody>\n",
       "    <tr>\n",
       "      <th>0.25</th>\n",
       "      <td>76576.023136</td>\n",
       "      <td>0.683369</td>\n",
       "      <td>83.636640</td>\n",
       "    </tr>\n",
       "    <tr>\n",
       "      <th>0.50</th>\n",
       "      <td>84174.148430</td>\n",
       "      <td>0.748855</td>\n",
       "      <td>86.655622</td>\n",
       "    </tr>\n",
       "    <tr>\n",
       "      <th>0.75</th>\n",
       "      <td>91358.925668</td>\n",
       "      <td>0.814320</td>\n",
       "      <td>90.257026</td>\n",
       "    </tr>\n",
       "  </tbody>\n",
       "</table>\n",
       "</div>"
      ],
      "text/plain": [
       "               ton   ley_cut      recup\n",
       "0.25  76576.023136  0.683369  83.636640\n",
       "0.50  84174.148430  0.748855  86.655622\n",
       "0.75  91358.925668  0.814320  90.257026"
      ]
     },
     "execution_count": 76,
     "metadata": {},
     "output_type": "execute_result"
    }
   ],
   "source": [
    "# Tabla de percentiles Q1, Q2 y Q3.\n",
    "prod_df.quantile(q=[0.25, 0.50, 0.75], axis=0)"
   ]
  },
  {
   "cell_type": "markdown",
   "id": "2154df4b",
   "metadata": {},
   "source": [
    "**Ejemplo 2.1 - Eliminación de outliers en un conjunto de datos:** Una aplicación directa de los métodos que hemos aprendido en este apartado corresponde a la eliminación de outliers en un conjunto de datos. Con *outliers* nos referimos a todos aquellos valores en dicho conjunto que difieren significativamente del resto de las observaciones en un determinado conjunto de datos. En general, un outlier puede deberse a variabilidades en ciertas mediciones asociadas a la obtención de un dato determinado, errores experimentales, o que la distribución inherente a los datos observados es de colas muy pesadas. Sea cual sea el caso, es normal ocuparse de eliminar estos outliers previo a la realización de un análisis global del conjunto de datos, a fin de que éstos no afecten la generalización de los resultados del análisis a datos nuevos.\n",
    "\n",
    "Un procedimiento común para eliminar outliers en un conjunto de datos corresponde a la remoción de toda observación, columna a columna, que esté fuera de la región central de su correspondiente distribución observada, donde tal región central se define en función de un múltiplo de la correspondiente desviación estándar en torno a la media. Esto suele ser especialmente aplicable en datos que se distribuyen de manera aproximdamente simétrica con respecto a la media. Por ejemplo, data normalmente distribuida. En este caso, podemos proceder eliminando toda la data exterior a determinados percentiles (por ejemplo, 5% y 95%).\n",
    "\n",
    "Partamos creando un DataFrame con data normalmente distribuida:"
   ]
  },
  {
   "cell_type": "code",
   "execution_count": 77,
   "id": "9f64fa82",
   "metadata": {},
   "outputs": [],
   "source": [
    "# Creamos nuestro DataFrame.\n",
    "data = pd.DataFrame(\n",
    "    data=rng.normal(loc=1500, scale=560, size=(1000, 4)),\n",
    "    columns=[f\"var_{j}\" for j in range(1, 5)]\n",
    ")"
   ]
  },
  {
   "cell_type": "code",
   "execution_count": 78,
   "id": "b392b40c",
   "metadata": {},
   "outputs": [
    {
     "data": {
      "text/html": [
       "<div>\n",
       "<style scoped>\n",
       "    .dataframe tbody tr th:only-of-type {\n",
       "        vertical-align: middle;\n",
       "    }\n",
       "\n",
       "    .dataframe tbody tr th {\n",
       "        vertical-align: top;\n",
       "    }\n",
       "\n",
       "    .dataframe thead th {\n",
       "        text-align: right;\n",
       "    }\n",
       "</style>\n",
       "<table border=\"1\" class=\"dataframe\">\n",
       "  <thead>\n",
       "    <tr style=\"text-align: right;\">\n",
       "      <th></th>\n",
       "      <th>var_1</th>\n",
       "      <th>var_2</th>\n",
       "      <th>var_3</th>\n",
       "      <th>var_4</th>\n",
       "    </tr>\n",
       "  </thead>\n",
       "  <tbody>\n",
       "    <tr>\n",
       "      <th>0</th>\n",
       "      <td>1695.471510</td>\n",
       "      <td>1119.060876</td>\n",
       "      <td>2642.338937</td>\n",
       "      <td>2793.139483</td>\n",
       "    </tr>\n",
       "    <tr>\n",
       "      <th>1</th>\n",
       "      <td>681.021012</td>\n",
       "      <td>1669.005178</td>\n",
       "      <td>2905.036884</td>\n",
       "      <td>1938.983232</td>\n",
       "    </tr>\n",
       "    <tr>\n",
       "      <th>2</th>\n",
       "      <td>1623.793680</td>\n",
       "      <td>1383.488173</td>\n",
       "      <td>1196.931200</td>\n",
       "      <td>1380.991767</td>\n",
       "    </tr>\n",
       "    <tr>\n",
       "      <th>3</th>\n",
       "      <td>1191.591529</td>\n",
       "      <td>1917.148681</td>\n",
       "      <td>1277.033954</td>\n",
       "      <td>1252.955153</td>\n",
       "    </tr>\n",
       "    <tr>\n",
       "      <th>4</th>\n",
       "      <td>826.790015</td>\n",
       "      <td>1472.229670</td>\n",
       "      <td>999.291863</td>\n",
       "      <td>1398.779906</td>\n",
       "    </tr>\n",
       "  </tbody>\n",
       "</table>\n",
       "</div>"
      ],
      "text/plain": [
       "         var_1        var_2        var_3        var_4\n",
       "0  1695.471510  1119.060876  2642.338937  2793.139483\n",
       "1   681.021012  1669.005178  2905.036884  1938.983232\n",
       "2  1623.793680  1383.488173  1196.931200  1380.991767\n",
       "3  1191.591529  1917.148681  1277.033954  1252.955153\n",
       "4   826.790015  1472.229670   999.291863  1398.779906"
      ]
     },
     "execution_count": 78,
     "metadata": {},
     "output_type": "execute_result"
    }
   ],
   "source": [
    "data.head()"
   ]
  },
  {
   "cell_type": "markdown",
   "id": "d27a77db",
   "metadata": {},
   "source": [
    "Es posible reconocer gráficamente los outliers en nuestra mediante la construcción de un diagrama de cajas (comúnmente conocido como boxplot). Para cualquier DataFrame, es posible generar dicho gráfico por medio del método `plot()`, usando el argumento `kind=\"box\"`:"
   ]
  },
  {
   "cell_type": "code",
   "execution_count": 79,
   "id": "2cf194fc",
   "metadata": {},
   "outputs": [
    {
     "data": {
      "image/png": "[encoded data removed]",
      "text/plain": [
       "<Figure size 720x360 with 1 Axes>"
      ]
     },
     "metadata": {
      "needs_background": "light"
     },
     "output_type": "display_data"
    }
   ],
   "source": [
    "data.plot(\n",
    "    kind=\"box\", figsize=(10, 5), title=\"Boxplot de nuestra data\",\n",
    "    ylabel=\"Valores observados\"\n",
    ");"
   ]
  },
  {
   "cell_type": "markdown",
   "id": "122a6e57",
   "metadata": {},
   "source": [
    "Observamos que, en este gráfico, las cajas respectivas están limitadas inferior y superiormente los percentiles Q1 (25%) y Q3 (75%), respectivamente. La línea que está trazada al interior de cada caja representa a la mediana de la distribución observada (el percentil Q2). Los outliers se muestran como puntos que están muy alejados de cada caja, como se observa en el gráfico para cada una de las variables de este DataFrame.\n",
    "\n",
    "A fin de eliminar los outliers fuera de la región definida por un conjunto de percentiles, podemos calcular el rango intercuartil, que se define como la diferencia entre dichos percentiles. Si optamos por eliminar cualquier dato fuera de la región limitada por los percentiles Q1 y Q3, bastará con escribir:"
   ]
  },
  {
   "cell_type": "code",
   "execution_count": 80,
   "id": "881ce888",
   "metadata": {},
   "outputs": [],
   "source": [
    "# Cálculo del rango intercuartil.\n",
    "q1 = data.quantile(0.25)\n",
    "q3 = data.quantile(0.75)\n",
    "\n",
    "iqr = q3 - q1"
   ]
  },
  {
   "cell_type": "markdown",
   "id": "0c5133bd",
   "metadata": {},
   "source": [
    "Definiremos como *outlier* a cualquier dato observado que esté fuera de la región definida como 1.5 veces el rango intercuartil. Por lo tanto, podemos construir el siguiente filtro para seleccionar únicamente los datos interiores a dicha región:"
   ]
  },
  {
   "cell_type": "code",
   "execution_count": 81,
   "id": "f28bd5af",
   "metadata": {},
   "outputs": [],
   "source": [
    "# Removemos los outliers así definidos.\n",
    "data_filtered = data[~((data < (q1 - 1.5*iqr)) | (data > (q3 + 1.5*iqr))).any(axis=1)]"
   ]
  },
  {
   "cell_type": "markdown",
   "id": "f43d2a09",
   "metadata": {},
   "source": [
    "En el filtro anterior, el método `any()` permite aplicar el filtro sobre cualquiera de las columnas que cumpla con la condición establecida para la eliminación de outliers (mediante el argumento `axis=1`).\n",
    "\n",
    "Si ahora construimos un boxplot para la data sin outliers, veremos ue ya no hay ningún dato fuera de las correspondientes cajas:"
   ]
  },
  {
   "cell_type": "code",
   "execution_count": 82,
   "id": "8647f0f7",
   "metadata": {},
   "outputs": [
    {
     "data": {
      "image/png": "[encoded data removed]",
      "text/plain": [
       "<Figure size 720x360 with 1 Axes>"
      ]
     },
     "metadata": {
      "needs_background": "light"
     },
     "output_type": "display_data"
    }
   ],
   "source": [
    "data_filtered.plot(\n",
    "    kind=\"box\", figsize=(10, 5), title=\"Boxplot de nuestra data sin outliers\",\n",
    "    ylabel=\"Valores observados\"\n",
    ");"
   ]
  },
  {
   "cell_type": "markdown",
   "id": "f5b79e66",
   "metadata": {},
   "source": [
    "También podemos calcular fácilmente la cantidad de datos que hemos eliminado por medio de este filtro:"
   ]
  },
  {
   "cell_type": "code",
   "execution_count": 83,
   "id": "58d334d7",
   "metadata": {},
   "outputs": [
    {
     "data": {
      "text/plain": [
       "20"
      ]
     },
     "execution_count": 83,
     "metadata": {},
     "output_type": "execute_result"
    }
   ],
   "source": [
    "data.shape[0] - data_filtered.shape[0]"
   ]
  },
  {
   "cell_type": "markdown",
   "id": "82648c01",
   "metadata": {},
   "source": [
    "Un total de 35 outliers eliminados de las 1000 observaciones originales. ◼︎\n",
    "\n",
    "## Manejo de entradas vacías (`nan`).\n",
    "La data con la cual trabajamos en el *mundo real* rara vez es limpia u homogénea. En general, una enorme cantidad de conjuntos interesantes de datos presentan una fracción importante de observaciones en las cuales no existe ningún dato. Para hacer las cosas aún peor, cuando solemos integrar distintas fuentes de datos, puede llegar a ser común que parte de esa data se pierda de alguna manera.\n",
    "\n",
    "Vamos a discutir algunas consideraciones generales en el tratamiento de estos registros faltantes y cómo **Pandas** *elige* representar tales registros. Mostraremos también algunas herramientas de **Pandas** que nos ayudan a manejar este tipo de observaciones. Recordemos pues que los registros en los cuales no hay data se codifican mediante el valor `nan`, que significa *not a number*.\n",
    "\n",
    "Existen varios esquemas de trabajo a la hora de enfrentarnos a la presencia de registros vacíos en un DataFrame. Generalmente, tales estrategias guardan relación con dos importantes consideraciones: Usar una máscara Booleana que indique la presencia de data faltante a nivel global, o escoger un *valor centinela* que indique un registro faltante.\n",
    "\n",
    "En el enfoque de enmascaramiento, dicha máscara puede ser un arreglo Booleano completamente separado, o puede involucrar la apropiación de un bit en la representación de la data para indicar, localmente, el estado vacío o faltante de un valor determinado.\n",
    "\n",
    "En el enfoque de valores centinela, dicho valor centinela podría corresponder a una convención específica para nuestros datos. Por ejemplo, podríamos escoger a -9999 para representar enteros faltantes en una tabla de datos. Podría ser una convención de carácter más global, como por ejemplo, indicar un registro de punto flotante vacío como `nan`, como lo hemos venido haciendo.\n",
    "\n",
    "Ninguno de los enfoques anteriores puede usarse sin algún costo: El uso de una máscara separada requiere la locación de un arreglo Booleano adicional, lo que añade una carga tanto en la complejidad de los cálculos que eventualmente hagamos como en el almacenamiento. Un valor centinela reduce el rango de valores válidos que pueden ser representados, y puede requerir de lógicas adicionales (no necesariamente optimizada) de tipo aritmética para cualquier procesador de información del que dispongamos (ya sea CPU o GPU). Valores especiales tales como `nan`, además, no están siempre disponibles para otros tipos de dato, e incluso otras librerías podrían *no saber* trabajar con estas convenciones.\n",
    "\n",
    "### El caso de Numpy.\n",
    "La forma en la cual **Pandas** se hace cargo de la data faltante se limita a su dependencia de la librería **Numpy**, la que no tiene una noción nativa de valores faltantes (`nan`) para tipos de datos que no sean de punto flotante. Esto significa que cualquier arreglo en **Numpy** que contenga uno o más valores iguales a `nan` soporta operaciones aritméticas llevadas a cabo en código compilado. Sin embargo, debemos tener en consideración que `nan` es un bit que actúa como un virus, ya que infecta cualquier objeto que toque: Para cualquier operación aritmética, el resultado al usar un `nan` como argumento es otro `nan`:"
   ]
  },
  {
   "cell_type": "code",
   "execution_count": 84,
   "id": "abc70583",
   "metadata": {},
   "outputs": [
    {
     "data": {
      "text/plain": [
       "dtype('float64')"
      ]
     },
     "execution_count": 84,
     "metadata": {},
     "output_type": "execute_result"
    }
   ],
   "source": [
    "# Si un arreglo tiene valores iguales a nan, éste se codificará automáticamente con un tipo\n",
    "# de dato de punto flotante (np.float64).\n",
    "a = np.array([1, np.nan, 3, 4, 5 , np.nan, np.nan, 8])\n",
    "a.dtype"
   ]
  },
  {
   "cell_type": "code",
   "execution_count": 85,
   "id": "b9b65212",
   "metadata": {},
   "outputs": [
    {
     "name": "stdout",
     "output_type": "stream",
     "text": [
      "nan\n",
      "nan\n",
      "nan\n"
     ]
    }
   ],
   "source": [
    "# Cualquier operación aplicada sobre los elementos de un arreglo con nan, dará como resultado\n",
    "# otro nan.\n",
    "print(a.sum())\n",
    "print(a.prod())\n",
    "print(a.mean())"
   ]
  },
  {
   "cell_type": "markdown",
   "id": "f7c39e5c",
   "metadata": {},
   "source": [
    "Aunque **Numpy** suele tener versiones *a prueba de `nan`* de sus funciones de agregación:"
   ]
  },
  {
   "cell_type": "code",
   "execution_count": 86,
   "id": "ae3c9716",
   "metadata": {},
   "outputs": [
    {
     "name": "stdout",
     "output_type": "stream",
     "text": [
      "21.0\n",
      "480.0\n",
      "4.2\n"
     ]
    }
   ],
   "source": [
    "print(np.nansum(a))\n",
    "print(np.nanprod(a))\n",
    "print(np.nanmean(a))"
   ]
  },
  {
   "cell_type": "markdown",
   "id": "797ad464",
   "metadata": {},
   "source": [
    "### El caso de Pandas.\n",
    "Los valores de tipo `nan` tienen su propio lugar en **Pandas**:"
   ]
  },
  {
   "cell_type": "code",
   "execution_count": 87,
   "id": "195c586a",
   "metadata": {},
   "outputs": [
    {
     "data": {
      "text/plain": [
       "a    1.0\n",
       "b    NaN\n",
       "c    3.0\n",
       "d    4.0\n",
       "e    5.0\n",
       "f    NaN\n",
       "g    NaN\n",
       "h    8.0\n",
       "dtype: float64"
      ]
     },
     "execution_count": 87,
     "metadata": {},
     "output_type": "execute_result"
    }
   ],
   "source": [
    "s = pd.Series(data=a, index=[\"a\", \"b\", \"c\", \"d\", \"e\", \"f\", \"g\", \"h\"])\n",
    "s"
   ]
  },
  {
   "cell_type": "markdown",
   "id": "fe7fe8b7",
   "metadata": {},
   "source": [
    "Sin embargo, en series y DataFrames, los valores codificados como `nan` no imposibilitan las operaciones aritméticas que deseemos realizar:"
   ]
  },
  {
   "cell_type": "code",
   "execution_count": 88,
   "id": "07930dfd",
   "metadata": {},
   "outputs": [
    {
     "name": "stdout",
     "output_type": "stream",
     "text": [
      "21.0\n",
      "480.0\n",
      "4.2\n"
     ]
    }
   ],
   "source": [
    "print(s.sum())\n",
    "print(s.prod())\n",
    "print(s.mean())"
   ]
  },
  {
   "cell_type": "markdown",
   "id": "51e626d5",
   "metadata": {},
   "source": [
    "### Operaciones aptas para el manejo de `nan`.\n",
    "Como hemos visto previamente, **Pandas** usa el valor `nan` a fin de indicar la presencia de data faltante. Además, no existe ningún problema en la realización de operaciones arimtéticas sobre series o DataFrames que tengan observaciones codificadas como `nan`, ya que en este caso dichos valores no implica que su presencia en operaciones aritméticas dé como resultado otro `nan`. Sin embargo, muchas veces estaremos interesados en darle un tratamiento especial a estas observaciones que no contienen algún dato, y por tanto **Pandas** dispone de un conjunto de métodos muy útiles para detectar, remover y reemplazar valores faltantes en series y DataFrames. A saber:\n",
    "\n",
    "- `pd.isnull()` o `pd.isna()`: Funciones que retornan una serie o DataFrame, con el mismo juego de índices que el original, y con valores Booleanos que indican la presencia de `nan`.\n",
    "- `pd.notnull()` o `pd.notna()`: Funciones que retornan una serie o DataFrame, con el mismo juego de índices que el original, y con valores Booleanos que indican que el elemento respectivo no es un `nan`. En esencia, estas funciones hacen lo opuesto a `pd.isnull()` o `pd.isna()`.\n",
    "- `dropna()`: Método que retorna una versión filtrada (sin `nan`) de la data. Podemos generar modificaciones de manera inmediata en la serie o DataFrame correspondiente mediante el uso del argumento `inplace=True`.\n",
    "- `fillna()`: Método que retorna una versión de la data con los `nan` reemplazados por otros valores. Podemos generar modificaciones de manera inmediata en la serie o DataFrame correspondiente mediante el uso del argumento `inplace=True`.\n",
    "\n",
    "**a) Detección de `nan`:** **Pandas** dispone de dos funciones para detectar data faltante: `pd.isnull()` y `pd.isna()`. Cada uno de estos métodos retorna una máscara Booleana sobre la data y tienen idéntico uso. Por ejemplo:"
   ]
  },
  {
   "cell_type": "code",
   "execution_count": 89,
   "id": "a9782f4b",
   "metadata": {},
   "outputs": [
    {
     "data": {
      "text/plain": [
       "a    False\n",
       "b     True\n",
       "c    False\n",
       "d    False\n",
       "e    False\n",
       "f     True\n",
       "g     True\n",
       "h    False\n",
       "dtype: bool"
      ]
     },
     "execution_count": 89,
     "metadata": {},
     "output_type": "execute_result"
    }
   ],
   "source": [
    "# Detección de nan.\n",
    "pd.isnull(s)"
   ]
  },
  {
   "cell_type": "code",
   "execution_count": 90,
   "id": "1068c228",
   "metadata": {},
   "outputs": [
    {
     "data": {
      "text/plain": [
       "a    False\n",
       "b     True\n",
       "c    False\n",
       "d    False\n",
       "e    False\n",
       "f     True\n",
       "g     True\n",
       "h    False\n",
       "dtype: bool"
      ]
     },
     "execution_count": 90,
     "metadata": {},
     "output_type": "execute_result"
    }
   ],
   "source": [
    "# La función pd.isna() hace exactamente el mismo trabajo.\n",
    "pd.isna(s)"
   ]
  },
  {
   "cell_type": "markdown",
   "id": "8990d26e",
   "metadata": {},
   "source": [
    "Por otro lado, la función `pd.notnull()` permite identificar qué valores en una serie o DataFrame no son `nan`. Retorna una estructura con los mismos índices que `pd.isnull()`, pero con los correspondientes valores Booleanos intercambiados:"
   ]
  },
  {
   "cell_type": "code",
   "execution_count": 91,
   "id": "5407cf68",
   "metadata": {},
   "outputs": [
    {
     "data": {
      "text/plain": [
       "a     True\n",
       "b    False\n",
       "c     True\n",
       "d     True\n",
       "e     True\n",
       "f    False\n",
       "g    False\n",
       "h     True\n",
       "dtype: bool"
      ]
     },
     "execution_count": 91,
     "metadata": {},
     "output_type": "execute_result"
    }
   ],
   "source": [
    "# La función pd.notnull() hace exactamente lo contrario que pd.isnull().\n",
    "pd.notnull(s)"
   ]
  },
  {
   "cell_type": "code",
   "execution_count": 92,
   "id": "12520526",
   "metadata": {},
   "outputs": [
    {
     "data": {
      "text/plain": [
       "a     True\n",
       "b    False\n",
       "c     True\n",
       "d     True\n",
       "e     True\n",
       "f    False\n",
       "g    False\n",
       "h     True\n",
       "dtype: bool"
      ]
     },
     "execution_count": 92,
     "metadata": {},
     "output_type": "execute_result"
    }
   ],
   "source": [
    "# La función pd.notna() es equivalente a pd.notnull().\n",
    "pd.notna(s)"
   ]
  },
  {
   "cell_type": "markdown",
   "id": "fa172bee",
   "metadata": {},
   "source": [
    "Debido a que el resultado de estas funciones son máscaras Booleanas, es posible utilizarlas para generar selecciones sobre cualquier serie o DataFrame correspondiente, tanto de data que no es `nan`, como de aquella que sí lo es:"
   ]
  },
  {
   "cell_type": "code",
   "execution_count": 93,
   "id": "22c83d5c",
   "metadata": {},
   "outputs": [
    {
     "data": {
      "text/plain": [
       "a    1.0\n",
       "c    3.0\n",
       "d    4.0\n",
       "e    5.0\n",
       "h    8.0\n",
       "dtype: float64"
      ]
     },
     "execution_count": 93,
     "metadata": {},
     "output_type": "execute_result"
    }
   ],
   "source": [
    "# Seleccionamos toda la data que sea válida en nuestra serie.\n",
    "s[pd.notnull(s)]"
   ]
  },
  {
   "cell_type": "markdown",
   "id": "4436c0d9",
   "metadata": {},
   "source": [
    "**b) Eliminación de `nan`:** En adición a la detección de `nan` comentada previamente, es posible además eliminar data de tipo `nan` mediante el método `dropna()`, o bien, reemplazarla por otros valores, con el método `fillna()`. Por ejemplo, para el caso de nuestra serie, podemos retornar la misma, pero sin `nan`, como sigue:"
   ]
  },
  {
   "cell_type": "code",
   "execution_count": 94,
   "id": "35c3a8fc",
   "metadata": {},
   "outputs": [
    {
     "data": {
      "text/plain": [
       "a    1.0\n",
       "c    3.0\n",
       "d    4.0\n",
       "e    5.0\n",
       "h    8.0\n",
       "dtype: float64"
      ]
     },
     "execution_count": 94,
     "metadata": {},
     "output_type": "execute_result"
    }
   ],
   "source": [
    "# El método dropna() nos permite eliminar data faltante.\n",
    "s.dropna()"
   ]
  },
  {
   "cell_type": "markdown",
   "id": "c46a4ea3",
   "metadata": {},
   "source": [
    "Para el caso de los DataFrames, existen más opciones. Consideremos el siguiente ejemplo:"
   ]
  },
  {
   "cell_type": "code",
   "execution_count": 95,
   "id": "b39d8668",
   "metadata": {},
   "outputs": [],
   "source": [
    "# Creamos un DataFrame para explorar otras opciones.\n",
    "S = pd.DataFrame(\n",
    "    data=np.array([\n",
    "        [3, np.nan, -1, 2, np.nan],\n",
    "        [np.nan, 0, -2, 5, np.nan],\n",
    "        [0, -6, 2, 2, 3],\n",
    "        [np.nan, -1, 8, 5, 0]\n",
    "    ]),\n",
    "    index=[f\"row_{i}\" for i in range(4)],\n",
    "    columns=[f\"col_{j}\" for j in range(5)]\n",
    ")"
   ]
  },
  {
   "cell_type": "code",
   "execution_count": 96,
   "id": "c1285f3f",
   "metadata": {},
   "outputs": [
    {
     "data": {
      "text/html": [
       "<div>\n",
       "<style scoped>\n",
       "    .dataframe tbody tr th:only-of-type {\n",
       "        vertical-align: middle;\n",
       "    }\n",
       "\n",
       "    .dataframe tbody tr th {\n",
       "        vertical-align: top;\n",
       "    }\n",
       "\n",
       "    .dataframe thead th {\n",
       "        text-align: right;\n",
       "    }\n",
       "</style>\n",
       "<table border=\"1\" class=\"dataframe\">\n",
       "  <thead>\n",
       "    <tr style=\"text-align: right;\">\n",
       "      <th></th>\n",
       "      <th>col_0</th>\n",
       "      <th>col_1</th>\n",
       "      <th>col_2</th>\n",
       "      <th>col_3</th>\n",
       "      <th>col_4</th>\n",
       "    </tr>\n",
       "  </thead>\n",
       "  <tbody>\n",
       "    <tr>\n",
       "      <th>row_0</th>\n",
       "      <td>3.0</td>\n",
       "      <td>NaN</td>\n",
       "      <td>-1.0</td>\n",
       "      <td>2.0</td>\n",
       "      <td>NaN</td>\n",
       "    </tr>\n",
       "    <tr>\n",
       "      <th>row_1</th>\n",
       "      <td>NaN</td>\n",
       "      <td>0.0</td>\n",
       "      <td>-2.0</td>\n",
       "      <td>5.0</td>\n",
       "      <td>NaN</td>\n",
       "    </tr>\n",
       "    <tr>\n",
       "      <th>row_2</th>\n",
       "      <td>0.0</td>\n",
       "      <td>-6.0</td>\n",
       "      <td>2.0</td>\n",
       "      <td>2.0</td>\n",
       "      <td>3.0</td>\n",
       "    </tr>\n",
       "    <tr>\n",
       "      <th>row_3</th>\n",
       "      <td>NaN</td>\n",
       "      <td>-1.0</td>\n",
       "      <td>8.0</td>\n",
       "      <td>5.0</td>\n",
       "      <td>0.0</td>\n",
       "    </tr>\n",
       "  </tbody>\n",
       "</table>\n",
       "</div>"
      ],
      "text/plain": [
       "       col_0  col_1  col_2  col_3  col_4\n",
       "row_0    3.0    NaN   -1.0    2.0    NaN\n",
       "row_1    NaN    0.0   -2.0    5.0    NaN\n",
       "row_2    0.0   -6.0    2.0    2.0    3.0\n",
       "row_3    NaN   -1.0    8.0    5.0    0.0"
      ]
     },
     "execution_count": 96,
     "metadata": {},
     "output_type": "execute_result"
    }
   ],
   "source": [
    "# Mostramos nuestro DataFrame en pantalla.\n",
    "S"
   ]
  },
  {
   "cell_type": "markdown",
   "id": "423e8631",
   "metadata": {},
   "source": [
    "No es posible eliminar elementos individuales en un DataFrame. La aplicación del método `dropna()` sobre él resultará en la remoción de filas o columnas completas. Dependiendo de las necesidades que tengamos, podríamos querer remover una o la otra. De esta manera, se tiene que, si no especificamos ningún argumento, `dropna()` eliminará todas las filas que contengan `nan`:"
   ]
  },
  {
   "cell_type": "code",
   "execution_count": 97,
   "id": "53af002d",
   "metadata": {},
   "outputs": [
    {
     "data": {
      "text/html": [
       "<div>\n",
       "<style scoped>\n",
       "    .dataframe tbody tr th:only-of-type {\n",
       "        vertical-align: middle;\n",
       "    }\n",
       "\n",
       "    .dataframe tbody tr th {\n",
       "        vertical-align: top;\n",
       "    }\n",
       "\n",
       "    .dataframe thead th {\n",
       "        text-align: right;\n",
       "    }\n",
       "</style>\n",
       "<table border=\"1\" class=\"dataframe\">\n",
       "  <thead>\n",
       "    <tr style=\"text-align: right;\">\n",
       "      <th></th>\n",
       "      <th>col_0</th>\n",
       "      <th>col_1</th>\n",
       "      <th>col_2</th>\n",
       "      <th>col_3</th>\n",
       "      <th>col_4</th>\n",
       "    </tr>\n",
       "  </thead>\n",
       "  <tbody>\n",
       "    <tr>\n",
       "      <th>row_2</th>\n",
       "      <td>0.0</td>\n",
       "      <td>-6.0</td>\n",
       "      <td>2.0</td>\n",
       "      <td>2.0</td>\n",
       "      <td>3.0</td>\n",
       "    </tr>\n",
       "  </tbody>\n",
       "</table>\n",
       "</div>"
      ],
      "text/plain": [
       "       col_0  col_1  col_2  col_3  col_4\n",
       "row_2    0.0   -6.0    2.0    2.0    3.0"
      ]
     },
     "execution_count": 97,
     "metadata": {},
     "output_type": "execute_result"
    }
   ],
   "source": [
    "# Con ésto, sólo nos quedará una única fila.\n",
    "S.dropna()"
   ]
  },
  {
   "cell_type": "markdown",
   "id": "c2bd8d27",
   "metadata": {},
   "source": [
    "Por otro lado, si especificamos mediante el argumento `axis` sobre cuál eje realizar la eliminación de `nan`, éstos serán removidos tomando como referencia filas o columnas según sea el caso. Por defecto, `dropna()` elimina toda fila que contenga `nan` (es decir, el valor por defecto de `axis` es igual a 0). Pero podemos eliminar columnas con `nan` poniendo `axis=1`:"
   ]
  },
  {
   "cell_type": "code",
   "execution_count": 98,
   "id": "ae7d4112",
   "metadata": {},
   "outputs": [
    {
     "data": {
      "text/html": [
       "<div>\n",
       "<style scoped>\n",
       "    .dataframe tbody tr th:only-of-type {\n",
       "        vertical-align: middle;\n",
       "    }\n",
       "\n",
       "    .dataframe tbody tr th {\n",
       "        vertical-align: top;\n",
       "    }\n",
       "\n",
       "    .dataframe thead th {\n",
       "        text-align: right;\n",
       "    }\n",
       "</style>\n",
       "<table border=\"1\" class=\"dataframe\">\n",
       "  <thead>\n",
       "    <tr style=\"text-align: right;\">\n",
       "      <th></th>\n",
       "      <th>col_0</th>\n",
       "      <th>col_1</th>\n",
       "      <th>col_2</th>\n",
       "      <th>col_3</th>\n",
       "      <th>col_4</th>\n",
       "    </tr>\n",
       "  </thead>\n",
       "  <tbody>\n",
       "    <tr>\n",
       "      <th>row_2</th>\n",
       "      <td>0.0</td>\n",
       "      <td>-6.0</td>\n",
       "      <td>2.0</td>\n",
       "      <td>2.0</td>\n",
       "      <td>3.0</td>\n",
       "    </tr>\n",
       "  </tbody>\n",
       "</table>\n",
       "</div>"
      ],
      "text/plain": [
       "       col_0  col_1  col_2  col_3  col_4\n",
       "row_2    0.0   -6.0    2.0    2.0    3.0"
      ]
     },
     "execution_count": 98,
     "metadata": {},
     "output_type": "execute_result"
    }
   ],
   "source": [
    "# Por defecto, dropna() genera eliminaciones de filas (axis=0).\n",
    "S.dropna(axis=0)"
   ]
  },
  {
   "cell_type": "code",
   "execution_count": 99,
   "id": "1b24ec63",
   "metadata": {},
   "outputs": [
    {
     "data": {
      "text/html": [
       "<div>\n",
       "<style scoped>\n",
       "    .dataframe tbody tr th:only-of-type {\n",
       "        vertical-align: middle;\n",
       "    }\n",
       "\n",
       "    .dataframe tbody tr th {\n",
       "        vertical-align: top;\n",
       "    }\n",
       "\n",
       "    .dataframe thead th {\n",
       "        text-align: right;\n",
       "    }\n",
       "</style>\n",
       "<table border=\"1\" class=\"dataframe\">\n",
       "  <thead>\n",
       "    <tr style=\"text-align: right;\">\n",
       "      <th></th>\n",
       "      <th>col_2</th>\n",
       "      <th>col_3</th>\n",
       "    </tr>\n",
       "  </thead>\n",
       "  <tbody>\n",
       "    <tr>\n",
       "      <th>row_0</th>\n",
       "      <td>-1.0</td>\n",
       "      <td>2.0</td>\n",
       "    </tr>\n",
       "    <tr>\n",
       "      <th>row_1</th>\n",
       "      <td>-2.0</td>\n",
       "      <td>5.0</td>\n",
       "    </tr>\n",
       "    <tr>\n",
       "      <th>row_2</th>\n",
       "      <td>2.0</td>\n",
       "      <td>2.0</td>\n",
       "    </tr>\n",
       "    <tr>\n",
       "      <th>row_3</th>\n",
       "      <td>8.0</td>\n",
       "      <td>5.0</td>\n",
       "    </tr>\n",
       "  </tbody>\n",
       "</table>\n",
       "</div>"
      ],
      "text/plain": [
       "       col_2  col_3\n",
       "row_0   -1.0    2.0\n",
       "row_1   -2.0    5.0\n",
       "row_2    2.0    2.0\n",
       "row_3    8.0    5.0"
      ]
     },
     "execution_count": 99,
     "metadata": {},
     "output_type": "execute_result"
    }
   ],
   "source": [
    "# Pero también podemos remover columnas con data faltante.\n",
    "S.dropna(axis=1)"
   ]
  },
  {
   "cell_type": "markdown",
   "id": "6893c78e",
   "metadata": {},
   "source": [
    "Cualquier de las alternativas anteriores también resulta en la eliminación de `nan`, pero también de data de buena calidad. En vez de ello, podríamos estar más interesados en eliminar filas o columnas que agrupen la mayor cantidad de valores faltantes, lo que puede especificarse mediante los parámetros `how` y `thresh`, los cuales controlan el número de `nan` que se pueden eliminar.\n",
    "\n",
    "La opción por defecto es `how=\"any\"`, y es tal que cualquier columna o fila que tenga `nan` en alguno de sus elementos será eliminada (dependiendo por supuesto del argumento `axis`). También podemos setear `how=\"all\"`, lo que permitirá la remoción de filas o columnas para las cuales todos sus elementos sean `nan`:"
   ]
  },
  {
   "cell_type": "code",
   "execution_count": 100,
   "id": "01f6f4aa",
   "metadata": {},
   "outputs": [
    {
     "data": {
      "text/html": [
       "<div>\n",
       "<style scoped>\n",
       "    .dataframe tbody tr th:only-of-type {\n",
       "        vertical-align: middle;\n",
       "    }\n",
       "\n",
       "    .dataframe tbody tr th {\n",
       "        vertical-align: top;\n",
       "    }\n",
       "\n",
       "    .dataframe thead th {\n",
       "        text-align: right;\n",
       "    }\n",
       "</style>\n",
       "<table border=\"1\" class=\"dataframe\">\n",
       "  <thead>\n",
       "    <tr style=\"text-align: right;\">\n",
       "      <th></th>\n",
       "      <th>col_0</th>\n",
       "      <th>col_1</th>\n",
       "      <th>col_2</th>\n",
       "      <th>col_3</th>\n",
       "      <th>col_4</th>\n",
       "      <th>col_5</th>\n",
       "    </tr>\n",
       "  </thead>\n",
       "  <tbody>\n",
       "    <tr>\n",
       "      <th>row_0</th>\n",
       "      <td>3.0</td>\n",
       "      <td>NaN</td>\n",
       "      <td>-1.0</td>\n",
       "      <td>2.0</td>\n",
       "      <td>NaN</td>\n",
       "      <td>NaN</td>\n",
       "    </tr>\n",
       "    <tr>\n",
       "      <th>row_1</th>\n",
       "      <td>NaN</td>\n",
       "      <td>0.0</td>\n",
       "      <td>-2.0</td>\n",
       "      <td>5.0</td>\n",
       "      <td>NaN</td>\n",
       "      <td>NaN</td>\n",
       "    </tr>\n",
       "    <tr>\n",
       "      <th>row_2</th>\n",
       "      <td>0.0</td>\n",
       "      <td>-6.0</td>\n",
       "      <td>2.0</td>\n",
       "      <td>2.0</td>\n",
       "      <td>3.0</td>\n",
       "      <td>NaN</td>\n",
       "    </tr>\n",
       "    <tr>\n",
       "      <th>row_3</th>\n",
       "      <td>NaN</td>\n",
       "      <td>-1.0</td>\n",
       "      <td>8.0</td>\n",
       "      <td>5.0</td>\n",
       "      <td>0.0</td>\n",
       "      <td>NaN</td>\n",
       "    </tr>\n",
       "  </tbody>\n",
       "</table>\n",
       "</div>"
      ],
      "text/plain": [
       "       col_0  col_1  col_2  col_3  col_4  col_5\n",
       "row_0    3.0    NaN   -1.0    2.0    NaN    NaN\n",
       "row_1    NaN    0.0   -2.0    5.0    NaN    NaN\n",
       "row_2    0.0   -6.0    2.0    2.0    3.0    NaN\n",
       "row_3    NaN   -1.0    8.0    5.0    0.0    NaN"
      ]
     },
     "execution_count": 100,
     "metadata": {},
     "output_type": "execute_result"
    }
   ],
   "source": [
    "# Asignamos una columna llena de data faltante a nuestro DataFrame.\n",
    "S[\"col_5\"] = np.nan\n",
    "S"
   ]
  },
  {
   "cell_type": "code",
   "execution_count": 101,
   "id": "41efe903",
   "metadata": {},
   "outputs": [
    {
     "data": {
      "text/html": [
       "<div>\n",
       "<style scoped>\n",
       "    .dataframe tbody tr th:only-of-type {\n",
       "        vertical-align: middle;\n",
       "    }\n",
       "\n",
       "    .dataframe tbody tr th {\n",
       "        vertical-align: top;\n",
       "    }\n",
       "\n",
       "    .dataframe thead th {\n",
       "        text-align: right;\n",
       "    }\n",
       "</style>\n",
       "<table border=\"1\" class=\"dataframe\">\n",
       "  <thead>\n",
       "    <tr style=\"text-align: right;\">\n",
       "      <th></th>\n",
       "      <th>col_0</th>\n",
       "      <th>col_1</th>\n",
       "      <th>col_2</th>\n",
       "      <th>col_3</th>\n",
       "      <th>col_4</th>\n",
       "    </tr>\n",
       "  </thead>\n",
       "  <tbody>\n",
       "    <tr>\n",
       "      <th>row_0</th>\n",
       "      <td>3.0</td>\n",
       "      <td>NaN</td>\n",
       "      <td>-1.0</td>\n",
       "      <td>2.0</td>\n",
       "      <td>NaN</td>\n",
       "    </tr>\n",
       "    <tr>\n",
       "      <th>row_1</th>\n",
       "      <td>NaN</td>\n",
       "      <td>0.0</td>\n",
       "      <td>-2.0</td>\n",
       "      <td>5.0</td>\n",
       "      <td>NaN</td>\n",
       "    </tr>\n",
       "    <tr>\n",
       "      <th>row_2</th>\n",
       "      <td>0.0</td>\n",
       "      <td>-6.0</td>\n",
       "      <td>2.0</td>\n",
       "      <td>2.0</td>\n",
       "      <td>3.0</td>\n",
       "    </tr>\n",
       "    <tr>\n",
       "      <th>row_3</th>\n",
       "      <td>NaN</td>\n",
       "      <td>-1.0</td>\n",
       "      <td>8.0</td>\n",
       "      <td>5.0</td>\n",
       "      <td>0.0</td>\n",
       "    </tr>\n",
       "  </tbody>\n",
       "</table>\n",
       "</div>"
      ],
      "text/plain": [
       "       col_0  col_1  col_2  col_3  col_4\n",
       "row_0    3.0    NaN   -1.0    2.0    NaN\n",
       "row_1    NaN    0.0   -2.0    5.0    NaN\n",
       "row_2    0.0   -6.0    2.0    2.0    3.0\n",
       "row_3    NaN   -1.0    8.0    5.0    0.0"
      ]
     },
     "execution_count": 101,
     "metadata": {},
     "output_type": "execute_result"
    }
   ],
   "source": [
    "# Eliminamos cualquier columna que esté únicamente compuesta por nan.\n",
    "S.dropna(axis=1, how=\"all\")"
   ]
  },
  {
   "cell_type": "markdown",
   "id": "302fa264",
   "metadata": {},
   "source": [
    "Para un mayor control de cuanta data eliminamos, podemos utilizar el argumento `thresh`, el cual nos permite indicar el mínimo valor de valores que no sean `nan` que queremos mantener por fila o columna (según el valor del argumento `axis`):"
   ]
  },
  {
   "cell_type": "code",
   "execution_count": 102,
   "id": "fdf5f01b",
   "metadata": {},
   "outputs": [
    {
     "data": {
      "text/html": [
       "<div>\n",
       "<style scoped>\n",
       "    .dataframe tbody tr th:only-of-type {\n",
       "        vertical-align: middle;\n",
       "    }\n",
       "\n",
       "    .dataframe tbody tr th {\n",
       "        vertical-align: top;\n",
       "    }\n",
       "\n",
       "    .dataframe thead th {\n",
       "        text-align: right;\n",
       "    }\n",
       "</style>\n",
       "<table border=\"1\" class=\"dataframe\">\n",
       "  <thead>\n",
       "    <tr style=\"text-align: right;\">\n",
       "      <th></th>\n",
       "      <th>col_0</th>\n",
       "      <th>col_1</th>\n",
       "      <th>col_2</th>\n",
       "      <th>col_3</th>\n",
       "      <th>col_4</th>\n",
       "      <th>col_5</th>\n",
       "    </tr>\n",
       "  </thead>\n",
       "  <tbody>\n",
       "    <tr>\n",
       "      <th>row_2</th>\n",
       "      <td>0.0</td>\n",
       "      <td>-6.0</td>\n",
       "      <td>2.0</td>\n",
       "      <td>2.0</td>\n",
       "      <td>3.0</td>\n",
       "      <td>NaN</td>\n",
       "    </tr>\n",
       "    <tr>\n",
       "      <th>row_3</th>\n",
       "      <td>NaN</td>\n",
       "      <td>-1.0</td>\n",
       "      <td>8.0</td>\n",
       "      <td>5.0</td>\n",
       "      <td>0.0</td>\n",
       "      <td>NaN</td>\n",
       "    </tr>\n",
       "  </tbody>\n",
       "</table>\n",
       "</div>"
      ],
      "text/plain": [
       "       col_0  col_1  col_2  col_3  col_4  col_5\n",
       "row_2    0.0   -6.0    2.0    2.0    3.0    NaN\n",
       "row_3    NaN   -1.0    8.0    5.0    0.0    NaN"
      ]
     },
     "execution_count": 102,
     "metadata": {},
     "output_type": "execute_result"
    }
   ],
   "source": [
    "# Eliminamos todas las filas que tengan nan de nuestro DataFrame, pero preservamos aquellas\n",
    "# que tengan al menos 4 elementos que no sean nan en ellas.\n",
    "S.dropna(axis=0, thresh=4)"
   ]
  },
  {
   "cell_type": "markdown",
   "id": "fe77a537",
   "metadata": {},
   "source": [
    "**c) Reemplazo de `nan` por otros valores:** Con frecuencia, en vez de eliminar filas o columnas de un DataFrame con `nan`, es preferible reemplazarla con otros valores. Dicho valor podría ser cero, o algún tipo de imputación o interpolación a partir de los valores reales existentes en nuestra estructura de datos. Para ello, **Pandas** nos provee del método `fillna()`, el cual retorna una copia de la serie o DataFrame respectivos, con los `nan` reemplazados conforme nuestro requerimiento, usando el argumento `value`:"
   ]
  },
  {
   "cell_type": "code",
   "execution_count": 103,
   "id": "09bea88c",
   "metadata": {},
   "outputs": [
    {
     "data": {
      "text/html": [
       "<div>\n",
       "<style scoped>\n",
       "    .dataframe tbody tr th:only-of-type {\n",
       "        vertical-align: middle;\n",
       "    }\n",
       "\n",
       "    .dataframe tbody tr th {\n",
       "        vertical-align: top;\n",
       "    }\n",
       "\n",
       "    .dataframe thead th {\n",
       "        text-align: right;\n",
       "    }\n",
       "</style>\n",
       "<table border=\"1\" class=\"dataframe\">\n",
       "  <thead>\n",
       "    <tr style=\"text-align: right;\">\n",
       "      <th></th>\n",
       "      <th>col_0</th>\n",
       "      <th>col_1</th>\n",
       "      <th>col_2</th>\n",
       "      <th>col_3</th>\n",
       "      <th>col_4</th>\n",
       "      <th>col_5</th>\n",
       "    </tr>\n",
       "  </thead>\n",
       "  <tbody>\n",
       "    <tr>\n",
       "      <th>row_0</th>\n",
       "      <td>3.0</td>\n",
       "      <td>0.0</td>\n",
       "      <td>-1.0</td>\n",
       "      <td>2.0</td>\n",
       "      <td>0.0</td>\n",
       "      <td>0.0</td>\n",
       "    </tr>\n",
       "    <tr>\n",
       "      <th>row_1</th>\n",
       "      <td>0.0</td>\n",
       "      <td>0.0</td>\n",
       "      <td>-2.0</td>\n",
       "      <td>5.0</td>\n",
       "      <td>0.0</td>\n",
       "      <td>0.0</td>\n",
       "    </tr>\n",
       "    <tr>\n",
       "      <th>row_2</th>\n",
       "      <td>0.0</td>\n",
       "      <td>-6.0</td>\n",
       "      <td>2.0</td>\n",
       "      <td>2.0</td>\n",
       "      <td>3.0</td>\n",
       "      <td>0.0</td>\n",
       "    </tr>\n",
       "    <tr>\n",
       "      <th>row_3</th>\n",
       "      <td>0.0</td>\n",
       "      <td>-1.0</td>\n",
       "      <td>8.0</td>\n",
       "      <td>5.0</td>\n",
       "      <td>0.0</td>\n",
       "      <td>0.0</td>\n",
       "    </tr>\n",
       "  </tbody>\n",
       "</table>\n",
       "</div>"
      ],
      "text/plain": [
       "       col_0  col_1  col_2  col_3  col_4  col_5\n",
       "row_0    3.0    0.0   -1.0    2.0    0.0    0.0\n",
       "row_1    0.0    0.0   -2.0    5.0    0.0    0.0\n",
       "row_2    0.0   -6.0    2.0    2.0    3.0    0.0\n",
       "row_3    0.0   -1.0    8.0    5.0    0.0    0.0"
      ]
     },
     "execution_count": 103,
     "metadata": {},
     "output_type": "execute_result"
    }
   ],
   "source": [
    "# Reemplazamos todos los nan con ceros en nuestro DataFrame.\n",
    "S.fillna(value=0)"
   ]
  },
  {
   "cell_type": "markdown",
   "id": "c177edec",
   "metadata": {},
   "source": [
    "En ocasiones, podría ser necesario reemplazar los `nan` con la data correspondiente al valor en la fila inmediatamente anterior. Esto puede resultar especialmente útil al trabajar con series de tiempo (lo que ya abordaremos más adelante). Tal estrategia de imputación se conoce en la práctica como *forward fill*, ya que llenado de `nan` se realiza siempre *hacia adelante*. Para ello, hacemos uso del argumento `method`, con el valor `ffill`:"
   ]
  },
  {
   "cell_type": "code",
   "execution_count": 104,
   "id": "9170adec",
   "metadata": {},
   "outputs": [
    {
     "data": {
      "text/html": [
       "<div>\n",
       "<style scoped>\n",
       "    .dataframe tbody tr th:only-of-type {\n",
       "        vertical-align: middle;\n",
       "    }\n",
       "\n",
       "    .dataframe tbody tr th {\n",
       "        vertical-align: top;\n",
       "    }\n",
       "\n",
       "    .dataframe thead th {\n",
       "        text-align: right;\n",
       "    }\n",
       "</style>\n",
       "<table border=\"1\" class=\"dataframe\">\n",
       "  <thead>\n",
       "    <tr style=\"text-align: right;\">\n",
       "      <th></th>\n",
       "      <th>col_0</th>\n",
       "      <th>col_1</th>\n",
       "      <th>col_2</th>\n",
       "      <th>col_3</th>\n",
       "      <th>col_4</th>\n",
       "      <th>col_5</th>\n",
       "    </tr>\n",
       "  </thead>\n",
       "  <tbody>\n",
       "    <tr>\n",
       "      <th>row_0</th>\n",
       "      <td>3.0</td>\n",
       "      <td>NaN</td>\n",
       "      <td>-1.0</td>\n",
       "      <td>2.0</td>\n",
       "      <td>NaN</td>\n",
       "      <td>NaN</td>\n",
       "    </tr>\n",
       "    <tr>\n",
       "      <th>row_1</th>\n",
       "      <td>3.0</td>\n",
       "      <td>0.0</td>\n",
       "      <td>-2.0</td>\n",
       "      <td>5.0</td>\n",
       "      <td>NaN</td>\n",
       "      <td>NaN</td>\n",
       "    </tr>\n",
       "    <tr>\n",
       "      <th>row_2</th>\n",
       "      <td>0.0</td>\n",
       "      <td>-6.0</td>\n",
       "      <td>2.0</td>\n",
       "      <td>2.0</td>\n",
       "      <td>3.0</td>\n",
       "      <td>NaN</td>\n",
       "    </tr>\n",
       "    <tr>\n",
       "      <th>row_3</th>\n",
       "      <td>0.0</td>\n",
       "      <td>-1.0</td>\n",
       "      <td>8.0</td>\n",
       "      <td>5.0</td>\n",
       "      <td>0.0</td>\n",
       "      <td>NaN</td>\n",
       "    </tr>\n",
       "  </tbody>\n",
       "</table>\n",
       "</div>"
      ],
      "text/plain": [
       "       col_0  col_1  col_2  col_3  col_4  col_5\n",
       "row_0    3.0    NaN   -1.0    2.0    NaN    NaN\n",
       "row_1    3.0    0.0   -2.0    5.0    NaN    NaN\n",
       "row_2    0.0   -6.0    2.0    2.0    3.0    NaN\n",
       "row_3    0.0   -1.0    8.0    5.0    0.0    NaN"
      ]
     },
     "execution_count": 104,
     "metadata": {},
     "output_type": "execute_result"
    }
   ],
   "source": [
    "# Imputación de nan usando una estrategia de tipo forward fill.\n",
    "S.fillna(method=\"ffill\")"
   ]
  },
  {
   "cell_type": "markdown",
   "id": "3a5a5d90",
   "metadata": {},
   "source": [
    "También existe una estrategia de tipo *backward fill*, la que llena los `nan` con los valores de la fila inmediatamente posterior. Para implementarla, bastará con usar el argumento `method=\"bfill\"`:"
   ]
  },
  {
   "cell_type": "code",
   "execution_count": 105,
   "id": "2af50e57",
   "metadata": {},
   "outputs": [
    {
     "data": {
      "text/html": [
       "<div>\n",
       "<style scoped>\n",
       "    .dataframe tbody tr th:only-of-type {\n",
       "        vertical-align: middle;\n",
       "    }\n",
       "\n",
       "    .dataframe tbody tr th {\n",
       "        vertical-align: top;\n",
       "    }\n",
       "\n",
       "    .dataframe thead th {\n",
       "        text-align: right;\n",
       "    }\n",
       "</style>\n",
       "<table border=\"1\" class=\"dataframe\">\n",
       "  <thead>\n",
       "    <tr style=\"text-align: right;\">\n",
       "      <th></th>\n",
       "      <th>col_0</th>\n",
       "      <th>col_1</th>\n",
       "      <th>col_2</th>\n",
       "      <th>col_3</th>\n",
       "      <th>col_4</th>\n",
       "      <th>col_5</th>\n",
       "    </tr>\n",
       "  </thead>\n",
       "  <tbody>\n",
       "    <tr>\n",
       "      <th>row_0</th>\n",
       "      <td>3.0</td>\n",
       "      <td>0.0</td>\n",
       "      <td>-1.0</td>\n",
       "      <td>2.0</td>\n",
       "      <td>3.0</td>\n",
       "      <td>NaN</td>\n",
       "    </tr>\n",
       "    <tr>\n",
       "      <th>row_1</th>\n",
       "      <td>0.0</td>\n",
       "      <td>0.0</td>\n",
       "      <td>-2.0</td>\n",
       "      <td>5.0</td>\n",
       "      <td>3.0</td>\n",
       "      <td>NaN</td>\n",
       "    </tr>\n",
       "    <tr>\n",
       "      <th>row_2</th>\n",
       "      <td>0.0</td>\n",
       "      <td>-6.0</td>\n",
       "      <td>2.0</td>\n",
       "      <td>2.0</td>\n",
       "      <td>3.0</td>\n",
       "      <td>NaN</td>\n",
       "    </tr>\n",
       "    <tr>\n",
       "      <th>row_3</th>\n",
       "      <td>NaN</td>\n",
       "      <td>-1.0</td>\n",
       "      <td>8.0</td>\n",
       "      <td>5.0</td>\n",
       "      <td>0.0</td>\n",
       "      <td>NaN</td>\n",
       "    </tr>\n",
       "  </tbody>\n",
       "</table>\n",
       "</div>"
      ],
      "text/plain": [
       "       col_0  col_1  col_2  col_3  col_4  col_5\n",
       "row_0    3.0    0.0   -1.0    2.0    3.0    NaN\n",
       "row_1    0.0    0.0   -2.0    5.0    3.0    NaN\n",
       "row_2    0.0   -6.0    2.0    2.0    3.0    NaN\n",
       "row_3    NaN   -1.0    8.0    5.0    0.0    NaN"
      ]
     },
     "execution_count": 105,
     "metadata": {},
     "output_type": "execute_result"
    }
   ],
   "source": [
    "# Imputación de nan usando una estrategia de tipo backward fill.\n",
    "S.fillna(method=\"bfill\")"
   ]
  },
  {
   "cell_type": "markdown",
   "id": "b5b5ee19",
   "metadata": {},
   "source": [
    "### Interpolaciones.\n",
    "Es posible generar imputaciones sobre data faltante mediante el uso de recursos más sofisticados como es el caso de la **interpolación**, la que a su vez se define como la obtención de nuevos puntos partiendo del conocimiento de un conjunto de puntos determinado. En general, es frecuente disponer de un cierto número de puntos obtenidos por muestreo o a partir de un determinado experimento y querer construir una función que los ajuste. Es en estos casos donde la interpolación de un conjunto de datos puede resultar fundamental.\n",
    "\n",
    "**a) Interpolación lineal:** El caso más simple de interpolación corresponde al lineal. Dados un par de puntos $P_{0}=(x_{0},y_{0})$ y $P_{1}=(x_{1},y_{1})$, podemos estimar cualquier punto entre $P_{0}$ y $P_{1}$ asumiendo que éstos pasan por una recta. En este caso, estamos interesados en construir una recta que pasa por los puntos $P_{0}$ y $P_{1}$ y cuya pendiente se obtiene a partir de dichos puntos mediante la ecuación\n",
    "\n",
    "<p style=\"text-align: center;\">$m=\\displaystyle \\frac{y_{1}-y_{0}}{x_{1}-x_{0}} =\\displaystyle \\frac{\\triangle y}{\\triangle x} $</p>\n",
    "</p> <p style=\"text-align: right;\">$(2.1)$</p>\n",
    "\n",
    "Debido a que la pendiente de una recta es la misma en toda su extensión, se tiene que la relación (2.1) se mantiene para cualquier punto $P=(x,y)$ que pase por la recta. Por esta razón, la ecuación de la recta es\n",
    "\n",
    "<p style=\"text-align: center;\">$\\displaystyle \\frac{y_{1}-y_{0}}{x_{1}-x_{0}} =\\displaystyle \\frac{y-y_{0}}{x-x_{0}} \\  \\Longleftrightarrow \\  y=y_{0}\\left(\\displaystyle \\frac{x_{1}-x}{x_{1}-x_{0}} \\right)  +y_{1}\\left(\\displaystyle \\frac{x-x_{0}}{x_{1}-x_{0}} \\right)  $</p>\n",
    "</p> <p style=\"text-align: right;\">$(2.2)$</p>\n",
    "\n",
    "La interpretación geométrica relativa a una interpolación del tipo lineal se iluestra en la Fig. (2.2).\n",
    "\n",
    "<p style=\"text-align: center;\"><img src=\"figures/fig_2_2.png\" width=\"500\"></p>\n",
    "<p style=\"text-align: center;\">Fig. (2.2): Interpretación geométrica de una interpolación lineal</p>\n",
    "\n",
    "En **Pandas**, cuando disponemos de un DataFrame que tiene registros con `nan`, podemos rellenar la data faltante mediante interpolaciones de tipo lineal. Para ejemplificar aquello, construiremos un DataFrame con 100 filas y 2 columnas, a partir de la semilla aleatoria (`rng`) que definimos unas líneas atrás:"
   ]
  },
  {
   "cell_type": "code",
   "execution_count": 106,
   "id": "a3050043",
   "metadata": {},
   "outputs": [],
   "source": [
    "# Creamos nuestro DataFrame.\n",
    "data = pd.DataFrame(\n",
    "    data=rng.normal(loc=1500, scale=560, size=(150, 2)),\n",
    "    columns=[f\"X_{j}\" for j in range(1, 3)]\n",
    ")"
   ]
  },
  {
   "cell_type": "code",
   "execution_count": 107,
   "id": "452cafe2",
   "metadata": {},
   "outputs": [
    {
     "data": {
      "text/html": [
       "<div>\n",
       "<style scoped>\n",
       "    .dataframe tbody tr th:only-of-type {\n",
       "        vertical-align: middle;\n",
       "    }\n",
       "\n",
       "    .dataframe tbody tr th {\n",
       "        vertical-align: top;\n",
       "    }\n",
       "\n",
       "    .dataframe thead th {\n",
       "        text-align: right;\n",
       "    }\n",
       "</style>\n",
       "<table border=\"1\" class=\"dataframe\">\n",
       "  <thead>\n",
       "    <tr style=\"text-align: right;\">\n",
       "      <th></th>\n",
       "      <th>X_1</th>\n",
       "      <th>X_2</th>\n",
       "    </tr>\n",
       "  </thead>\n",
       "  <tbody>\n",
       "    <tr>\n",
       "      <th>0</th>\n",
       "      <td>1824.086303</td>\n",
       "      <td>729.528059</td>\n",
       "    </tr>\n",
       "    <tr>\n",
       "      <th>1</th>\n",
       "      <td>1849.857344</td>\n",
       "      <td>2212.503349</td>\n",
       "    </tr>\n",
       "    <tr>\n",
       "      <th>2</th>\n",
       "      <td>1029.739916</td>\n",
       "      <td>1627.966132</td>\n",
       "    </tr>\n",
       "    <tr>\n",
       "      <th>3</th>\n",
       "      <td>889.233824</td>\n",
       "      <td>1794.961692</td>\n",
       "    </tr>\n",
       "    <tr>\n",
       "      <th>4</th>\n",
       "      <td>1560.484653</td>\n",
       "      <td>1631.661656</td>\n",
       "    </tr>\n",
       "  </tbody>\n",
       "</table>\n",
       "</div>"
      ],
      "text/plain": [
       "           X_1          X_2\n",
       "0  1824.086303   729.528059\n",
       "1  1849.857344  2212.503349\n",
       "2  1029.739916  1627.966132\n",
       "3   889.233824  1794.961692\n",
       "4  1560.484653  1631.661656"
      ]
     },
     "execution_count": 107,
     "metadata": {},
     "output_type": "execute_result"
    }
   ],
   "source": [
    "data.head()"
   ]
  },
  {
   "cell_type": "markdown",
   "id": "099090a4",
   "metadata": {},
   "source": [
    "Usemos el método `plot()` para tener una idea de la variación que tienen estas variables en cada observación, suponiendo que éstas se encuentran ordenadas:"
   ]
  },
  {
   "cell_type": "code",
   "execution_count": 108,
   "id": "99330521",
   "metadata": {},
   "outputs": [
    {
     "data": {
      "image/png": "[encoded data removed]",
      "text/plain": [
       "<Figure size 720x360 with 1 Axes>"
      ]
     },
     "metadata": {
      "needs_background": "light"
     },
     "output_type": "display_data"
    }
   ],
   "source": [
    "# Gráfico de nuestras variables.\n",
    "data.plot(\n",
    "    figsize=(10, 5), xlabel=\"Nº de observación\", ylabel=r\"Valores de $X_1$ y $X_2$\",\n",
    "    title=r\"Evolución de los valores de las variables $X_1$ y $X_2$\", color=[\"b\", \"g\"]\n",
    ");"
   ]
  },
  {
   "cell_type": "markdown",
   "id": "597046ef",
   "metadata": {},
   "source": [
    "Vamos a escoger 20 puntos al azar de este DataFrame a fin de covertirlos en `nan`, con distintas elecciones para cada columna. Para ello, generaremos una lista a partir del método `integers()` desde dos semillas aleatorias distintas. Notemos que usamos el método `tolist()` para transformar el arreglo de **Numpy** resultante en una lista:"
   ]
  },
  {
   "cell_type": "code",
   "execution_count": 109,
   "id": "55b3b46c",
   "metadata": {},
   "outputs": [],
   "source": [
    "# Semillas aleatorias.\n",
    "rng1 = np.random.default_rng(7)\n",
    "rng2 = np.random.default_rng(8)"
   ]
  },
  {
   "cell_type": "code",
   "execution_count": 110,
   "id": "6393bf1b",
   "metadata": {},
   "outputs": [],
   "source": [
    "# Índices a transforman en nan.\n",
    "idx1 = rng1.integers(low=data.index[0], high=data.index[-1], size=20).tolist()\n",
    "idx2 = rng2.integers(low=data.index[0], high=data.index[-1], size=20).tolist()"
   ]
  },
  {
   "cell_type": "code",
   "execution_count": 111,
   "id": "d04ad0c3",
   "metadata": {},
   "outputs": [],
   "source": [
    "# Copiamos nuestra data en otro DataFrame, para preservar el original.\n",
    "df = data.copy()"
   ]
  },
  {
   "cell_type": "code",
   "execution_count": 112,
   "id": "36cedd23",
   "metadata": {},
   "outputs": [],
   "source": [
    "# Asignamos nan a estas posiciones.\n",
    "df.loc[idx1, \"X_1\"] = np.nan\n",
    "df.loc[idx2, \"X_2\"] = np.nan"
   ]
  },
  {
   "cell_type": "markdown",
   "id": "92dbcf77",
   "metadata": {},
   "source": [
    "El efecto de estos `nan` se observa fácilmente a nivel gráfico:"
   ]
  },
  {
   "cell_type": "code",
   "execution_count": 113,
   "id": "17ff0d67",
   "metadata": {},
   "outputs": [
    {
     "data": {
      "image/png": "[encoded data removed]",
      "text/plain": [
       "<Figure size 720x360 with 1 Axes>"
      ]
     },
     "metadata": {
      "needs_background": "light"
     },
     "output_type": "display_data"
    }
   ],
   "source": [
    "# Gráfico de nuestras variables (esta vez con nan).\n",
    "df.plot(\n",
    "    figsize=(10, 5), xlabel=\"Nº de observación\", ylabel=r\"Valores de $X_1$ y $X_2$\",\n",
    "    title=r\"Evolución de los valores de las variables $X_1$ y $X_2$\", color=[\"b\", \"g\"]\n",
    ");"
   ]
  },
  {
   "cell_type": "markdown",
   "id": "2ed01126",
   "metadata": {},
   "source": [
    "Para construir una interpolación lineal sobre cada columna, a fin de reemplazar los `nan` en cada columna, podemos usar el método `interpolate()`, imputando en este caso el argumento `method=\"linear\"`, a fin de indicarle a **Pandas** que la interpolación a realizar es de tipo lineal, y que es es la opción por defecto de este método. Para interpolar en la dirección de columnas, imputamos además el argumento `axis=0`:"
   ]
  },
  {
   "cell_type": "code",
   "execution_count": 114,
   "id": "e586f0e1",
   "metadata": {},
   "outputs": [],
   "source": [
    "# Interpolación lineal.\n",
    "df_linear_interp = df.interpolate(method=\"linear\", axis=0)"
   ]
  },
  {
   "cell_type": "markdown",
   "id": "5db22d22",
   "metadata": {},
   "source": [
    "Comparemos los gráficos de ambas variables, original e inteprolada linearmente:"
   ]
  },
  {
   "cell_type": "code",
   "execution_count": 115,
   "id": "23804053",
   "metadata": {},
   "outputs": [],
   "source": [
    "import matplotlib.pyplot as plt"
   ]
  },
  {
   "cell_type": "code",
   "execution_count": 116,
   "id": "0b61c7fc",
   "metadata": {},
   "outputs": [
    {
     "data": {
      "image/png": "[encoded data removed]",
      "text/plain": [
       "<Figure size 720x360 with 1 Axes>"
      ]
     },
     "metadata": {
      "needs_background": "light"
     },
     "output_type": "display_data"
    }
   ],
   "source": [
    "# Comparamos ambas variables.\n",
    "data[\"X_1\"].plot(color=\"green\")\n",
    "df_linear_interp[\"X_1\"].plot(\n",
    "    figsize=(10, 5), xlabel=\"Nº de observación\", ylabel=r\"Valores de $X_1$\",\n",
    "    title=r\"Comparativa entre variable $X_1$ original e interpolada\", color=\"blue\",\n",
    "    alpha=0.5\n",
    ")\n",
    "plt.legend([\"Data real\", \"Data interpolada\"]);"
   ]
  },
  {
   "cell_type": "code",
   "execution_count": 117,
   "id": "7c02a40e",
   "metadata": {},
   "outputs": [
    {
     "data": {
      "image/png": "[encoded data removed]",
      "text/plain": [
       "<Figure size 720x360 with 1 Axes>"
      ]
     },
     "metadata": {
      "needs_background": "light"
     },
     "output_type": "display_data"
    }
   ],
   "source": [
    "data[\"X_2\"].plot(color=\"green\")\n",
    "df_linear_interp[\"X_2\"].plot(\n",
    "    figsize=(10, 5), xlabel=\"Nº de observación\", ylabel=r\"Valores de $X_2$\",\n",
    "    title=r\"Comparativa entre variable $X_2$ original e interpolada\", color=\"blue\",\n",
    "    alpha=0.5\n",
    ")\n",
    "plt.legend([\"Data real\", \"Data interpolada\"]);"
   ]
  },
  {
   "cell_type": "markdown",
   "id": "78bb460b",
   "metadata": {},
   "source": [
    "Vemos que, en ambas variables, la interpolación lineal cumplió con imputar data en las posiciones de los `nan`. Sin embargo, no todos los valores interpolados cumplen con ser muy representativos de la data original. Esto es razonable, y es un costo que debemos estar dispuestos a pagar si tomamos la decisión de construir imputaciones de este tipo.\n",
    "\n",
    "**b) Interpolación segmentaria o por splines:** La inteprolación lineal implementada previamente es válida para cualquier secuencia de observaciones, digamos $x_{i-1,j}$, $x_{i,j}$ e $x_{i+1,j}$, en la cual $x_{i,j}$ no está definida (es decir, es un `nan`). Por esa razón, en estricto rigor, la interpolación que realizamos fue para cada tripleta de observaciones como la anterior, en la cual la segunda de ellas es un `nan`. A esta técnica se le conoce como **interpolación segmentaria o por splines**, ya que lo que hemos construido son diversos segmentos lineales que unen puntos entre los cuales hay una observación cuyo valor es desconocido (`nan`). Tales segmentos son denominados *splines* y, por extensión, la interpolación realizada previamente fue mediante el uso de splines lineales.\n",
    "\n",
    "Por supuesto, los splines pueden no ser lineales. Una de las técnicas de interpolación más eficientes en el análisis numérico corresponde a la interpolación mediante splines cúbicos. En este caso, cada uno de los segmentos que unen dos puntos entre los cuales hay otro punto que deseamos estimar, corresponde a un polinomio cúbico.\n",
    "\n",
    "Consideremos pues una secuencia de puntos $\\Omega =\\left\\{ P_{0},...,P_{n}\\right\\}$, donde cada punto $P_{k}$, para $k=1,2,...,n-1$, se puede escribir como $P_{k}=(x_{k},y_{k})$. Para todo $x\\in [x_{k},x_{k+1}]$, se define el **spline cúbico** (o spline de orden 3) $S_{k}(x)$ como\n",
    "\n",
    "<p style=\"text-align: center;\">$S_{k}\\left( x\\right)  =a_{k}+b_{k}\\left( x-x_{k}\\right)  +c_{k}\\left( x-x_{k}\\right)^{2}  +d_{k}\\left( x-x_{k}\\right)^{3}  $</p>\n",
    "</p> <p style=\"text-align: right;\">$(2.3)$</p>\n",
    "\n",
    "Y es tal que $S_{k}(x)=y_{k}$.\n",
    "\n",
    "Naturalmente, no queremos que *cualquier* polinomio cúbico sea utilizado para representar el spline $S_{k}(x)$, sino que estamos interesados en que dicho spline cumpla con ciertas condiciones. Por ejemplo, queremos que, además de que se cumpla la condición natural de interpolación ($S_{k}(x)=y_{k}$), que la curva completa descrita por la combinación de splines en dos puntos consecutivos sea regular; es decir, que no presente discontinuidades de ningún tipo (de salto o por existencia de vértices). Para que esta condición se cumpla, basta que tanto los splines que unen dos pares consecutivos de puntos como sus derivadas tengan el mismo valor en el punto de unión. Es decir, se debe tener que $S_{k-1}(x_{k})=S_{k}(x_{k})$ y $S'_{k-1}(x_{k})=S'_{k}(x_{k})$. Finalmente, queremos que dos splines consecutivos tengan exactamente la misma curvatura. Por lo tanto, la última restricción a considerar es $S''_{k-1}(x_{k})=S''_{k}(x_{k})$.\n",
    "\n",
    "Existen un par de **condiciones de borde** asociadas al problema de la interpolación mediante splines cúbicos que, tal y como su nombre lo indica, se aplican sobre los puntos inicial y final del conjunto completo, y dependen por completo de lo que nosotros necesitemos. La más común de estas condiciones se conoce como **condición de spline natural**, y es tal que $S''(x_{0})=0$ y $S''(x_{n})=0$.\n",
    "\n",
    "En **Pandas** es posible implementar una interpolación por splines cúbicos usando igualmente el método `interpolate()`, imputando los argumentos `method=\"spline\"` y `order=3`:"
   ]
  },
  {
   "cell_type": "code",
   "execution_count": 118,
   "id": "115876e0",
   "metadata": {},
   "outputs": [],
   "source": [
    "# Interpolación mediante splines cúbicos.\n",
    "df_cubic_spline_interp = df.interpolate(method=\"spline\", order=3, axis=0)"
   ]
  },
  {
   "cell_type": "markdown",
   "id": "366e869d",
   "metadata": {},
   "source": [
    "Nuevamente comparamos ambas variables, la real y la inteprolada mediante splines cúbicos (y la interpolada mediante splines lineales igualmente):"
   ]
  },
  {
   "cell_type": "code",
   "execution_count": 119,
   "id": "67bd10e5",
   "metadata": {},
   "outputs": [
    {
     "data": {
      "image/png": "[encoded data removed]",
      "text/plain": [
       "<Figure size 720x360 with 1 Axes>"
      ]
     },
     "metadata": {
      "needs_background": "light"
     },
     "output_type": "display_data"
    }
   ],
   "source": [
    "data[\"X_1\"].plot(color=\"red\")\n",
    "df_linear_interp[\"X_1\"].plot(\n",
    "    figsize=(10, 5), xlabel=\"Nº de observación\", ylabel=r\"Valores de $X_1$\",\n",
    "    title=r\"Comparativa entre variable $X_1$ original e interpolada\", color=\"blue\",\n",
    "    alpha=0.5\n",
    ")\n",
    "df_cubic_spline_interp[\"X_1\"].plot(\n",
    "    figsize=(10, 5), xlabel=\"Nº de observación\", ylabel=r\"Valores de $X_1$\",\n",
    "    title=r\"Comparativa entre variable $X_1$ original e interpolada\", color=\"green\",\n",
    "    alpha=0.5\n",
    ")\n",
    "plt.legend([\"Data real\", \"Interpolación lineal\", \"Interpolación por splines\"]);"
   ]
  },
  {
   "cell_type": "code",
   "execution_count": 120,
   "id": "8fbac6f7",
   "metadata": {},
   "outputs": [
    {
     "data": {
      "image/png": "[encoded data removed]",
      "text/plain": [
       "<Figure size 720x360 with 1 Axes>"
      ]
     },
     "metadata": {
      "needs_background": "light"
     },
     "output_type": "display_data"
    }
   ],
   "source": [
    "data[\"X_2\"].plot(color=\"red\")\n",
    "df_linear_interp[\"X_2\"].plot(\n",
    "    figsize=(10, 5), xlabel=\"Nº de observación\", ylabel=r\"Valores de $X_2$\",\n",
    "    title=r\"Comparativa entre variable $X_2$ original e interpolada\", color=\"blue\",\n",
    "    alpha=0.5\n",
    ")\n",
    "df_cubic_spline_interp[\"X_2\"].plot(\n",
    "    figsize=(10, 5), xlabel=\"Nº de observación\", ylabel=r\"Valores de $X_2$\",\n",
    "    title=r\"Comparativa entre variable $X_2$ original e interpolada\", color=\"green\",\n",
    "    alpha=0.5\n",
    ")\n",
    "plt.legend([\"Data real\", \"Interpolación lineal\", \"Interpolación por splines\"]);"
   ]
  },
  {
   "cell_type": "markdown",
   "id": "f8d7db1c",
   "metadata": {},
   "source": [
    "Vemos pues que este tipo de interpolación genera puntos muy distintos, en varios casos, en relación al caso de la interpolación mediante splines lineales. A fin de determinar cuál es mejor, podríamos determinar los errores relativos de ambos casos y quedarnos con la alternativa que genere el menor error de interpolación. Dejamos esto como ejercicio al lector.\n",
    "\n",
    "## Comentarios finales.\n",
    "Ya hemos aprendido a manipular datos conforme todo tipo de operaciones y métodos de agregación tanto en series como en DataFrames, lo que, sumado a las `ufuncs` que hemos aprendido en **Numpy**, nos permite prácticamente realizar la operación que queramos usando estructuras de datos de **Pandas**. En la próxima sección estudiaremos la indexación múltiple de series y DataFrames, considerando la incorporación de data de mayores dimensiones en estas estructuras. Veremos que todas las operaciones que hemos aprendido en esta sección se preservan tanto en series como DataFrames con más de un nivel de indexación en filas y columnas."
   ]
  }
 ],
 "metadata": {
  "kernelspec": {
   "display_name": "Python 3 (ipykernel)",
   "language": "python",
   "name": "python3"
  },
  "language_info": {
   "codemirror_mode": {
    "name": "ipython",
    "version": 3
   },
   "file_extension": ".py",
   "mimetype": "text/x-python",
   "name": "python",
   "nbconvert_exporter": "python",
   "pygments_lexer": "ipython3",
   "version": "3.9.7"
  }
 },
 "nbformat": 4,
 "nbformat_minor": 5
}
