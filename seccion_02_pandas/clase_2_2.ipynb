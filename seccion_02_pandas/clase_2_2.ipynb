{
 "cells": [
  {
   "attachments": {},
   "cell_type": "markdown",
   "id": "e4127ddc",
   "metadata": {},
   "source": [
    "# CLASE 2.2: MANIPULACIÓN DE DATOS EN SERIES Y DATAFRAMES.\n",
    "---\n",
    "\n",
    "## Carga y guardado de datos en Pandas.\n",
    "En general, cuando recibimos información para la posterior realización de un estudio o análisis, ésta suele venir en una gran cantidad de formatos, y que dependerán por supuesto del tipo de tarea que necesitemos realizar. La data que es objeto de análisis suele venir en un formato de tabla típico de softwares tales como Microsoft Excel® u otros, y que incluye extensiones de archivo tales como `.txt`, `.csv` o `.xlsx`. Para una gran cantidad de estas extensiones, **Pandas** nos ofrece una gran cantidad de funciones para cargar los datos contenidos en estos archivos en series o DataFrames.\n",
    "\n",
    "Un ejemplo de función de carga de archivos en **Pandas** corresponde a `pd.read_excel()`, la que permite cargar cualquier archivo con extensión` .xlsx` típico de Microsoft Excel® en una serie o DataFrame, según sea el caso. Esta función tiene como único argumento obligatorio a `io`, que corresponde a la ruta del archivo al que queremos acceder. Otros argumentos opcionales incluyen `sheet_name`, que es el nombre de la hoja del libro de Excel® a la que queremos acceder; `engine`, que corresponde al motor de lectura de archivos que se usará para acceder al mismo (nosotros, puntualmente, usaremos uno que viene por defecto en una instalación de Anaconda®, llamado `openpyxl`; sin embargo, si por alguna razón no se encuentra instalado en nuestras dependencias, siempre podremos hacerlo nosotros mismos mediante la instrucción `pip install openpyxl`); y `decimal`, que corresponde a un string que denota el separador de decimales utilizado en el archivo (por defecto, dicho separador es `,`).\n",
    "\n",
    "Podemos cargar el archivo `pillars_data.xlsx`, ubicado en la ruta `/seccion_02_pandas/datasets`, a fin de probar esta función:"
   ]
  },
  {
   "cell_type": "code",
   "execution_count": 1,
   "id": "d6dd3c32",
   "metadata": {},
   "outputs": [],
   "source": [
    "import numpy as np\n",
    "import pandas as pd"
   ]
  },
  {
   "cell_type": "code",
   "execution_count": 2,
   "id": "b5c0bafb",
   "metadata": {},
   "outputs": [],
   "source": [
    "# Carga de archivos de Excel (extensión .xlsx).\n",
    "data = pd.read_excel(io=\"datasets/pillars_data.xlsx\", engine=\"openpyxl\")"
   ]
  },
  {
   "cell_type": "markdown",
   "id": "caf70034",
   "metadata": {},
   "source": [
    "Revisemos la geometría de este DataFrame mediante su atributo `shape` (que se hereda igualmente desde **Numpy**):"
   ]
  },
  {
   "cell_type": "code",
   "execution_count": 3,
   "id": "8a719f51",
   "metadata": {},
   "outputs": [
    {
     "data": {
      "text/plain": [
       "(923, 7)"
      ]
     },
     "execution_count": 3,
     "metadata": {},
     "output_type": "execute_result"
    }
   ],
   "source": [
    "# Geometría de nuestro DataFrame.\n",
    "data.shape"
   ]
  },
  {
   "cell_type": "markdown",
   "id": "6e5a7fcb",
   "metadata": {},
   "source": [
    "Este DataFrame tiene 923 filas, así que usaremos el método `head()` para verificar sus primeras 5 filas:"
   ]
  },
  {
   "cell_type": "code",
   "execution_count": 4,
   "id": "023e7836",
   "metadata": {},
   "outputs": [
    {
     "data": {
      "text/html": [
       "<div>\n",
       "<style scoped>\n",
       "    .dataframe tbody tr th:only-of-type {\n",
       "        vertical-align: middle;\n",
       "    }\n",
       "\n",
       "    .dataframe tbody tr th {\n",
       "        vertical-align: top;\n",
       "    }\n",
       "\n",
       "    .dataframe thead th {\n",
       "        text-align: right;\n",
       "    }\n",
       "</style>\n",
       "<table border=\"1\" class=\"dataframe\">\n",
       "  <thead>\n",
       "    <tr style=\"text-align: right;\">\n",
       "      <th></th>\n",
       "      <th>x</th>\n",
       "      <th>y</th>\n",
       "      <th>z</th>\n",
       "      <th>area</th>\n",
       "      <th>frec_fracturas</th>\n",
       "      <th>sigma_z</th>\n",
       "      <th>tiraje_prom</th>\n",
       "    </tr>\n",
       "  </thead>\n",
       "  <tbody>\n",
       "    <tr>\n",
       "      <th>0</th>\n",
       "      <td>1006.1766</td>\n",
       "      <td>488.6437</td>\n",
       "      <td>2346</td>\n",
       "      <td>286.5643</td>\n",
       "      <td>1.979</td>\n",
       "      <td>11.126392</td>\n",
       "      <td>122.685</td>\n",
       "    </tr>\n",
       "    <tr>\n",
       "      <th>1</th>\n",
       "      <td>1040.6020</td>\n",
       "      <td>492.5178</td>\n",
       "      <td>2346</td>\n",
       "      <td>286.5643</td>\n",
       "      <td>3.070</td>\n",
       "      <td>9.646313</td>\n",
       "      <td>121.178</td>\n",
       "    </tr>\n",
       "    <tr>\n",
       "      <th>2</th>\n",
       "      <td>1075.0274</td>\n",
       "      <td>496.3919</td>\n",
       "      <td>2346</td>\n",
       "      <td>286.5643</td>\n",
       "      <td>3.070</td>\n",
       "      <td>10.590594</td>\n",
       "      <td>118.942</td>\n",
       "    </tr>\n",
       "    <tr>\n",
       "      <th>3</th>\n",
       "      <td>1109.4528</td>\n",
       "      <td>500.2660</td>\n",
       "      <td>2346</td>\n",
       "      <td>286.5643</td>\n",
       "      <td>1.750</td>\n",
       "      <td>10.605144</td>\n",
       "      <td>120.012</td>\n",
       "    </tr>\n",
       "    <tr>\n",
       "      <th>4</th>\n",
       "      <td>1143.8782</td>\n",
       "      <td>504.1401</td>\n",
       "      <td>2346</td>\n",
       "      <td>286.5643</td>\n",
       "      <td>0.670</td>\n",
       "      <td>10.059537</td>\n",
       "      <td>122.787</td>\n",
       "    </tr>\n",
       "  </tbody>\n",
       "</table>\n",
       "</div>"
      ],
      "text/plain": [
       "           x         y     z      area  frec_fracturas    sigma_z  tiraje_prom\n",
       "0  1006.1766  488.6437  2346  286.5643           1.979  11.126392      122.685\n",
       "1  1040.6020  492.5178  2346  286.5643           3.070   9.646313      121.178\n",
       "2  1075.0274  496.3919  2346  286.5643           3.070  10.590594      118.942\n",
       "3  1109.4528  500.2660  2346  286.5643           1.750  10.605144      120.012\n",
       "4  1143.8782  504.1401  2346  286.5643           0.670  10.059537      122.787"
      ]
     },
     "execution_count": 4,
     "metadata": {},
     "output_type": "execute_result"
    }
   ],
   "source": [
    "# Imprimimos en pantalla las primeras 5 filas de nuestro DataFrame.\n",
    "data.head()"
   ]
  },
  {
   "cell_type": "markdown",
   "id": "1b06666b",
   "metadata": {},
   "source": [
    "La carga de datos desde archivos con extensión `.xlsx` suele ser muy lenta. Por esa razón, es preferible cargar data desde archivos que sean de menor complejidad. Un ejemplo de este tipo de archivos corresponde a aquellos con extensión `.csv` (valores separados por comas), debido a que éstos consumen mucha menos memoria que aquellos generados por defecto en Microsoft Excel®.\n",
    "\n",
    "Para testear la diferencia en el tiempo de carga de archivos en **Pandas** con ambos tipos de formato, primero guardaremos nuestro DataFrame en formato `.csv`. Para ello, podemos utilizar el método `to_csv()` aplicado sobre nuestro DataFrame, considerando la ruta y el nombre de archivo con el cual guardaremos esta data:"
   ]
  },
  {
   "cell_type": "code",
   "execution_count": 7,
   "id": "7dc6ff78",
   "metadata": {},
   "outputs": [],
   "source": [
    "# Guardamos nuestra data en un archivo de valores separados por comas (.csv).\n",
    "data.to_csv(\"datasets/pillars_data.csv\")"
   ]
  },
  {
   "cell_type": "markdown",
   "id": "f9018c21",
   "metadata": {},
   "source": [
    "La carga de datos desde archivos con extensión `.csv` en **Pandas** puede realizarse mediante el uso de la función `pd.read_csv()`, cuyo único argumento obligatorio es `filepath_or_buffer`, y que corresponde a la ruta del archivo desde el cual cargamos nuestros datos. Esta función también comparte varios argumentos con `pd.read_excel()`, como `decimal`, y que cumple la misma función:"
   ]
  },
  {
   "cell_type": "code",
   "execution_count": 8,
   "id": "77f717bb",
   "metadata": {},
   "outputs": [],
   "source": [
    "# Volvemos a cargar nuestra data, pero esta vez desde un archivo .csv.\n",
    "data = pd.read_csv(filepath_or_buffer=\"datasets/pillars_data.csv\")"
   ]
  },
  {
   "cell_type": "markdown",
   "id": "a5caee48",
   "metadata": {},
   "source": [
    "Vemos que se trata casi exactamente del mismo archivo:"
   ]
  },
  {
   "cell_type": "code",
   "execution_count": 9,
   "id": "dde1c662",
   "metadata": {},
   "outputs": [
    {
     "data": {
      "text/html": [
       "<div>\n",
       "<style scoped>\n",
       "    .dataframe tbody tr th:only-of-type {\n",
       "        vertical-align: middle;\n",
       "    }\n",
       "\n",
       "    .dataframe tbody tr th {\n",
       "        vertical-align: top;\n",
       "    }\n",
       "\n",
       "    .dataframe thead th {\n",
       "        text-align: right;\n",
       "    }\n",
       "</style>\n",
       "<table border=\"1\" class=\"dataframe\">\n",
       "  <thead>\n",
       "    <tr style=\"text-align: right;\">\n",
       "      <th></th>\n",
       "      <th>Unnamed: 0</th>\n",
       "      <th>x</th>\n",
       "      <th>y</th>\n",
       "      <th>z</th>\n",
       "      <th>area</th>\n",
       "      <th>frec_fracturas</th>\n",
       "      <th>sigma_z</th>\n",
       "      <th>tiraje_prom</th>\n",
       "    </tr>\n",
       "  </thead>\n",
       "  <tbody>\n",
       "    <tr>\n",
       "      <th>0</th>\n",
       "      <td>0</td>\n",
       "      <td>1006.1766</td>\n",
       "      <td>488.6437</td>\n",
       "      <td>2346</td>\n",
       "      <td>286.5643</td>\n",
       "      <td>1.979</td>\n",
       "      <td>11.126392</td>\n",
       "      <td>122.685</td>\n",
       "    </tr>\n",
       "    <tr>\n",
       "      <th>1</th>\n",
       "      <td>1</td>\n",
       "      <td>1040.6020</td>\n",
       "      <td>492.5178</td>\n",
       "      <td>2346</td>\n",
       "      <td>286.5643</td>\n",
       "      <td>3.070</td>\n",
       "      <td>9.646313</td>\n",
       "      <td>121.178</td>\n",
       "    </tr>\n",
       "    <tr>\n",
       "      <th>2</th>\n",
       "      <td>2</td>\n",
       "      <td>1075.0274</td>\n",
       "      <td>496.3919</td>\n",
       "      <td>2346</td>\n",
       "      <td>286.5643</td>\n",
       "      <td>3.070</td>\n",
       "      <td>10.590594</td>\n",
       "      <td>118.942</td>\n",
       "    </tr>\n",
       "    <tr>\n",
       "      <th>3</th>\n",
       "      <td>3</td>\n",
       "      <td>1109.4528</td>\n",
       "      <td>500.2660</td>\n",
       "      <td>2346</td>\n",
       "      <td>286.5643</td>\n",
       "      <td>1.750</td>\n",
       "      <td>10.605144</td>\n",
       "      <td>120.012</td>\n",
       "    </tr>\n",
       "    <tr>\n",
       "      <th>4</th>\n",
       "      <td>4</td>\n",
       "      <td>1143.8782</td>\n",
       "      <td>504.1401</td>\n",
       "      <td>2346</td>\n",
       "      <td>286.5643</td>\n",
       "      <td>0.670</td>\n",
       "      <td>10.059537</td>\n",
       "      <td>122.787</td>\n",
       "    </tr>\n",
       "  </tbody>\n",
       "</table>\n",
       "</div>"
      ],
      "text/plain": [
       "   Unnamed: 0          x         y     z      area  frec_fracturas    sigma_z  \\\n",
       "0           0  1006.1766  488.6437  2346  286.5643           1.979  11.126392   \n",
       "1           1  1040.6020  492.5178  2346  286.5643           3.070   9.646313   \n",
       "2           2  1075.0274  496.3919  2346  286.5643           3.070  10.590594   \n",
       "3           3  1109.4528  500.2660  2346  286.5643           1.750  10.605144   \n",
       "4           4  1143.8782  504.1401  2346  286.5643           0.670  10.059537   \n",
       "\n",
       "   tiraje_prom  \n",
       "0      122.685  \n",
       "1      121.178  \n",
       "2      118.942  \n",
       "3      120.012  \n",
       "4      122.787  "
      ]
     },
     "execution_count": 9,
     "metadata": {},
     "output_type": "execute_result"
    }
   ],
   "source": [
    "# Esta es la misma data que antes, sólo que cargada desde un archivo más liviano.\n",
    "data.head()"
   ]
  },
  {
   "attachments": {},
   "cell_type": "markdown",
   "id": "d5160755",
   "metadata": {},
   "source": [
    "Observamos que el archivo cargado previamente tiene una columna adicional cuyo nombre es `\"Unnamed: 0\"`. La razón de aquello es porque, al guardar un DataFrame mediante el método` to_csv()`, el índice de filas asignado por defecto al mismo se guarda también. Para evitar guardar un el índice de un DataFrame junto con sus datos, basta con especificar el argumento `index` en el método `to_csv()` con valor igual a `False`.\n",
    "\n",
    "Previo a hacer esto, primero eliminaremos la columna `\"Unnamed: 0\"`. Para eliminar cualquier fila o columna en un DataFrame, podemos usar siempre el método `drop()` para eliminar cualquier fila o columna, especificando para ello el eje estructural que sirve como referencia para la correspondiente eliminación (`axis=0` para las filas, y `axis=1` para las columnas, similar a lo que ocurre en arreglos bidimensionales de **Numpy**). Por supuesto, `drop()` requiere que especifiquemos el índice asociado a la fila o columna (o conjunto de filas o columnas) que deseamos eliminar. Finalmente, usamos el argumento `inplace` (que es de tipo Booleano) para indicar a **Pandas** que la eliminación se realiza sobre la serie o DataFrame en cuestión, guardando los cambios una vez que éstos se realizan. De este modo, para eliminar la columna` \"Unnamed: 0\"`, basta con escribir:"
   ]
  },
  {
   "cell_type": "code",
   "execution_count": 10,
   "id": "05979166",
   "metadata": {},
   "outputs": [],
   "source": [
    "# Eliminamos la columna 'Unnamed: 0'.\n",
    "data.drop(\"Unnamed: 0\", axis=1, inplace=True)"
   ]
  },
  {
   "cell_type": "markdown",
   "id": "1b3a8a5f",
   "metadata": {},
   "source": [
    "Ahora guardamos nuestro DataFrame, ignorando el índice de filas:"
   ]
  },
  {
   "cell_type": "code",
   "execution_count": 11,
   "id": "1ebca8d0",
   "metadata": {},
   "outputs": [],
   "source": [
    "# Guardamos nuestro DataFrame en formato .csv, descartando el índice de filas.\n",
    "data.to_csv(\"datasets/pillars_data.csv\", index=False)"
   ]
  },
  {
   "cell_type": "markdown",
   "id": "8142c237",
   "metadata": {},
   "source": [
    "Vemos que ahora, si cargamos nuestra data y la imprimimos en pantalla, no existirá la columna `\"Unnamed: 0\"`:"
   ]
  },
  {
   "cell_type": "code",
   "execution_count": 12,
   "id": "13d8eac8",
   "metadata": {},
   "outputs": [
    {
     "data": {
      "text/html": [
       "<div>\n",
       "<style scoped>\n",
       "    .dataframe tbody tr th:only-of-type {\n",
       "        vertical-align: middle;\n",
       "    }\n",
       "\n",
       "    .dataframe tbody tr th {\n",
       "        vertical-align: top;\n",
       "    }\n",
       "\n",
       "    .dataframe thead th {\n",
       "        text-align: right;\n",
       "    }\n",
       "</style>\n",
       "<table border=\"1\" class=\"dataframe\">\n",
       "  <thead>\n",
       "    <tr style=\"text-align: right;\">\n",
       "      <th></th>\n",
       "      <th>x</th>\n",
       "      <th>y</th>\n",
       "      <th>z</th>\n",
       "      <th>area</th>\n",
       "      <th>frec_fracturas</th>\n",
       "      <th>sigma_z</th>\n",
       "      <th>tiraje_prom</th>\n",
       "    </tr>\n",
       "  </thead>\n",
       "  <tbody>\n",
       "    <tr>\n",
       "      <th>0</th>\n",
       "      <td>1006.1766</td>\n",
       "      <td>488.6437</td>\n",
       "      <td>2346</td>\n",
       "      <td>286.5643</td>\n",
       "      <td>1.979</td>\n",
       "      <td>11.126392</td>\n",
       "      <td>122.685</td>\n",
       "    </tr>\n",
       "    <tr>\n",
       "      <th>1</th>\n",
       "      <td>1040.6020</td>\n",
       "      <td>492.5178</td>\n",
       "      <td>2346</td>\n",
       "      <td>286.5643</td>\n",
       "      <td>3.070</td>\n",
       "      <td>9.646313</td>\n",
       "      <td>121.178</td>\n",
       "    </tr>\n",
       "    <tr>\n",
       "      <th>2</th>\n",
       "      <td>1075.0274</td>\n",
       "      <td>496.3919</td>\n",
       "      <td>2346</td>\n",
       "      <td>286.5643</td>\n",
       "      <td>3.070</td>\n",
       "      <td>10.590594</td>\n",
       "      <td>118.942</td>\n",
       "    </tr>\n",
       "    <tr>\n",
       "      <th>3</th>\n",
       "      <td>1109.4528</td>\n",
       "      <td>500.2660</td>\n",
       "      <td>2346</td>\n",
       "      <td>286.5643</td>\n",
       "      <td>1.750</td>\n",
       "      <td>10.605144</td>\n",
       "      <td>120.012</td>\n",
       "    </tr>\n",
       "    <tr>\n",
       "      <th>4</th>\n",
       "      <td>1143.8782</td>\n",
       "      <td>504.1401</td>\n",
       "      <td>2346</td>\n",
       "      <td>286.5643</td>\n",
       "      <td>0.670</td>\n",
       "      <td>10.059537</td>\n",
       "      <td>122.787</td>\n",
       "    </tr>\n",
       "  </tbody>\n",
       "</table>\n",
       "</div>"
      ],
      "text/plain": [
       "           x         y     z      area  frec_fracturas    sigma_z  tiraje_prom\n",
       "0  1006.1766  488.6437  2346  286.5643           1.979  11.126392      122.685\n",
       "1  1040.6020  492.5178  2346  286.5643           3.070   9.646313      121.178\n",
       "2  1075.0274  496.3919  2346  286.5643           3.070  10.590594      118.942\n",
       "3  1109.4528  500.2660  2346  286.5643           1.750  10.605144      120.012\n",
       "4  1143.8782  504.1401  2346  286.5643           0.670  10.059537      122.787"
      ]
     },
     "execution_count": 12,
     "metadata": {},
     "output_type": "execute_result"
    }
   ],
   "source": [
    "# Cargamos nuestra data nuevamente.\n",
    "data = pd.read_csv(filepath_or_buffer=\"datasets/pillars_data.csv\")\n",
    "data.head()"
   ]
  },
  {
   "cell_type": "markdown",
   "id": "41f49392",
   "metadata": {},
   "source": [
    "Si tomamos el tiempo de ejecución de ambas funciones de carga de archivos, veremos que la función `pd.read_csv()` es muchísimo más rápida que `pd.read_excel()` al abrir el mismo archivo con extensiones diferentes:"
   ]
  },
  {
   "cell_type": "code",
   "execution_count": 13,
   "id": "e4320291",
   "metadata": {},
   "outputs": [
    {
     "name": "stdout",
     "output_type": "stream",
     "text": [
      "101 ms ± 2.41 ms per loop (mean ± std. dev. of 7 runs, 10 loops each)\n"
     ]
    }
   ],
   "source": [
    "%timeit pd.read_excel(io=\"datasets/pillars_data.xlsx\", engine=\"openpyxl\")"
   ]
  },
  {
   "cell_type": "code",
   "execution_count": 14,
   "id": "ac18d14a",
   "metadata": {},
   "outputs": [
    {
     "name": "stdout",
     "output_type": "stream",
     "text": [
      "2.66 ms ± 50.6 µs per loop (mean ± std. dev. of 7 runs, 100 loops each)\n"
     ]
    }
   ],
   "source": [
    "%timeit pd.read_csv(filepath_or_buffer=\"datasets/pillars_data.csv\")"
   ]
  },
  {
   "cell_type": "markdown",
   "id": "e14bfaca",
   "metadata": {},
   "source": [
    "¡`pd.read_csv()` fue casi 40 veces más rápida que `pd.read_excel()`, siendo que ambos archivos tenían almacenada la misma data!\n",
    "\n",
    "## Iteraciones sobre filas.\n",
    "Con iteraciones sobre filas nos referimos a cualquier cálculo repetitivo que se realice sobre todas las filas de una estructura de datos de **Pandas** (ya sea una serie o un DataFrame), una a la vez. Estas operaciones suelen tener un tiempo de ejecución lento y que motiva, de hecho, a que **Pandas** nos ofrezca una amigable advertencia en su [documentación oficial](https://pandas.pydata.org/pandas-docs/stable/user_guide/basics.html#iteration) relativa al hecho de que, en efecto, este es un proceso que tarda más tiempo del que quizás nos gustaría esperar. Por lo tanto, antes de proceder a iterar sobre filas, debemos detenernos a pensar en qué queremos hacer con cada una de ellas, y empaquetar dicha acción en alguna función que aplicaremos posteriormente sobre nuestra serie o DataFrame mediante el método `apply()`\n",
    "\n",
    "Antes de proceder a explicar cómo generar iteraciones sobre filas, nos detendremos un poco a comentar cómo aplicar funciones sobre una serie o DataFrame mediante el uso del método `apply()`. Dicho método es propio de cualquiera de estas estructuras de datos, y permite aplicar cualquier función previamente definida sobre todos los datos de una serie o DataFrame, o bien, sobre los datos que están referenciados por algún eje (filas o columnas).\n",
    "\n",
    "De la misma forma que ocurre con los arreglos bidimensionales, los DataFrames son estructuras que están ordenadas siguiendo una convención que justifica su geometría. Tal convención es exactamente la misma que la usada en **Numpy** para tales arreglos, y hace uso de los ejes 0 y 1 para hacer referencia a operaciones que aplican ya sea sobre filas o columnas, respectivamente. Esta referencia, igualmente, se explicita mediante el argumento axis, y es algo que ya vimos al usar el método `drop()`.\n",
    "\n",
    "Los ejes que definen la geometría de un arreglo se ilustran en el siguiente bloque de código:"
   ]
  },
  {
   "cell_type": "code",
   "execution_count": null,
   "id": "7b6084af",
   "metadata": {},
   "outputs": [],
   "source": []
  }
 ],
 "metadata": {
  "kernelspec": {
   "display_name": "Python 3 (ipykernel)",
   "language": "python",
   "name": "python3"
  },
  "language_info": {
   "codemirror_mode": {
    "name": "ipython",
    "version": 3
   },
   "file_extension": ".py",
   "mimetype": "text/x-python",
   "name": "python",
   "nbconvert_exporter": "python",
   "pygments_lexer": "ipython3",
   "version": "3.9.7"
  }
 },
 "nbformat": 4,
 "nbformat_minor": 5
}
