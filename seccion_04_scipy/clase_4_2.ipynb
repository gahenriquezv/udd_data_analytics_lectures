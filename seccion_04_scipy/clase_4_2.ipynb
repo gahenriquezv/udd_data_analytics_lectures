{
 "cells": [
  {
   "cell_type": "markdown",
   "id": "d9c3c4b0",
   "metadata": {},
   "source": [
    "# CLASE 4.2: INTRODUCCIÓN A LA COMPUTACIÓN SIMBÓLICA CON SYMPY.\n",
    "---\n",
    "## Introducción.\n",
    "La computación simbólica corresponde a un paradigma de computación completamente diferente al basado en arreglos numéricos que hemos estado desarrollando durante la asignatura. En un software de computación simbólica (conocidos popularmente como sistemas de álgebra computacional, o CAS), las representaciones de objetos matemáticos y expresiones se manipulan y transforman analíticamente, de la misma forma en que haríamos cálculos con lápiz y papel, aunque -por supuesto- con un alcance mucho mayor. Por tanto, la computación simbólica constituye una fantástica herramienta para el chequeo y *debugging* de cálculos analíticos hechos a mano y, más importante aún, para llevar a cabo análisis que, de otro modo, serían imposibles de realizar.\n",
    "\n",
    "La computacional simbólica es un elemento clave de la computación científica, e incluso para problemas que pueden ser resueltos únicamente mediante métodos numéricos (lo que es muy común en el campo de la ciencia de datos), podemos hacer una gran diferencia al llegar a los límites de los cálculos analíticos que pueden realizarse antes de proceder a la implementación de técnicas numéricas. Aquello puede, por ejemplo, reducir la complejidad o el tamaño de un problema previo a resolverlo numéricamente. En otras palabras, en vez de resolver un problema de manera inmediata mediante algún método numérico, las herramientas de computación simbólica nos permitirán simplificarlo primero.\n",
    "\n",
    "Existen algunas librerías de computación científica en Python, siendo **Sympy** (acrónimo de *Symbolic Python*), indudablemente, la más popular de todas. **Sympy** es una librería escrita completamente en Python y nos provee de herramientas para la resolución de un amplio rango de problemas de naturaleza analítica. Y en esta sección, nos dedicaremos a conocer en parte cómo hacer uso de **Sympy** para resolver este tipo de problemas. Esta librería no se encuentra incluida en algunas versiones de Anaconda, pero podemos instalarla fácilmente usando una terminal como sigue:\n",
    "\n",
    "`conda install sympy`\n",
    "\n",
    "En general, **Sympy** suele importarse de manera tal que tengamos acceso directo a todas sus funciones (mediante instrucciones del tipo `from sympy import *`). Sin embargo, a fin de tener claridad en relación a lo que hacemos, importaremos este módulo de manera directa, a fin de usar su nombre como prefijo para todas sus funciones (o bien, importaremos funciones específicas):"
   ]
  },
  {
   "cell_type": "code",
   "execution_count": 1,
   "id": "71fcd040",
   "metadata": {},
   "outputs": [],
   "source": [
    "# Importamos Sympy.\n",
    "import sympy"
   ]
  },
  {
   "cell_type": "markdown",
   "id": "0005ae4a",
   "metadata": {},
   "source": [
    "Haremos uso, en primera instancia, de la función `sympy.init_printing()`, la cual nos permitirá configurar el sistema de impresión en pantalla de **Sympy** para así renderizar expresiones matemáticas bastante bonitas a la vista, muy similares a las que podemos generar mediante el uso de LaTeX:"
   ]
  },
  {
   "cell_type": "code",
   "execution_count": 2,
   "id": "08af7ebb",
   "metadata": {},
   "outputs": [],
   "source": [
    "# Inicializamos el sistema de impresión de expresiones matemáticas.\n",
    "sympy.init_printing()"
   ]
  },
  {
   "cell_type": "markdown",
   "id": "23759ac5",
   "metadata": {},
   "source": [
    "**NOTA IMPORTANTE:** Notemos que **Numpy** y **Sympy**, como suele ocurrir con otras librerías de Python, nos proveen de muchas variables y funciones con el mismo nombre. Sin embargo, estos símbolos rara vez serán intercambiables. Por ejemplo, `numpy.pi` nos proveerá de un valor aproximado del número $\\pi$, mientras que `sympy.pi` nos proveerá de una representación simbólica de $\\pi$. Por lo tanto, es importante no mezclar ambas cosas.\n",
    "\n",
    "## Símbolos.\n",
    "Un atributo esencial de **Sympy** es la representación de símbolos matemáticos por medio de objetos de Python. En esta librería, por ejemplo, podemos utilizar la clase `sympy.Symbol` para este propósito. Una instancia de `sympy.Symbol` tiene siempre un nombre y un conjunto de atributos que describen sus propiedades, y métodos que permiten consultar tales propiedades y para operar sobre estos objetos simbólicos. Un símbolo por sí mismo no es de mucha utilidad, pero son utilizados como nodos en árboles completos que representan expresiones algebraicas. El paso cero a la hora de resolver un problema utilizando herramientas de **Sympy**, es precisamente crear símbolos para las variables matemáticas involucradas y las constantes que son necesarias para resolver dicho problema.\n",
    "\n",
    "El nombre de un símbolo se define siempre por medio de un string, el cual, de manera opcional, puede incluir sintaxis de LaTeX para forzar a **Sympy** a representar simbólicamente lo que nosotros queremos en un entorno potenciado por **IPython** (como un notebook de Jupyter). Este nombre se establece al crear el símbolo, y dicha creación puede hacerse de varias maneras, usando clases y funciones tales como `sympy.Symbol`, `sympy.symbols()` y `sympy.var()`. En general, es deseable asociar los símbolos creados en **Sympy** a variables de Python que tengan el mismo nombren(o lo más parecido posible). Por ejemplo, podemos crear un símbolo en **Sympy** que represente a una variable $x$, y luego asociarlo a un objeto de Python que llamamos `x`:"
   ]
  },
  {
   "cell_type": "code",
   "execution_count": 3,
   "id": "0714aa24",
   "metadata": {},
   "outputs": [],
   "source": [
    "# Nuestra primera variable en Sympy.\n",
    "x = sympy.Symbol(\"x\")"
   ]
  },
  {
   "cell_type": "markdown",
   "id": "c66c6fc7",
   "metadata": {},
   "source": [
    "La variable `x` ahora representa un símbolo matemático abstracto $x$ del cual sabemos muy poca información por defecto. En este punto, `x` podría representar, por ejemplo, un número real, un entero, un número complejo, una función, o cualquier otra entidad de naturaleza matemática. En muchos casos, es suficiente representar un símbolo matemático con este nivel de abstracción, pero a veces puede resultar necesario darle a **Sympy** pistas acerca del tipo de símbolo que estamos representando, lo que sinduda puede ayudar a **Sympy** a manipular de forma más eficiente expresiones analíticas. Podemos añadir varios supuestos que permitan describir las propiedades de un objeto simbólico mediante el uso de algunos argumentos propios de las funciones que crean estos símbolos (por ejemplo, `sympy.Symbol`). Por ejemplo, si tenemos una variable matemática $\\alpha$ que sabemos que es un número real, podemos usar el argumento Booleano `real` en la clase `sympy.Symbol` para definir dicha propiedad:"
   ]
  },
  {
   "cell_type": "code",
   "execution_count": 4,
   "id": "0bb2c33a",
   "metadata": {},
   "outputs": [],
   "source": [
    "# Creación de un símbolo que representa un número real.\n",
    "alpha = sympy.Symbol(r\"\\alpha\", real=True)"
   ]
  },
  {
   "cell_type": "code",
   "execution_count": 5,
   "id": "8c8656c8",
   "metadata": {},
   "outputs": [
    {
     "data": {
      "image/png": "[encoded data removed]",
      "text/latex": [
       "$\\displaystyle \\alpha$"
      ],
      "text/plain": [
       "\\alpha"
      ]
     },
     "execution_count": 5,
     "metadata": {},
     "output_type": "execute_result"
    }
   ],
   "source": [
    "# Mostramos el símbolo en pantalla.\n",
    "alpha"
   ]
  },
  {
   "cell_type": "markdown",
   "id": "243e4758",
   "metadata": {},
   "source": [
    "Podemos consultar el atributo `is_real` del objeto anterior, a fin de confirmar que efectivamente dicho objeto representa un número real:"
   ]
  },
  {
   "cell_type": "code",
   "execution_count": 6,
   "id": "eb982232",
   "metadata": {},
   "outputs": [
    {
     "data": {
      "text/plain": [
       "True"
      ]
     },
     "execution_count": 6,
     "metadata": {},
     "output_type": "execute_result"
    }
   ],
   "source": [
    "# Comprobamos que este objeto es, en efecto, un número real.\n",
    "alpha.is_real"
   ]
  },
  {
   "cell_type": "markdown",
   "id": "c93c9a33",
   "metadata": {},
   "source": [
    "Si, por otro lado, si fuéramos a usar el atributo `is_real` para consultar el símbolo `x`, definido previamente, y para el cual no establecimos explícitamente que representa un número real (o de otro tipo), obtendríamos `None` como respuesta:"
   ]
  },
  {
   "cell_type": "code",
   "execution_count": 7,
   "id": "c43856fb",
   "metadata": {},
   "outputs": [
    {
     "data": {
      "text/plain": [
       "True"
      ]
     },
     "execution_count": 7,
     "metadata": {},
     "output_type": "execute_result"
    }
   ],
   "source": [
    "# Consultamos si x es un número real.\n",
    "x.is_real is None"
   ]
  },
  {
   "cell_type": "markdown",
   "id": "75af5123",
   "metadata": {},
   "source": [
    "Otros atributos que denotan el tipo de símbolo a definir se muestran en la Tabla (2.1).\n",
    "\n",
    "</p> <p style=\"text-align: center;\">Tabla (2.1): Algunos tipos para los símbolos en Sympy y los argumentos que los definen</p>\n",
    "\n",
    "| Argumentos | Atributos | Descripción |\n",
    "| :--------- | :-------- | :---------- |\n",
    "| `real`, `imaginary` | `is_real`, `is_imaginary` | Permite especificar si un símbolo representa un número real o imaginario. |\n",
    "| `positive`, `negative` | `is_positive`, `is_negative` | Especifica si un símbolo es positivo o negativo. |\n",
    "| `integer` | `is_integer` | Especifica si el símbolo es un entero. |\n",
    "| `odd`, `even` | `is_odd`, `is_even` | Especifica si un símbolo es un entero par o impar. |\n",
    "| `prime` | `is_prime` | Especifica si el símbolo es un número primo (y por tanto un entero). |\n",
    "| `finite`, `infinite` | `is_finite`, `is_infinite` | Especifica si el símbolo representa una cantidad que es finita o infinita. |\n",
    "\n",
    "Entre todos los tipos de símbolos que podemos crear (algunos de los cuales hemos explicitado en la Tabla (2.1)), indudablemente los atributos más importantes serán `real` y `positive`; es decir, si el símbolo representa (o no) un número real y positivo. Cuando aplican, la adición de estos supuestos puede, con frecuencia, ayudar a **Sympy** a simplificar varios tipos de expresiones. Consideremos el siguiente ejemplo:"
   ]
  },
  {
   "cell_type": "code",
   "execution_count": 8,
   "id": "9c61659a",
   "metadata": {},
   "outputs": [],
   "source": [
    "# Definimos las variables simbólicas x e y.\n",
    "x = sympy.Symbol(\"x\")\n",
    "y = sympy.Symbol(\"y\", positive=True)"
   ]
  },
  {
   "cell_type": "code",
   "execution_count": 9,
   "id": "86389624",
   "metadata": {},
   "outputs": [
    {
     "data": {
      "image/png": "[encoded data removed]",
      "text/latex": [
       "$\\displaystyle \\sqrt{x^{2}}$"
      ],
      "text/plain": [
       "   ____\n",
       "  ╱  2 \n",
       "╲╱  x  "
      ]
     },
     "execution_count": 9,
     "metadata": {},
     "output_type": "execute_result"
    }
   ],
   "source": [
    "# Verificamos qué representa, simbólicamente, la raíz de x elevado al cuadrado.\n",
    "sympy.sqrt(x ** 2)"
   ]
  },
  {
   "cell_type": "code",
   "execution_count": 10,
   "id": "8b7e75ad",
   "metadata": {},
   "outputs": [
    {
     "data": {
      "image/png": "[encoded data removed]",
      "text/latex": [
       "$\\displaystyle y$"
      ],
      "text/plain": [
       "y"
      ]
     },
     "execution_count": 10,
     "metadata": {},
     "output_type": "execute_result"
    }
   ],
   "source": [
    "# Y verificamos qué representa, simbólicamente, la raíz de y elevado al cuadrado.\n",
    "sympy.sqrt(y ** 2)"
   ]
  },
  {
   "cell_type": "markdown",
   "id": "5e57842a",
   "metadata": {},
   "source": [
    "En las líneas de código anteriores, hemos creado dos variables simbólicas, $x$ e $y$, y hemos computado la raíz cuadrada de los cuadrados de ambas variables, usando la función `sympy.sqrt()`. Si no existe información relativa al símbolo en cuestión, no podemos hacer ningún tipo de simplificación sobre esta expresión (al menos, así lo *entiende* **Sympy**). Sin embargo, si la variable simbólica es real y positiva, por supuesto que es posible simplificar esta expresión, ya que $\\sqrt{y^{2}}=y$ para todo $y>0$, y eso es precisamente lo que **Sympy** reconoce.\n",
    "\n",
    "Cuando trabajamos con símbolos matemáticos que representan números enteros, resulta útil especificar en forma explícita usando los correspondientes argumentos. Esto, por supuesto, con el objetivo de simplificar ciertas expresiones. Por ejemplo:"
   ]
  },
  {
   "cell_type": "code",
   "execution_count": 11,
   "id": "3190165e",
   "metadata": {},
   "outputs": [],
   "source": [
    "# Definimos tres enteros, cada uno con ciertas condiciones.\n",
    "k = sympy.Symbol(\"k\")\n",
    "m = sympy.Symbol(\"m\", integer=True)\n",
    "n = sympy.Symbol(\"n\", odd=True)"
   ]
  },
  {
   "cell_type": "code",
   "execution_count": 12,
   "id": "a515bc76",
   "metadata": {},
   "outputs": [
    {
     "data": {
      "image/png": "[encoded data removed]",
      "text/latex": [
       "$\\displaystyle \\cos{\\left(\\pi k \\right)}$"
      ],
      "text/plain": [
       "cos(π⋅k)"
      ]
     },
     "execution_count": 12,
     "metadata": {},
     "output_type": "execute_result"
    }
   ],
   "source": [
    "# Computamos algunas expresiones con estas variables simbólicas. Primero para k.\n",
    "sympy.cos(k * sympy.pi)"
   ]
  },
  {
   "cell_type": "code",
   "execution_count": 13,
   "id": "a593b984",
   "metadata": {},
   "outputs": [
    {
     "data": {
      "image/png": "[encoded data removed]",
      "text/latex": [
       "$\\displaystyle \\left(-1\\right)^{m}$"
      ],
      "text/plain": [
       "    m\n",
       "(-1) "
      ]
     },
     "execution_count": 13,
     "metadata": {},
     "output_type": "execute_result"
    }
   ],
   "source": [
    "# Luego para m.\n",
    "sympy.cos(m * sympy.pi)"
   ]
  },
  {
   "cell_type": "code",
   "execution_count": 14,
   "id": "cb645032",
   "metadata": {},
   "outputs": [
    {
     "data": {
      "image/png": "[encoded data removed]",
      "text/latex": [
       "$\\displaystyle -1$"
      ],
      "text/plain": [
       "-1"
      ]
     },
     "execution_count": 14,
     "metadata": {},
     "output_type": "execute_result"
    }
   ],
   "source": [
    "# Y finalmente para n.\n",
    "sympy.cos(n * sympy.pi)"
   ]
  },
  {
   "cell_type": "markdown",
   "id": "d8f7220d",
   "metadata": {},
   "source": [
    "Comprobamos pues que, dependiendo de las propiedades que hemos supuesto para cada variable simbólica, **Sympy** tendrá más o menos opciones para construir simplificaciones de las expresiones simbólicas que queramos computar.\n",
    "\n",
    "Para formular un problema matemático que, con frecuencia, no es trivial, será necesario definir una gran cantidad de símbolos. El uso de la clase `sympy.Symbol` para especificar cada símbolo, uno por uno, puede volverse un proceso tedioso y, por conveniencia, **Sympy** nos provee de la función `sympy.symbols()` para crear múltiples símbolos de una sola vez. Esta función recibe como argumento un string donde cada símbolo a definir se separa por comas dentro del mismo string, así como un conjunto arbitrario de argumentos que especifiquen los tipos asociados a cada variable simbólica (si tales tipos aplican). Por ejemplo:"
   ]
  },
  {
   "cell_type": "code",
   "execution_count": 15,
   "id": "efca4283",
   "metadata": {},
   "outputs": [],
   "source": [
    "# Definimos tres variables simbólicas negativas.\n",
    "x, y, z = sympy.symbols(\"x, y, z\", negative=True)"
   ]
  },
  {
   "cell_type": "code",
   "execution_count": 16,
   "id": "36bb50c1",
   "metadata": {},
   "outputs": [],
   "source": [
    "# Definimos tres variables simbólicas positivas.\n",
    "u, v, w = sympy.symbols(\"u, v, w\", positive=True)"
   ]
  },
  {
   "cell_type": "markdown",
   "id": "c3b611a8",
   "metadata": {},
   "source": [
    "## Números.\n",
    "El propósito de representar símbolos matemáticos mediante objetos de Python es para usarlos en **árboles de cómputo** que representen expresiones matemáticas. Para ello, también necesitamos representar otros objetos matemáticos, tales como números, funciones y constantes. La creación de números, puntualmente, comparte muchas de las propiedades de los símbolos de **Sympy**, lo que nos permite tratar a ambos objetos de manera más o menos equitativa cuando construimos expresiones con ellos.\n",
    "\n",
    "Por ejemplo, previamente, vimos que las instancias de `sympy.Symbol` tienen atributos que permiten consultar ciertas propiedades de la variable simbólica en cuestión (por ejemplo, `is_real`). Queremos usar este mismo tipo de atributos para todos nuestros objetos, incluyendo números enteros y de punto flotante, cuando manipulemos expresiones simbólicas de **Sympy**. Por esta razón, no podemos utilizar de manera directa los objetos nativos de Python que permiten construir este tipo de números (por ejemplo, `int` o `float`). En vez de ello, **Sympy** nos provee de las clases `sympy.Integer` y `sympy.Float`, los que representan números enteros y de punto flotante en su framework. Es importante tener siempre presente esta distinción en mente, aunque rara vez haremos uso explícito de estas clases, puesto que **Sympy** automáticamente crea instancias de estas clases cuando ocurren al usar esta librería en cómputos simbólicos. Sin embargo, para demostrar la diferencia entre números enteros y de punto flotante nativos de Python y provistos por **Sympy**, haremos uso explícito de estas clases:"
   ]
  },
  {
   "cell_type": "code",
   "execution_count": 17,
   "id": "2be4dec2",
   "metadata": {},
   "outputs": [],
   "source": [
    "# Creamos un entero k.\n",
    "k = sympy.Integer(19)"
   ]
  },
  {
   "cell_type": "code",
   "execution_count": 18,
   "id": "53a15ac1",
   "metadata": {},
   "outputs": [
    {
     "data": {
      "text/plain": [
       "sympy.core.numbers.Integer"
      ]
     },
     "execution_count": 18,
     "metadata": {},
     "output_type": "execute_result"
    }
   ],
   "source": [
    "# Verificamos el tipo de k.\n",
    "type(k)"
   ]
  },
  {
   "cell_type": "code",
   "execution_count": 19,
   "id": "8f49d8c5",
   "metadata": {},
   "outputs": [
    {
     "data": {
      "text/plain": [
       "(True, True, True)"
      ]
     },
     "execution_count": 19,
     "metadata": {},
     "output_type": "execute_result"
    }
   ],
   "source": [
    "# Consultamos algunos atributos de k.\n",
    "k.is_integer, k.is_odd, k.is_real"
   ]
  },
  {
   "cell_type": "code",
   "execution_count": 20,
   "id": "286258e6",
   "metadata": {},
   "outputs": [],
   "source": [
    "# Creamos un número de punto flotante p.\n",
    "p = sympy.Float(4.7846593)"
   ]
  },
  {
   "cell_type": "code",
   "execution_count": 21,
   "id": "823ead21",
   "metadata": {},
   "outputs": [
    {
     "data": {
      "text/plain": [
       "sympy.core.numbers.Float"
      ]
     },
     "execution_count": 21,
     "metadata": {},
     "output_type": "execute_result"
    }
   ],
   "source": [
    "# Verificamos el tipo de p.\n",
    "type(p)"
   ]
  },
  {
   "cell_type": "code",
   "execution_count": 22,
   "id": "a2898821",
   "metadata": {},
   "outputs": [
    {
     "data": {
      "text/plain": [
       "(False, False, True)"
      ]
     },
     "execution_count": 22,
     "metadata": {},
     "output_type": "execute_result"
    }
   ],
   "source": [
    "# Consultamos algunos atributos de p.\n",
    "p.is_integer, p.is_odd, p.is_real"
   ]
  },
  {
   "cell_type": "markdown",
   "id": "a1cd2251",
   "metadata": {},
   "source": [
    "Siempre podremos *traer* instancias de `sympy.Integer` y `sympy.Float` de vuelta a sus correspondientes equivalentes de Python usando las funciones nativas `int()` y `float()`.\n",
    "\n",
    "Para crear una representación en **Sympy** de un número o, en general, de una expresión arbitraria, podemos usar igualmente la función `sympy.sympify()`. Dicha función toma un amplio rango de entradas y permite derivar una expresión compatible con **Sympy**, eliminando la necesidad de especificar explícitamente qué tipos de objetos deben ser creados. Para el caso sencillo de un input numérico, podemos utilizar:"
   ]
  },
  {
   "cell_type": "code",
   "execution_count": 23,
   "id": "f5e9fe97",
   "metadata": {},
   "outputs": [],
   "source": [
    "a1, a2 = sympy.sympify(20), sympy.sympify(4.7564)"
   ]
  },
  {
   "cell_type": "code",
   "execution_count": 24,
   "id": "dc317a4c",
   "metadata": {},
   "outputs": [
    {
     "data": {
      "text/plain": [
       "(sympy.core.numbers.Integer, sympy.core.numbers.Float)"
      ]
     },
     "execution_count": 24,
     "metadata": {},
     "output_type": "execute_result"
    }
   ],
   "source": [
    "type(a1), type(a2)"
   ]
  },
  {
   "cell_type": "markdown",
   "id": "fe001807",
   "metadata": {},
   "source": [
    "Y ahí lo tenemos: **Sympy** infiere los tipos asociados a cada número.\n",
    "\n",
    "### Enteros.\n",
    "Anteriormente hemos usado la clase `sympy.Integer` para representar enteros. Al respecto, vale la pena distinguir las diferencias que existen entre una instancia de `sympy.Symbol` con el argumento `integer=True`, y una instancia de `sympy.Integer`. Mientras que una variable simbólica definida mediante `sympy.Symbol` con `integer=True` representa *algún* entero, una instancia de `sympy.Integer` representa un entero específico. En ambos casos, el atributo `is_integer` nos devolverá el valor Booleano `True`, pero también existe un atributo `is_Integer` (sí, con \"I\" mayúscula), que únicamente es `True` para instancias de `sympy.Integer`. En general, atributos cuyo nombre es del tipo `is_Name` (con \"N\" mayúscula) indican si el objeto respectiivo es de tipo `sympy.Name`, mientras que atributos de tipo `is_name` indican si dicho objeto satisface una condición establecida cuyo nombre es `name`. De esta manera, también existe un atributo `is_Symbol` que devuelve el valor `True` para objetos instanciados a partir de la clase `sympy.Symbol`:"
   ]
  },
  {
   "cell_type": "code",
   "execution_count": 25,
   "id": "5aa5fbb6",
   "metadata": {},
   "outputs": [],
   "source": [
    "# Definimos la variable simbólica n.\n",
    "n = sympy.Symbol(\"n\", integer=True)"
   ]
  },
  {
   "cell_type": "code",
   "execution_count": 26,
   "id": "7e6d010c",
   "metadata": {},
   "outputs": [
    {
     "data": {
      "text/plain": [
       "(True, False, None, True)"
      ]
     },
     "execution_count": 26,
     "metadata": {},
     "output_type": "execute_result"
    }
   ],
   "source": [
    "# Consultamos algunos atributos de n.\n",
    "n.is_integer, n.is_Integer, n.is_positive, n.is_Symbol"
   ]
  },
  {
   "cell_type": "code",
   "execution_count": 27,
   "id": "b5b829c3",
   "metadata": {},
   "outputs": [],
   "source": [
    "# Definimos un entero específico.\n",
    "a1 = sympy.Integer(19)"
   ]
  },
  {
   "cell_type": "code",
   "execution_count": 28,
   "id": "abdacb59",
   "metadata": {},
   "outputs": [
    {
     "data": {
      "text/plain": [
       "(True, True, True, False)"
      ]
     },
     "execution_count": 28,
     "metadata": {},
     "output_type": "execute_result"
    }
   ],
   "source": [
    "# Consultamos algunos atributos específicos de a1.\n",
    "a1.is_integer, a1.is_Integer, a1.is_positive, a1.is_Symbol"
   ]
  },
  {
   "cell_type": "markdown",
   "id": "42a98368",
   "metadata": {},
   "source": [
    "Los enteros en **Sympy** tienen una precisión arbitraria, lo que significa que no existen cotas superiores ni inferiores para limitar las cantidades que éstos pueden representar (lo que difiere de los tipos de datos vistos en **Numpy**). Por lo tanto, es posible trabajar en **Sympy** con números muy grandes:"
   ]
  },
  {
   "cell_type": "code",
   "execution_count": 29,
   "id": "0602b93e",
   "metadata": {},
   "outputs": [
    {
     "data": {
      "image/png": "[encoded data removed]",
      "text/latex": [
       "$\\displaystyle 53114861964971781805211413858120662813570892087695571452312606929382350146801$"
      ],
      "text/plain": [
       "53114861964971781805211413858120662813570892087695571452312606929382350146801"
      ]
     },
     "execution_count": 29,
     "metadata": {},
     "output_type": "execute_result"
    }
   ],
   "source": [
    "# Un número extremadamente grande.\n",
    "a1 ** 60"
   ]
  },
  {
   "cell_type": "code",
   "execution_count": 30,
   "id": "1bbb5862",
   "metadata": {},
   "outputs": [
    {
     "data": {
      "image/png": "[encoded data removed]",
      "text/latex": [
       "$\\displaystyle 8320987112741390144276341183223364380754172606361245952449277696409600000000000000$"
      ],
      "text/plain": [
       "8320987112741390144276341183223364380754172606361245952449277696409600000000000000"
      ]
     },
     "execution_count": 30,
     "metadata": {},
     "output_type": "execute_result"
    }
   ],
   "source": [
    "# Otro número muy muy grande.\n",
    "sympy.factorial(60)"
   ]
  },
  {
   "cell_type": "markdown",
   "id": "d18ca249",
   "metadata": {},
   "source": [
    "### Números de punto flotante.\n",
    "También hemos hecho uso de la clase `sympy.Float` para definir números de punto flotante específicos. Como en el caso de la clase `sympy.Integer`, `sympy.Float` también permite generar números con precisión arbitraria (en este caso, representada por un número arbitrario de decimales). Cuando creamos una instancia de `sympy.Float` usando su constructor correspondiente, usualmente imputamos dos entradas: La primera es un número de punto flotante (escrito en Python) o un string que representa un número de punto flotante, y la segunda (que es opcional) corresponde a la precisión (número de decimales significativos) del objeto a instanciar. Por ejemplo, sabemos que el número real 0.8 no puede ser representado de manera exacta por medio de un número de punto flotante de tamaño fijo, y cuando imprimimos en pantalla 0.8 con 25 dígitos decimales significativos, este número se muestra como 0.8000000000000000444089210. La clase `sympy.Float` puede representar números reales sin estos problemas:"
   ]
  },
  {
   "cell_type": "code",
   "execution_count": 31,
   "id": "bad00aba",
   "metadata": {},
   "outputs": [
    {
     "data": {
      "text/plain": [
       "'0.8000000000000000444089210'"
      ]
     },
     "execution_count": 31,
     "metadata": {},
     "output_type": "execute_result"
    }
   ],
   "source": [
    "# Representación de punto flotante del número 0.8 con 25 dígitos decimales significativos.\n",
    "\"%.25f\" % 0.8"
   ]
  },
  {
   "cell_type": "code",
   "execution_count": 32,
   "id": "c58a840f",
   "metadata": {},
   "outputs": [
    {
     "data": {
      "image/png": "[encoded data removed]",
      "text/latex": [
       "$\\displaystyle 0.8$"
      ],
      "text/plain": [
       "0.8000000"
      ]
     },
     "execution_count": 32,
     "metadata": {},
     "output_type": "execute_result"
    }
   ],
   "source": [
    "# Representación de punto flotante del número 0.8 en Sympy con 25 dígitos decimales significativos.\n",
    "sympy.Float(\"0.8\", precision=25)"
   ]
  },
  {
   "cell_type": "markdown",
   "id": "f47e1e11",
   "metadata": {},
   "source": [
    "### Números racionales.\n",
    "Un número racional corresponde a una fracción del tipo $p/q$, donde $p, q\\in \\mathbb{Z}$ y $q\\neq 0$. **Sympy** representa este tipo de números usando la clase `sympy.Rational`. Los números racionales pueden crearse de forma explícita especificando el numerador y denominador respectivo:"
   ]
  },
  {
   "cell_type": "code",
   "execution_count": 33,
   "id": "427914f0",
   "metadata": {},
   "outputs": [
    {
     "data": {
      "image/png": "[encoded data removed]",
      "text/latex": [
       "$\\displaystyle \\frac{1}{3}$"
      ],
      "text/plain": [
       "1/3"
      ]
     },
     "execution_count": 33,
     "metadata": {},
     "output_type": "execute_result"
    }
   ],
   "source": [
    "# Creación de un número racional en Sympy.\n",
    "sympy.Rational(1, 3)"
   ]
  },
  {
   "cell_type": "markdown",
   "id": "5750e2d1",
   "metadata": {},
   "source": [
    "Es posible que existan operaciones en **Sympy** que den como resultado números racionales:"
   ]
  },
  {
   "cell_type": "code",
   "execution_count": 34,
   "id": "a4f9b975",
   "metadata": {},
   "outputs": [],
   "source": [
    "# Creamos un par de números racionales.\n",
    "r1 = sympy.Rational(1, 4)\n",
    "r2 = sympy.Rational(3, 24)"
   ]
  },
  {
   "cell_type": "code",
   "execution_count": 35,
   "id": "eda23520",
   "metadata": {},
   "outputs": [
    {
     "data": {
      "image/png": "[encoded data removed]",
      "text/latex": [
       "$\\displaystyle \\frac{1}{32}$"
      ],
      "text/plain": [
       "1/32"
      ]
     },
     "execution_count": 35,
     "metadata": {},
     "output_type": "execute_result"
    }
   ],
   "source": [
    "# Al operar con ellos, el resultado es otro número racional (simplificado).\n",
    "r1 * r2"
   ]
  },
  {
   "cell_type": "code",
   "execution_count": 36,
   "id": "8d8b5206",
   "metadata": {},
   "outputs": [
    {
     "data": {
      "image/png": "[encoded data removed]",
      "text/latex": [
       "$\\displaystyle 2$"
      ],
      "text/plain": [
       "2"
      ]
     },
     "execution_count": 36,
     "metadata": {},
     "output_type": "execute_result"
    }
   ],
   "source": [
    "# Y, a veces, un entero.\n",
    "r1 / r2"
   ]
  },
  {
   "cell_type": "markdown",
   "id": "979ed4ac",
   "metadata": {},
   "source": [
    "### Constantes y símbolos especiales.\n",
    "**Sympy** nos provee de símbolos predefinidos para varias constantes matemáticas y objetos matemáticos especiales, tales como la unidad imaginaria ($i$) o el símbolo infinito ($\\infty$). Estos objetos se resumen en la Tabla (2.2), junto con sus correspondientes símbolos en **Sympy**. Notemos que, en particular, la unidad imaginaria se escribe como `I` en **Sympy** (y no como `i`, como cabría esperar).\n",
    "\n",
    "</p> <p style=\"text-align: center;\">Tabla (2.2): Algunas constantes matemáticas y símbolos especiales y sus correspondientes definiciones en Sympy</p>\n",
    "\n",
    "| Símbolo matemático | Símbolo en **Sympy** | Descripción |\n",
    "| :----------------- | :------------------- | :---------- |\n",
    "| $\\pi$ | `sympi.pi` | Razon entre el perímetro y el diámetro de una circunferencia. |\n",
    "| $e$ | `sympy.E` | Base del logaritmo natural ($\\log{e}=1$). |\n",
    "| $\\gamma$ | `sympy.EulerGamma` | Constante de Euler-Mascheroni: $\\gamma =\\displaystyle \\lim_{n\\rightarrow +\\infty } \\left[ \\sum^{n}_{k=1} \\frac{1}{k} -\\log \\left( n\\right)  \\right]  =\\int^{+\\infty }_{1} \\left( \\frac{1}{\\left\\lfloor x\\right\\rfloor  } -\\frac{1}{x} \\right)  dx$. |\n",
    "| $i$ | `sympy.I` | Unidad imaginaria: $i=\\sqrt{-1}$. |\n",
    "| $\\infty$ | `sympy.oo` | Símbolo que designa una cantidad infinitamente grande. |\n",
    "\n",
    "## Funciones.\n",
    "En **Sympy**, los objetos que representan funciones pueden ser creados mediante la clase `sympy.Function`. Como en el caso de `sympy.Symbol`, este objeto toma un nombre como primer argumento. **Sympy** distingue entre funciones definidas y no definidas, así como aplicadas y no aplicadas. La creación de una función mediante la clase `sympy.Function` resulta en una función abstracta (no definida) y no aplicada, que tiene un nombre, pero no puede ser evaluada porque su correspondiente expresión (o fórmula) no está definida. Una función de **Sympy** así definida puede representar una función arbitraria con un número también arbitrario de variables de entrada, ya que ésta no se ha aplicado sobre ningún símbolo o variable en particular. Una función no aplicada puede aplicarse sobre un conjunto de símbolos de entrada que representan el dominio de la misma, llamando a la instancia de dicha función con esos símbolos como argumentos. El resultado de ésto sigue siendo una función que no ha sido evaluada, pero ya fue aplicada al conjunto de variables de entrada especificadas, y por tanto cuenta con un set de variables dependientes. Como ejemplo de estos conceptos, consideremos el siguiente bloque de código:"
   ]
  },
  {
   "cell_type": "code",
   "execution_count": 37,
   "id": "585cad52",
   "metadata": {},
   "outputs": [],
   "source": [
    "# Definimos una tripleta de variables simbólicas de Sympy.\n",
    "x, y, z = sympy.symbols(\"x, y, z\")"
   ]
  },
  {
   "cell_type": "code",
   "execution_count": 38,
   "id": "4588a63e",
   "metadata": {},
   "outputs": [],
   "source": [
    "# Definimos una función (abstracta) de estas tres variables,\n",
    "f = sympy.Function(\"f\")"
   ]
  },
  {
   "cell_type": "code",
   "execution_count": 39,
   "id": "b3c6660a",
   "metadata": {},
   "outputs": [
    {
     "data": {
      "text/plain": [
       "sympy.core.function.UndefinedFunction"
      ]
     },
     "execution_count": 39,
     "metadata": {},
     "output_type": "execute_result"
    }
   ],
   "source": [
    "# Verificamos el tipo de objeto que es f.\n",
    "type(f)"
   ]
  },
  {
   "cell_type": "code",
   "execution_count": 40,
   "id": "9e221163",
   "metadata": {},
   "outputs": [
    {
     "data": {
      "image/png": "[encoded data removed]",
      "text/latex": [
       "$\\displaystyle f{\\left(x \\right)}$"
      ],
      "text/plain": [
       "f(x)"
      ]
     },
     "execution_count": 40,
     "metadata": {},
     "output_type": "execute_result"
    }
   ],
   "source": [
    "# Correspondencia de f con uno de sus argumentos (en este caso, x).\n",
    "f(x)"
   ]
  },
  {
   "cell_type": "code",
   "execution_count": 41,
   "id": "d9494267",
   "metadata": {},
   "outputs": [],
   "source": [
    "# Asignación de variables de entrada a una función g.\n",
    "g = sympy.Function(\"g\")(x, y, z)"
   ]
  },
  {
   "cell_type": "code",
   "execution_count": 42,
   "id": "f94468f5",
   "metadata": {},
   "outputs": [
    {
     "data": {
      "image/png": "[encoded data removed]",
      "text/latex": [
       "$\\displaystyle g{\\left(x,y,z \\right)}$"
      ],
      "text/plain": [
       "g(x, y, z)"
      ]
     },
     "execution_count": 42,
     "metadata": {},
     "output_type": "execute_result"
    }
   ],
   "source": [
    "# Correspondencia de estas variables de entrada con respecto a la función g.\n",
    "g"
   ]
  },
  {
   "cell_type": "code",
   "execution_count": 43,
   "id": "a767dd11",
   "metadata": {},
   "outputs": [
    {
     "data": {
      "image/png": "[encoded data removed]",
      "text/latex": [
       "$\\displaystyle \\left\\{x, y, z\\right\\}$"
      ],
      "text/plain": [
       "{x, y, z}"
      ]
     },
     "execution_count": 43,
     "metadata": {},
     "output_type": "execute_result"
    }
   ],
   "source": [
    "# Verificamos las variables (libres) de entrada de la función g.\n",
    "g.free_symbols"
   ]
  },
  {
   "cell_type": "markdown",
   "id": "753f4b42",
   "metadata": {},
   "source": [
    "En el bloque de código anterior hemos usado el atributo `free_symbols`, el cual retorna un conjunto de símbolos únicos que están contenidos en una expresión dada (en este caso, la función aplicada, no definida, `g`), a fin de demostrar que una función aplicada indudablemente está asociada con un conjunto específico de variables simbólicas de entrada. Más adelante daremos sentido a la importancia de este hecho, cuando consideremos derivadas de funciones abstractas. Una aplicación importante de las funciones de este tipo estriba en la especificación de ecuaciones diferenciales o, en palabras más sencillas, cuando una ecuación para una función es conocida, pero la función en sí misma no lo es.\n",
    "\n",
    "En contraste con las funciones no definidas, una función definida es una función tal que ésta posee una implementación específica y que puede ser evaluada numéricamente para todo parámetro de entrada válido. **Sympy** dispone de funciones nativas para muchas funciones matemáticas estándar (por ejemplo, hay módulos tales como `sympy.functions.elementary` y `sympy.functions.special`) que pueden aplicarse de manera sencilla:"
   ]
  },
  {
   "cell_type": "code",
   "execution_count": 44,
   "id": "d97ab6c5",
   "metadata": {},
   "outputs": [
    {
     "data": {
      "text/plain": [
       "cos"
      ]
     },
     "execution_count": 44,
     "metadata": {},
     "output_type": "execute_result"
    }
   ],
   "source": [
    "# La función coseno aplicada desde Sympy.\n",
    "sympy.cos"
   ]
  },
  {
   "cell_type": "code",
   "execution_count": 45,
   "id": "09080695",
   "metadata": {},
   "outputs": [
    {
     "data": {
      "text/plain": [
       "cos"
      ]
     },
     "execution_count": 45,
     "metadata": {},
     "output_type": "execute_result"
    }
   ],
   "source": [
    "# Y también desde el módulo scipy.functions.elementary.\n",
    "sympy.functions.elementary.trigonometric.cos"
   ]
  },
  {
   "cell_type": "code",
   "execution_count": 46,
   "id": "24486d9c",
   "metadata": {},
   "outputs": [
    {
     "data": {
      "image/png": "[encoded data removed]",
      "text/latex": [
       "$\\displaystyle \\cos{\\left(x \\right)}$"
      ],
      "text/plain": [
       "cos(x)"
      ]
     },
     "execution_count": 46,
     "metadata": {},
     "output_type": "execute_result"
    }
   ],
   "source": [
    "# Función coseno completamente abstracta.\n",
    "sympy.cos(x)"
   ]
  },
  {
   "cell_type": "code",
   "execution_count": 47,
   "id": "d497d5c9",
   "metadata": {},
   "outputs": [
    {
     "data": {
      "image/png": "[encoded data removed]",
      "text/latex": [
       "$\\displaystyle \\frac{\\sqrt{2}}{2}$"
      ],
      "text/plain": [
       "√2\n",
       "──\n",
       "2 "
      ]
     },
     "execution_count": 47,
     "metadata": {},
     "output_type": "execute_result"
    }
   ],
   "source": [
    "# Función coseno evaluada directamente sobre un valor determinado.\n",
    "sympy.cos(sympy.pi / 4)"
   ]
  },
  {
   "cell_type": "markdown",
   "id": "fb4ac8e3",
   "metadata": {},
   "source": [
    "Cuando se aplica sobre un símbolo abstracto, como `x`, la función `sympy.cos()` conforma una función que no ha sido evaluada, pero cuando es posible, se puede evaluar sobre algún valor numérico específico:"
   ]
  },
  {
   "cell_type": "code",
   "execution_count": 48,
   "id": "f1775576",
   "metadata": {},
   "outputs": [],
   "source": [
    "# Definimos una variable entera n.\n",
    "n = sympy.Symbol(\"n\", integer=True)"
   ]
  },
  {
   "cell_type": "code",
   "execution_count": 49,
   "id": "8d0dcfee",
   "metadata": {},
   "outputs": [
    {
     "data": {
      "image/png": "[encoded data removed]",
      "text/latex": [
       "$\\displaystyle \\left(-1\\right)^{n}$"
      ],
      "text/plain": [
       "    n\n",
       "(-1) "
      ]
     },
     "execution_count": 49,
     "metadata": {},
     "output_type": "execute_result"
    }
   ],
   "source": [
    "# Calculamos el valor de la función coseno evaluada sobre un múltiplo n de sympy.pi/2.\n",
    "sympy.cos(sympy.pi * n)"
   ]
  },
  {
   "cell_type": "markdown",
   "id": "3c5a9e47",
   "metadata": {},
   "source": [
    "Un tercer tipo de función en **Sympy** corresponde a las funciones de tipo lambda, o funciones anónimas, en un sentido similar al de las funciones `lambda` en Python. Estas funciones son anónimas porque no tienen un nombre asignado, pero sí tienen un cuerpo bien definido que podemos evaluar. Este tipo de funciones se definen por medio de la clase `sympy.Lambda`:"
   ]
  },
  {
   "cell_type": "code",
   "execution_count": 50,
   "id": "126c5a60",
   "metadata": {},
   "outputs": [],
   "source": [
    "# Una función anónima en Sympy.\n",
    "h = sympy.Lambda(x, 1 + x**2)"
   ]
  },
  {
   "cell_type": "code",
   "execution_count": 51,
   "id": "f96fd492",
   "metadata": {},
   "outputs": [
    {
     "data": {
      "image/png": "[encoded data removed]",
      "text/latex": [
       "$\\displaystyle \\left( x \\mapsto x^{2} + 1 \\right)$"
      ],
      "text/plain": [
       "     2    \n",
       "x ↦ x  + 1"
      ]
     },
     "execution_count": 51,
     "metadata": {},
     "output_type": "execute_result"
    }
   ],
   "source": [
    "# Mostramos en pantalla esta función.\n",
    "h"
   ]
  },
  {
   "cell_type": "code",
   "execution_count": 52,
   "id": "ed827f47",
   "metadata": {},
   "outputs": [
    {
     "data": {
      "image/png": "[encoded data removed]",
      "text/latex": [
       "$\\displaystyle 37$"
      ],
      "text/plain": [
       "37"
      ]
     },
     "execution_count": 52,
     "metadata": {},
     "output_type": "execute_result"
    }
   ],
   "source": [
    "# Evaluamos esta función en x = 6.\n",
    "h(6)"
   ]
  },
  {
   "cell_type": "code",
   "execution_count": 53,
   "id": "177f208d",
   "metadata": {},
   "outputs": [
    {
     "data": {
      "image/png": "[encoded data removed]",
      "text/latex": [
       "$\\displaystyle 1 + \\frac{1}{\\left(x^{2} - 1\\right)^{2}}$"
      ],
      "text/plain": [
       "        1    \n",
       "1 + ─────────\n",
       "            2\n",
       "    ⎛ 2    ⎞ \n",
       "    ⎝x  - 1⎠ "
      ]
     },
     "execution_count": 53,
     "metadata": {},
     "output_type": "execute_result"
    }
   ],
   "source": [
    "# Generamos una composición.\n",
    "h(1 / (x**2 - 1))"
   ]
  }
 ],
 "metadata": {
  "kernelspec": {
   "display_name": "Python 3 (ipykernel)",
   "language": "python",
   "name": "python3"
  },
  "language_info": {
   "codemirror_mode": {
    "name": "ipython",
    "version": 3
   },
   "file_extension": ".py",
   "mimetype": "text/x-python",
   "name": "python",
   "nbconvert_exporter": "python",
   "pygments_lexer": "ipython3",
   "version": "3.9.16"
  }
 },
 "nbformat": 4,
 "nbformat_minor": 5
}
