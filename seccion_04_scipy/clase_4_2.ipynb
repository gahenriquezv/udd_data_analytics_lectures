{
 "cells": [
  {
   "cell_type": "markdown",
   "id": "3569fe0b",
   "metadata": {},
   "source": [
    "# CLASE 4.2: INTRODUCCIÓN A LA COMPUTACIÓN SIMBÓLICA CON SYMPY.\n",
    "---\n",
    "## Introducción.\n",
    "La computación simbólica corresponde a un paradigma de computación completamente diferente al basado en arreglos numéricos que hemos estado desarrollando durante la asignatura. En un software de computación simbólica (conocidos popularmente como sistemas de álgebra computacional, o CAS), las representaciones de objetos matemáticos y expresiones se manipulan y transforman analíticamente, de la misma forma en que haríamos cálculos con lápiz y papel, aunque -por supuesto- con un alcance mucho mayor. Por tanto, la computación simbólica constituye una fantástica herramienta para el chequeo y *debugging* de cálculos analíticos hechos a mano y, más importante aún, para llevar a cabo análisis que, de otro modo, serían imposibles de realizar.\n",
    "\n",
    "La computacional simbólica es un elemento clave de la computación científica, e incluso para problemas que pueden ser resueltos únicamente mediante métodos numéricos (lo que es muy común en el campo de la ciencia de datos), podemos hacer una gran diferencia al llegar a los límites de los cálculos analíticos que pueden realizarse antes de proceder a la implementación de técnicas numéricas. Aquello puede, por ejemplo, reducir la complejidad o el tamaño de un problema previo a resolverlo numéricamente. En otras palabras, en vez de resolver un problema de manera inmediata mediante algún método numérico, las herramientas de computación simbólica nos permitirán simplificarlo primero.\n",
    "\n",
    "Existen algunas librerías de computación científica en Python, siendo **Sympy** (acrónimo de *Symbolic Python*), indudablemente, la más popular de todas. **Sympy** es una librería escrita completamente en Python y nos provee de herramientas para la resolución de un amplio rango de problemas de naturaleza analítica. Y en esta sección, nos dedicaremos a conocer en parte cómo hacer uso de **Sympy** para resolver este tipo de problemas. Esta librería no se encuentra incluida en algunas versiones de Anaconda, pero podemos instalarla fácilmente usando una terminal como sigue:\n",
    "\n",
    "`conda install sympy`\n",
    "\n",
    "En general, **Sympy** suele importarse de manera tal que tengamos acceso directo a todas sus funciones (mediante instrucciones del tipo `from sympy import *`). Sin embargo, a fin de tener claridad en relación a lo que hacemos, importaremos este módulo de manera directa, a fin de usar su nombre como prefijo para todas sus funciones (o bien, importaremos funciones específicas):"
   ]
  },
  {
   "cell_type": "code",
   "execution_count": 1,
   "id": "03f68235",
   "metadata": {},
   "outputs": [],
   "source": [
    "# Importamos Sympy.\n",
    "import sympy"
   ]
  },
  {
   "cell_type": "markdown",
   "id": "b86cb437",
   "metadata": {},
   "source": [
    "Haremos uso, en primera instancia, de la función `sympy.init_printing()`, la cual nos permitirá configurar el sistema de impresión en pantalla de **Sympy** para así renderizar expresiones matemáticas bastante bonitas a la vista, muy similares a las que podemos generar mediante el uso de LaTeX:"
   ]
  },
  {
   "cell_type": "code",
   "execution_count": 2,
   "id": "9e019b7a",
   "metadata": {},
   "outputs": [],
   "source": [
    "# Inicializamos el sistema de impresión de expresiones matemáticas.\n",
    "sympy.init_printing()"
   ]
  },
  {
   "cell_type": "markdown",
   "id": "a160fc94",
   "metadata": {},
   "source": [
    "**NOTA IMPORTANTE:** Notemos que **Numpy** y **Sympy**, como suele ocurrir con otras librerías de Python, nos proveen de muchas variables y funciones con el mismo nombre. Sin embargo, estos símbolos rara vez serán intercambiables. Por ejemplo, `numpy.pi` nos proveerá de un valor aproximado del número $\\pi$, mientras que `sympy.pi` nos proveerá de una representación simbólica de $\\pi$. Por lo tanto, es importante no mezclar ambas cosas.\n",
    "\n",
    "## Símbolos.\n",
    "Un atributo esencial de **Sympy** es la representación de símbolos matemáticos por medio de objetos de Python. En esta librería, por ejemplo, podemos utilizar la clase `sympy.Symbol` para este propósito. Una instancia de `sympy.Symbol` tiene siempre un nombre y un conjunto de atributos que describen sus propiedades, y métodos que permiten consultar tales propiedades y para operar sobre estos objetos simbólicos. Un símbolo por sí mismo no es de mucha utilidad, pero son utilizados como nodos en árboles completos que representan expresiones algebraicas. El paso cero a la hora de resolver un problema utilizando herramientas de **Sympy**, es precisamente crear símbolos para las variables matemáticas involucradas y las constantes que son necesarias para resolver dicho problema.\n",
    "\n",
    "El nombre de un símbolo se define siempre por medio de un string, el cual, de manera opcional, puede incluir sintaxis de LaTeX para forzar a **Sympy** a representar simbólicamente lo que nosotros queremos en un entorno potenciado por **IPython** (como un notebook de Jupyter). Este nombre se establece al crear el símbolo, y dicha creación puede hacerse de varias maneras, usando clases y funciones tales como `sympy.Symbol`, `sympy.symbols()` y `sympy.var()`. En general, es deseable asociar los símbolos creados en **Sympy** a variables de Python que tengan el mismo nombren(o lo más parecido posible). Por ejemplo, podemos crear un símbolo en **Sympy** que represente a una variable $x$, y luego asociarlo a un objeto de Python que llamamos `x`:"
   ]
  },
  {
   "cell_type": "code",
   "execution_count": 3,
   "id": "bf62749b",
   "metadata": {},
   "outputs": [],
   "source": [
    "# Nuestra primera variable en Sympy.\n",
    "x = sympy.Symbol(\"x\")"
   ]
  },
  {
   "cell_type": "markdown",
   "id": "b68ffbdf",
   "metadata": {},
   "source": [
    "La variable `x` ahora representa un símbolo matemático abstracto $x$ del cual sabemos muy poca información por defecto. En este punto, `x` podría representar, por ejemplo, un número real, un entero, un número complejo, una función, o cualquier otra entidad de naturaleza matemática. En muchos casos, es suficiente representar un símbolo matemático con este nivel de abstracción, pero a veces puede resultar necesario darle a **Sympy** pistas acerca del tipo de símbolo que estamos representando, lo que sinduda puede ayudar a **Sympy** a manipular de forma más eficiente expresiones analíticas. Podemos añadir varios supuestos que permitan describir las propiedades de un objeto simbólico mediante el uso de algunos argumentos propios de las funciones que crean estos símbolos (por ejemplo, `sympy.Symbol`). Por ejemplo, si tenemos una variable matemática $\\alpha$ que sabemos que es un número real, podemos usar el argumento Booleano `real` en la clase `sympy.Symbol` para definir dicha propiedad:"
   ]
  },
  {
   "cell_type": "code",
   "execution_count": 4,
   "id": "8b6fcda8",
   "metadata": {},
   "outputs": [],
   "source": [
    "# Creación de un símbolo que representa un número real.\n",
    "alpha = sympy.Symbol(r\"\\alpha\", real=True)"
   ]
  },
  {
   "cell_type": "code",
   "execution_count": 5,
   "id": "384e3c9c",
   "metadata": {},
   "outputs": [
    {
     "data": {
      "image/png": "[encoded data removed]",
      "text/latex": [
       "$\\displaystyle \\alpha$"
      ],
      "text/plain": [
       "\\alpha"
      ]
     },
     "execution_count": 5,
     "metadata": {},
     "output_type": "execute_result"
    }
   ],
   "source": [
    "# Mostramos el símbolo en pantalla.\n",
    "alpha"
   ]
  },
  {
   "cell_type": "markdown",
   "id": "c4fa11a8",
   "metadata": {},
   "source": [
    "Podemos consultar el atributo `is_real` del objeto anterior, a fin de confirmar que efectivamente dicho objeto representa un número real:"
   ]
  },
  {
   "cell_type": "code",
   "execution_count": 6,
   "id": "f89c9c09",
   "metadata": {},
   "outputs": [
    {
     "data": {
      "text/plain": [
       "True"
      ]
     },
     "execution_count": 6,
     "metadata": {},
     "output_type": "execute_result"
    }
   ],
   "source": [
    "# Comprobamos que este objeto es, en efecto, un número real.\n",
    "alpha.is_real"
   ]
  },
  {
   "cell_type": "markdown",
   "id": "a09eadbe",
   "metadata": {},
   "source": [
    "Si, por otro lado, si fuéramos a usar el atributo `is_real` para consultar el símbolo `x`, definido previamente, y para el cual no establecimos explícitamente que representa un número real (o de otro tipo), obtendríamos `None` como respuesta:"
   ]
  },
  {
   "cell_type": "code",
   "execution_count": 7,
   "id": "b45323d2",
   "metadata": {},
   "outputs": [
    {
     "data": {
      "text/plain": [
       "True"
      ]
     },
     "execution_count": 7,
     "metadata": {},
     "output_type": "execute_result"
    }
   ],
   "source": [
    "# Consultamos si x es un número real.\n",
    "x.is_real is None"
   ]
  },
  {
   "cell_type": "markdown",
   "id": "945d5c1e",
   "metadata": {},
   "source": [
    "Otros atributos que denotan el tipo de símbolo a definir se muestran en la Tabla (2.1).\n",
    "\n",
    "</p> <p style=\"text-align: center;\">Tabla (2.1): Algunos tipos para los símbolos en Sympy y los argumentos que los definen</p>\n",
    "\n",
    "| Argumentos | Atributos | Descripción |\n",
    "| :--------- | :-------- | :---------- |\n",
    "| `real`, `imaginary` | `is_real`, `is_imaginary` | Permite especificar si un símbolo representa un número real o imaginario. |\n",
    "| `positive`, `negative` | `is_positive`, `is_negative` | Especifica si un símbolo es positivo o negativo. |\n",
    "| `integer` | `is_integer` | Especifica si el símbolo es un entero. |\n",
    "| `odd`, `even` | `is_odd`, `is_even` | Especifica si un símbolo es un entero par o impar. |\n",
    "| `prime` | `is_prime` | Especifica si el símbolo es un número primo (y por tanto un entero). |\n",
    "| `finite`, `infinite` | `is_finite`, `is_infinite` | Especifica si el símbolo representa una cantidad que es finita o infinita. |\n",
    "\n",
    "Entre todos los tipos de símbolos que podemos crear (algunos de los cuales hemos explicitado en la Tabla (2.1)), indudablemente los atributos más importantes serán `real` y `positive`; es decir, si el símbolo representa (o no) un número real y positivo. Cuando aplican, la adición de estos supuestos puede, con frecuencia, ayudar a **Sympy** a simplificar varios tipos de expresiones. Consideremos el siguiente ejemplo:"
   ]
  },
  {
   "cell_type": "code",
   "execution_count": 8,
   "id": "7736c3b2",
   "metadata": {},
   "outputs": [],
   "source": [
    "# Definimos las variables simbólicas x e y.\n",
    "x = sympy.Symbol(\"x\")\n",
    "y = sympy.Symbol(\"y\", positive=True)"
   ]
  },
  {
   "cell_type": "code",
   "execution_count": 9,
   "id": "51aa4202",
   "metadata": {},
   "outputs": [
    {
     "data": {
      "image/png": "[encoded data removed]",
      "text/latex": [
       "$\\displaystyle \\sqrt{x^{2}}$"
      ],
      "text/plain": [
       "   ____\n",
       "  ╱  2 \n",
       "╲╱  x  "
      ]
     },
     "execution_count": 9,
     "metadata": {},
     "output_type": "execute_result"
    }
   ],
   "source": [
    "# Verificamos qué representa, simbólicamente, la raíz de x elevado al cuadrado.\n",
    "sympy.sqrt(x ** 2)"
   ]
  },
  {
   "cell_type": "code",
   "execution_count": 10,
   "id": "ab19a834",
   "metadata": {},
   "outputs": [
    {
     "data": {
      "image/png": "[encoded data removed]",
      "text/latex": [
       "$\\displaystyle y$"
      ],
      "text/plain": [
       "y"
      ]
     },
     "execution_count": 10,
     "metadata": {},
     "output_type": "execute_result"
    }
   ],
   "source": [
    "# Y verificamos qué representa, simbólicamente, la raíz de y elevado al cuadrado.\n",
    "sympy.sqrt(y ** 2)"
   ]
  },
  {
   "cell_type": "markdown",
   "id": "ea8108af",
   "metadata": {},
   "source": [
    "En las líneas de código anteriores, hemos creado dos variables simbólicas, $x$ e $y$, y hemos computado la raíz cuadrada de los cuadrados de ambas variables, usando la función `sympy.sqrt()`. Si no existe información relativa al símbolo en cuestión, no podemos hacer ningún tipo de simplificación sobre esta expresión (al menos, así lo *entiende* **Sympy**). Sin embargo, si la variable simbólica es real y positiva, por supuesto que es posible simplificar esta expresión, ya que $\\sqrt{y^{2}}=y$ para todo $y>0$, y eso es precisamente lo que **Sympy** reconoce.\n",
    "\n",
    "Cuando trabajamos con símbolos matemáticos que representan números enteros, resulta útil especificar en forma explícita usando los correspondientes argumentos. Esto, por supuesto, con el objetivo de simplificar ciertas expresiones. Por ejemplo:"
   ]
  },
  {
   "cell_type": "code",
   "execution_count": 11,
   "id": "ccaa34e0",
   "metadata": {},
   "outputs": [],
   "source": [
    "# Definimos tres enteros, cada uno con ciertas condiciones.\n",
    "k = sympy.Symbol(\"k\")\n",
    "m = sympy.Symbol(\"m\", integer=True)\n",
    "n = sympy.Symbol(\"n\", odd=True)"
   ]
  },
  {
   "cell_type": "code",
   "execution_count": 12,
   "id": "559b6ef0",
   "metadata": {},
   "outputs": [
    {
     "data": {
      "image/png": "[encoded data removed]",
      "text/latex": [
       "$\\displaystyle \\cos{\\left(\\pi k \\right)}$"
      ],
      "text/plain": [
       "cos(π⋅k)"
      ]
     },
     "execution_count": 12,
     "metadata": {},
     "output_type": "execute_result"
    }
   ],
   "source": [
    "# Computamos algunas expresiones con estas variables simbólicas. Primero para k.\n",
    "sympy.cos(k * sympy.pi)"
   ]
  },
  {
   "cell_type": "code",
   "execution_count": 13,
   "id": "baa4dbf4",
   "metadata": {},
   "outputs": [
    {
     "data": {
      "image/png": "[encoded data removed]",
      "text/latex": [
       "$\\displaystyle \\left(-1\\right)^{m}$"
      ],
      "text/plain": [
       "    m\n",
       "(-1) "
      ]
     },
     "execution_count": 13,
     "metadata": {},
     "output_type": "execute_result"
    }
   ],
   "source": [
    "# Luego para m.\n",
    "sympy.cos(m * sympy.pi)"
   ]
  },
  {
   "cell_type": "code",
   "execution_count": 14,
   "id": "b7d6debf",
   "metadata": {},
   "outputs": [
    {
     "data": {
      "image/png": "[encoded data removed]",
      "text/latex": [
       "$\\displaystyle -1$"
      ],
      "text/plain": [
       "-1"
      ]
     },
     "execution_count": 14,
     "metadata": {},
     "output_type": "execute_result"
    }
   ],
   "source": [
    "# Y finalmente para n.\n",
    "sympy.cos(n * sympy.pi)"
   ]
  },
  {
   "cell_type": "markdown",
   "id": "b772e12d",
   "metadata": {},
   "source": [
    "Comprobamos pues que, dependiendo de las propiedades que hemos supuesto para cada variable simbólica, **Sympy** tendrá más o menos opciones para construir simplificaciones de las expresiones simbólicas que queramos computar.\n",
    "\n",
    "Para formular un problema matemático que, con frecuencia, no es trivial, será necesario definir una gran cantidad de símbolos. El uso de la clase `sympy.Symbol` para especificar cada símbolo, uno por uno, puede volverse un proceso tedioso y, por conveniencia, **Sympy** nos provee de la función `sympy.symbols()` para crear múltiples símbolos de una sola vez. Esta función recibe como argumento un string donde cada símbolo a definir se separa por comas dentro del mismo string, así como un conjunto arbitrario de argumentos que especifiquen los tipos asociados a cada variable simbólica (si tales tipos aplican). Por ejemplo:"
   ]
  },
  {
   "cell_type": "code",
   "execution_count": 15,
   "id": "98757313",
   "metadata": {},
   "outputs": [],
   "source": [
    "# Definimos tres variables simbólicas negativas.\n",
    "x, y, z = sympy.symbols(\"x, y, z\", negative=True)"
   ]
  },
  {
   "cell_type": "code",
   "execution_count": 16,
   "id": "8db743c7",
   "metadata": {},
   "outputs": [],
   "source": [
    "# Definimos tres variables simbólicas positivas.\n",
    "u, v, w = sympy.symbols(\"u, v, w\", positive=True)"
   ]
  },
  {
   "cell_type": "markdown",
   "id": "96c31f89",
   "metadata": {},
   "source": [
    "## Números.\n",
    "El propósito de representar símbolos matemáticos mediante objetos de Python es para usarlos en **árboles de cómputo** que representen expresiones matemáticas. Para ello, también necesitamos representar otros objetos matemáticos, tales como números, funciones y constantes. La creación de números, puntualmente, comparte muchas de las propiedades de los símbolos de **Sympy**, lo que nos permite tratar a ambos objetos de manera más o menos equitativa cuando construimos expresiones con ellos.\n",
    "\n",
    "Por ejemplo, previamente, vimos que las instancias de `sympy.Symbol` tienen atributos que permiten consultar ciertas propiedades de la variable simbólica en cuestión (por ejemplo, `is_real`). Queremos usar este mismo tipo de atributos para todos nuestros objetos, incluyendo números enteros y de punto flotante, cuando manipulemos expresiones simbólicas de **Sympy**. Por esta razón, no podemos utilizar de manera directa los objetos nativos de Python que permiten construir este tipo de números (por ejemplo, `int` o `float`). En vez de ello, **Sympy** nos provee de las clases `sympy.Integer` y `sympy.Float`, los que representan números enteros y de punto flotante en su framework. Es importante tener siempre presente esta distinción en mente, aunque rara vez haremos uso explícito de estas clases, puesto que **Sympy** automáticamente crea instancias de estas clases cuando ocurren al usar esta librería en cómputos simbólicos. Sin embargo, para demostrar la diferencia entre números enteros y de punto flotante nativos de Python y provistos por **Sympy**, haremos uso explícito de estas clases:"
   ]
  },
  {
   "cell_type": "code",
   "execution_count": 17,
   "id": "dde2486c",
   "metadata": {},
   "outputs": [],
   "source": [
    "# Creamos un entero k.\n",
    "k = sympy.Integer(19)"
   ]
  },
  {
   "cell_type": "code",
   "execution_count": 18,
   "id": "ae69ce40",
   "metadata": {},
   "outputs": [
    {
     "data": {
      "text/plain": [
       "sympy.core.numbers.Integer"
      ]
     },
     "execution_count": 18,
     "metadata": {},
     "output_type": "execute_result"
    }
   ],
   "source": [
    "# Verificamos el tipo de k.\n",
    "type(k)"
   ]
  },
  {
   "cell_type": "code",
   "execution_count": 19,
   "id": "bf88d295",
   "metadata": {},
   "outputs": [
    {
     "data": {
      "text/plain": [
       "(True, True, True)"
      ]
     },
     "execution_count": 19,
     "metadata": {},
     "output_type": "execute_result"
    }
   ],
   "source": [
    "# Consultamos algunos atributos de k.\n",
    "k.is_integer, k.is_odd, k.is_real"
   ]
  },
  {
   "cell_type": "code",
   "execution_count": 20,
   "id": "531ed356",
   "metadata": {},
   "outputs": [],
   "source": [
    "# Creamos un número de punto flotante p.\n",
    "p = sympy.Float(4.7846593)"
   ]
  },
  {
   "cell_type": "code",
   "execution_count": 21,
   "id": "b902f3ae",
   "metadata": {},
   "outputs": [
    {
     "data": {
      "text/plain": [
       "sympy.core.numbers.Float"
      ]
     },
     "execution_count": 21,
     "metadata": {},
     "output_type": "execute_result"
    }
   ],
   "source": [
    "# Verificamos el tipo de p.\n",
    "type(p)"
   ]
  },
  {
   "cell_type": "code",
   "execution_count": 22,
   "id": "091f8e46",
   "metadata": {},
   "outputs": [
    {
     "data": {
      "text/plain": [
       "(False, False, True)"
      ]
     },
     "execution_count": 22,
     "metadata": {},
     "output_type": "execute_result"
    }
   ],
   "source": [
    "# Consultamos algunos atributos de p.\n",
    "p.is_integer, p.is_odd, p.is_real"
   ]
  },
  {
   "cell_type": "markdown",
   "id": "05f0bdb7",
   "metadata": {},
   "source": [
    "Siempre podremos *traer* instancias de `sympy.Integer` y `sympy.Float` de vuelta a sus correspondientes equivalentes de Python usando las funciones nativas `int()` y `float()`."
   ]
  }
 ],
 "metadata": {
  "kernelspec": {
   "display_name": "Python 3 (ipykernel)",
   "language": "python",
   "name": "python3"
  },
  "language_info": {
   "codemirror_mode": {
    "name": "ipython",
    "version": 3
   },
   "file_extension": ".py",
   "mimetype": "text/x-python",
   "name": "python",
   "nbconvert_exporter": "python",
   "pygments_lexer": "ipython3",
   "version": "3.9.16"
  }
 },
 "nbformat": 4,
 "nbformat_minor": 5
}
